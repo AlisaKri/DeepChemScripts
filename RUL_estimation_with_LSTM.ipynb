{
  "nbformat": 4,
  "nbformat_minor": 0,
  "metadata": {
    "colab": {
      "name": "RUL_estimation with LSTM",
      "provenance": [],
      "collapsed_sections": [],
      "authorship_tag": "ABX9TyO70LUbyWJZ5o+Htb8wXJI4",
      "include_colab_link": true
    },
    "kernelspec": {
      "name": "python3",
      "display_name": "Python 3"
    },
    "language_info": {
      "name": "python"
    }
  },
  "cells": [
    {
      "cell_type": "markdown",
      "metadata": {
        "id": "view-in-github",
        "colab_type": "text"
      },
      "source": [
        "<a href=\"https://colab.research.google.com/github/AlisaKri/DeepChemScripts/blob/master/RUL_estimation_with_LSTM.ipynb\" target=\"_parent\"><img src=\"https://colab.research.google.com/assets/colab-badge.svg\" alt=\"Open In Colab\"/></a>"
      ]
    },
    {
      "cell_type": "code",
      "metadata": {
        "id": "uHAJdzx27WM9"
      },
      "source": [
        "import numpy as np\n",
        "import pandas as pd"
      ],
      "execution_count": 118,
      "outputs": []
    },
    {
      "cell_type": "code",
      "metadata": {
        "id": "1K-DqVYK8Ciz"
      },
      "source": [
        "data = pd.read_csv('train_rul.csv',sep=\",\")"
      ],
      "execution_count": 119,
      "outputs": []
    },
    {
      "cell_type": "code",
      "metadata": {
        "id": "VhpMA3-wIfxO"
      },
      "source": [
        "#check no garbage in RUL\n",
        "for index, row in data.iterrows():\n",
        "  if data.at[index, 'RUL'] < 0:\n",
        "    print(index)\n",
        "    print(data.at[index, 'RUL'])"
      ],
      "execution_count": null,
      "outputs": []
    },
    {
      "cell_type": "code",
      "metadata": {
        "colab": {
          "base_uri": "https://localhost:8080/"
        },
        "id": "99eUxrnjpELM",
        "outputId": "1ec1bff8-9d3f-4af6-d756-7d77998115c8"
      },
      "source": [
        "min(RUL)"
      ],
      "execution_count": null,
      "outputs": [
        {
          "output_type": "execute_result",
          "data": {
            "text/plain": [
              "128.0"
            ]
          },
          "metadata": {
            "tags": []
          },
          "execution_count": 186
        }
      ]
    },
    {
      "cell_type": "code",
      "metadata": {
        "colab": {
          "base_uri": "https://localhost:8080/"
        },
        "id": "pKlBsaTe9wis",
        "outputId": "572ede5f-4dad-4c7a-81c1-0de0625a563e"
      },
      "source": [
        "data.columns"
      ],
      "execution_count": null,
      "outputs": [
        {
          "output_type": "execute_result",
          "data": {
            "text/plain": [
              "Index(['Unnamed: 0', 'Engine', 'Cycle', ' Setting 1', 'Setting 2', 'Setting 3',\n",
              "       'Sensor 1', 'Sensor 2', 'Sensor 3', 'Sensor 4', 'Sensor 5', 'Sensor 6',\n",
              "       'Sensor 7', 'Sensor 8', 'Sensor 9', 'Sensor 10', 'Sensor 11',\n",
              "       'Sensor 12', 'Sensor 13', 'Sensor 14', 'Sensor 15', 'Sensor 16',\n",
              "       'Sensor 17', 'Sensor 18', 'Sensor 19', 'Sensor 20', 'Sensor 21', 'RUL'],\n",
              "      dtype='object')"
            ]
          },
          "metadata": {
            "tags": []
          },
          "execution_count": 4
        }
      ]
    },
    {
      "cell_type": "code",
      "metadata": {
        "colab": {
          "base_uri": "https://localhost:8080/",
          "height": 456
        },
        "id": "AchQz3j0_i-m",
        "outputId": "3bdbe7f1-1df2-412e-b016-0e6ef25182d5"
      },
      "source": [
        "data"
      ],
      "execution_count": 120,
      "outputs": [
        {
          "output_type": "execute_result",
          "data": {
            "text/html": [
              "<div>\n",
              "<style scoped>\n",
              "    .dataframe tbody tr th:only-of-type {\n",
              "        vertical-align: middle;\n",
              "    }\n",
              "\n",
              "    .dataframe tbody tr th {\n",
              "        vertical-align: top;\n",
              "    }\n",
              "\n",
              "    .dataframe thead th {\n",
              "        text-align: right;\n",
              "    }\n",
              "</style>\n",
              "<table border=\"1\" class=\"dataframe\">\n",
              "  <thead>\n",
              "    <tr style=\"text-align: right;\">\n",
              "      <th></th>\n",
              "      <th>Unnamed: 0</th>\n",
              "      <th>Engine</th>\n",
              "      <th>Cycle</th>\n",
              "      <th>Setting 1</th>\n",
              "      <th>Setting 2</th>\n",
              "      <th>Setting 3</th>\n",
              "      <th>Sensor 1</th>\n",
              "      <th>Sensor 2</th>\n",
              "      <th>Sensor 3</th>\n",
              "      <th>Sensor 4</th>\n",
              "      <th>Sensor 5</th>\n",
              "      <th>Sensor 6</th>\n",
              "      <th>Sensor 7</th>\n",
              "      <th>Sensor 8</th>\n",
              "      <th>Sensor 9</th>\n",
              "      <th>Sensor 10</th>\n",
              "      <th>Sensor 11</th>\n",
              "      <th>Sensor 12</th>\n",
              "      <th>Sensor 13</th>\n",
              "      <th>Sensor 14</th>\n",
              "      <th>Sensor 15</th>\n",
              "      <th>Sensor 16</th>\n",
              "      <th>Sensor 17</th>\n",
              "      <th>Sensor 18</th>\n",
              "      <th>Sensor 19</th>\n",
              "      <th>Sensor 20</th>\n",
              "      <th>Sensor 21</th>\n",
              "      <th>RUL</th>\n",
              "    </tr>\n",
              "  </thead>\n",
              "  <tbody>\n",
              "    <tr>\n",
              "      <th>0</th>\n",
              "      <td>0</td>\n",
              "      <td>1</td>\n",
              "      <td>1</td>\n",
              "      <td>10.0047</td>\n",
              "      <td>0.2501</td>\n",
              "      <td>20</td>\n",
              "      <td>489.05</td>\n",
              "      <td>604.13</td>\n",
              "      <td>1499.45</td>\n",
              "      <td>1309.95</td>\n",
              "      <td>10.52</td>\n",
              "      <td>15.49</td>\n",
              "      <td>394.88</td>\n",
              "      <td>2318.87</td>\n",
              "      <td>8770.20</td>\n",
              "      <td>1.26</td>\n",
              "      <td>45.40</td>\n",
              "      <td>372.15</td>\n",
              "      <td>2388.13</td>\n",
              "      <td>8120.83</td>\n",
              "      <td>8.6216</td>\n",
              "      <td>0.03</td>\n",
              "      <td>368</td>\n",
              "      <td>2319</td>\n",
              "      <td>100.00</td>\n",
              "      <td>28.58</td>\n",
              "      <td>17.1735</td>\n",
              "      <td>130.0</td>\n",
              "    </tr>\n",
              "    <tr>\n",
              "      <th>1</th>\n",
              "      <td>1</td>\n",
              "      <td>1</td>\n",
              "      <td>2</td>\n",
              "      <td>0.0015</td>\n",
              "      <td>0.0003</td>\n",
              "      <td>100</td>\n",
              "      <td>518.67</td>\n",
              "      <td>642.13</td>\n",
              "      <td>1584.55</td>\n",
              "      <td>1403.96</td>\n",
              "      <td>14.62</td>\n",
              "      <td>21.61</td>\n",
              "      <td>553.67</td>\n",
              "      <td>2388.01</td>\n",
              "      <td>9045.76</td>\n",
              "      <td>1.30</td>\n",
              "      <td>47.29</td>\n",
              "      <td>521.81</td>\n",
              "      <td>2388.15</td>\n",
              "      <td>8132.87</td>\n",
              "      <td>8.3907</td>\n",
              "      <td>0.03</td>\n",
              "      <td>391</td>\n",
              "      <td>2388</td>\n",
              "      <td>100.00</td>\n",
              "      <td>38.99</td>\n",
              "      <td>23.3619</td>\n",
              "      <td>130.0</td>\n",
              "    </tr>\n",
              "    <tr>\n",
              "      <th>2</th>\n",
              "      <td>2</td>\n",
              "      <td>1</td>\n",
              "      <td>3</td>\n",
              "      <td>34.9986</td>\n",
              "      <td>0.8401</td>\n",
              "      <td>60</td>\n",
              "      <td>449.44</td>\n",
              "      <td>555.42</td>\n",
              "      <td>1368.17</td>\n",
              "      <td>1122.49</td>\n",
              "      <td>5.48</td>\n",
              "      <td>8.00</td>\n",
              "      <td>194.93</td>\n",
              "      <td>2222.86</td>\n",
              "      <td>8343.91</td>\n",
              "      <td>1.02</td>\n",
              "      <td>41.92</td>\n",
              "      <td>183.26</td>\n",
              "      <td>2387.95</td>\n",
              "      <td>8063.84</td>\n",
              "      <td>9.3557</td>\n",
              "      <td>0.02</td>\n",
              "      <td>334</td>\n",
              "      <td>2223</td>\n",
              "      <td>100.00</td>\n",
              "      <td>14.83</td>\n",
              "      <td>8.8555</td>\n",
              "      <td>130.0</td>\n",
              "    </tr>\n",
              "    <tr>\n",
              "      <th>3</th>\n",
              "      <td>3</td>\n",
              "      <td>1</td>\n",
              "      <td>4</td>\n",
              "      <td>20.0031</td>\n",
              "      <td>0.7005</td>\n",
              "      <td>0</td>\n",
              "      <td>491.19</td>\n",
              "      <td>607.03</td>\n",
              "      <td>1488.44</td>\n",
              "      <td>1249.18</td>\n",
              "      <td>9.35</td>\n",
              "      <td>13.65</td>\n",
              "      <td>334.82</td>\n",
              "      <td>2323.85</td>\n",
              "      <td>8721.53</td>\n",
              "      <td>1.08</td>\n",
              "      <td>44.26</td>\n",
              "      <td>314.84</td>\n",
              "      <td>2388.07</td>\n",
              "      <td>8052.30</td>\n",
              "      <td>9.2231</td>\n",
              "      <td>0.02</td>\n",
              "      <td>364</td>\n",
              "      <td>2324</td>\n",
              "      <td>100.00</td>\n",
              "      <td>24.42</td>\n",
              "      <td>14.7832</td>\n",
              "      <td>130.0</td>\n",
              "    </tr>\n",
              "    <tr>\n",
              "      <th>4</th>\n",
              "      <td>4</td>\n",
              "      <td>1</td>\n",
              "      <td>5</td>\n",
              "      <td>42.0041</td>\n",
              "      <td>0.8405</td>\n",
              "      <td>40</td>\n",
              "      <td>445.00</td>\n",
              "      <td>549.52</td>\n",
              "      <td>1354.48</td>\n",
              "      <td>1124.32</td>\n",
              "      <td>3.91</td>\n",
              "      <td>5.71</td>\n",
              "      <td>138.24</td>\n",
              "      <td>2211.80</td>\n",
              "      <td>8314.56</td>\n",
              "      <td>1.02</td>\n",
              "      <td>41.79</td>\n",
              "      <td>130.44</td>\n",
              "      <td>2387.89</td>\n",
              "      <td>8083.67</td>\n",
              "      <td>9.2986</td>\n",
              "      <td>0.02</td>\n",
              "      <td>330</td>\n",
              "      <td>2212</td>\n",
              "      <td>100.00</td>\n",
              "      <td>10.99</td>\n",
              "      <td>6.4025</td>\n",
              "      <td>130.0</td>\n",
              "    </tr>\n",
              "    <tr>\n",
              "      <th>...</th>\n",
              "      <td>...</td>\n",
              "      <td>...</td>\n",
              "      <td>...</td>\n",
              "      <td>...</td>\n",
              "      <td>...</td>\n",
              "      <td>...</td>\n",
              "      <td>...</td>\n",
              "      <td>...</td>\n",
              "      <td>...</td>\n",
              "      <td>...</td>\n",
              "      <td>...</td>\n",
              "      <td>...</td>\n",
              "      <td>...</td>\n",
              "      <td>...</td>\n",
              "      <td>...</td>\n",
              "      <td>...</td>\n",
              "      <td>...</td>\n",
              "      <td>...</td>\n",
              "      <td>...</td>\n",
              "      <td>...</td>\n",
              "      <td>...</td>\n",
              "      <td>...</td>\n",
              "      <td>...</td>\n",
              "      <td>...</td>\n",
              "      <td>...</td>\n",
              "      <td>...</td>\n",
              "      <td>...</td>\n",
              "      <td>...</td>\n",
              "    </tr>\n",
              "    <tr>\n",
              "      <th>45913</th>\n",
              "      <td>45913</td>\n",
              "      <td>218</td>\n",
              "      <td>129</td>\n",
              "      <td>42.0066</td>\n",
              "      <td>0.8400</td>\n",
              "      <td>40</td>\n",
              "      <td>445.00</td>\n",
              "      <td>551.02</td>\n",
              "      <td>1365.27</td>\n",
              "      <td>1147.43</td>\n",
              "      <td>3.91</td>\n",
              "      <td>5.72</td>\n",
              "      <td>137.97</td>\n",
              "      <td>2211.33</td>\n",
              "      <td>8303.20</td>\n",
              "      <td>1.02</td>\n",
              "      <td>42.68</td>\n",
              "      <td>130.21</td>\n",
              "      <td>2387.39</td>\n",
              "      <td>8062.87</td>\n",
              "      <td>9.4672</td>\n",
              "      <td>0.02</td>\n",
              "      <td>333</td>\n",
              "      <td>2212</td>\n",
              "      <td>100.00</td>\n",
              "      <td>10.57</td>\n",
              "      <td>6.2985</td>\n",
              "      <td>4.0</td>\n",
              "    </tr>\n",
              "    <tr>\n",
              "      <th>45914</th>\n",
              "      <td>45914</td>\n",
              "      <td>218</td>\n",
              "      <td>130</td>\n",
              "      <td>42.0029</td>\n",
              "      <td>0.8415</td>\n",
              "      <td>40</td>\n",
              "      <td>445.00</td>\n",
              "      <td>550.07</td>\n",
              "      <td>1365.55</td>\n",
              "      <td>1142.21</td>\n",
              "      <td>3.91</td>\n",
              "      <td>5.71</td>\n",
              "      <td>137.56</td>\n",
              "      <td>2211.29</td>\n",
              "      <td>8302.69</td>\n",
              "      <td>1.02</td>\n",
              "      <td>42.62</td>\n",
              "      <td>130.24</td>\n",
              "      <td>2387.28</td>\n",
              "      <td>8062.05</td>\n",
              "      <td>9.4619</td>\n",
              "      <td>0.02</td>\n",
              "      <td>332</td>\n",
              "      <td>2212</td>\n",
              "      <td>100.00</td>\n",
              "      <td>10.40</td>\n",
              "      <td>6.2741</td>\n",
              "      <td>3.0</td>\n",
              "    </tr>\n",
              "    <tr>\n",
              "      <th>45915</th>\n",
              "      <td>45915</td>\n",
              "      <td>218</td>\n",
              "      <td>131</td>\n",
              "      <td>41.9999</td>\n",
              "      <td>0.8400</td>\n",
              "      <td>40</td>\n",
              "      <td>445.00</td>\n",
              "      <td>549.92</td>\n",
              "      <td>1359.21</td>\n",
              "      <td>1150.15</td>\n",
              "      <td>3.91</td>\n",
              "      <td>5.72</td>\n",
              "      <td>138.05</td>\n",
              "      <td>2211.24</td>\n",
              "      <td>8309.41</td>\n",
              "      <td>1.02</td>\n",
              "      <td>42.83</td>\n",
              "      <td>129.86</td>\n",
              "      <td>2387.33</td>\n",
              "      <td>8062.73</td>\n",
              "      <td>9.4827</td>\n",
              "      <td>0.02</td>\n",
              "      <td>334</td>\n",
              "      <td>2212</td>\n",
              "      <td>100.00</td>\n",
              "      <td>10.37</td>\n",
              "      <td>6.1978</td>\n",
              "      <td>2.0</td>\n",
              "    </tr>\n",
              "    <tr>\n",
              "      <th>45916</th>\n",
              "      <td>45916</td>\n",
              "      <td>218</td>\n",
              "      <td>132</td>\n",
              "      <td>35.0007</td>\n",
              "      <td>0.8419</td>\n",
              "      <td>60</td>\n",
              "      <td>449.44</td>\n",
              "      <td>556.55</td>\n",
              "      <td>1380.05</td>\n",
              "      <td>1145.49</td>\n",
              "      <td>5.48</td>\n",
              "      <td>8.00</td>\n",
              "      <td>194.59</td>\n",
              "      <td>2222.54</td>\n",
              "      <td>8330.67</td>\n",
              "      <td>1.02</td>\n",
              "      <td>42.61</td>\n",
              "      <td>182.03</td>\n",
              "      <td>2387.56</td>\n",
              "      <td>8043.21</td>\n",
              "      <td>9.4212</td>\n",
              "      <td>0.02</td>\n",
              "      <td>337</td>\n",
              "      <td>2223</td>\n",
              "      <td>100.00</td>\n",
              "      <td>14.70</td>\n",
              "      <td>8.6761</td>\n",
              "      <td>1.0</td>\n",
              "    </tr>\n",
              "    <tr>\n",
              "      <th>45917</th>\n",
              "      <td>45917</td>\n",
              "      <td>218</td>\n",
              "      <td>133</td>\n",
              "      <td>25.0071</td>\n",
              "      <td>0.6216</td>\n",
              "      <td>80</td>\n",
              "      <td>462.54</td>\n",
              "      <td>537.46</td>\n",
              "      <td>1274.65</td>\n",
              "      <td>1068.77</td>\n",
              "      <td>7.05</td>\n",
              "      <td>9.03</td>\n",
              "      <td>175.15</td>\n",
              "      <td>1914.86</td>\n",
              "      <td>7991.49</td>\n",
              "      <td>0.94</td>\n",
              "      <td>37.50</td>\n",
              "      <td>164.18</td>\n",
              "      <td>2027.75</td>\n",
              "      <td>7859.24</td>\n",
              "      <td>10.9748</td>\n",
              "      <td>0.02</td>\n",
              "      <td>310</td>\n",
              "      <td>1915</td>\n",
              "      <td>84.93</td>\n",
              "      <td>14.19</td>\n",
              "      <td>8.5120</td>\n",
              "      <td>0.0</td>\n",
              "    </tr>\n",
              "  </tbody>\n",
              "</table>\n",
              "<p>45918 rows × 28 columns</p>\n",
              "</div>"
            ],
            "text/plain": [
              "       Unnamed: 0  Engine  Cycle  ...  Sensor 20  Sensor 21    RUL\n",
              "0               0       1      1  ...      28.58    17.1735  130.0\n",
              "1               1       1      2  ...      38.99    23.3619  130.0\n",
              "2               2       1      3  ...      14.83     8.8555  130.0\n",
              "3               3       1      4  ...      24.42    14.7832  130.0\n",
              "4               4       1      5  ...      10.99     6.4025  130.0\n",
              "...           ...     ...    ...  ...        ...        ...    ...\n",
              "45913       45913     218    129  ...      10.57     6.2985    4.0\n",
              "45914       45914     218    130  ...      10.40     6.2741    3.0\n",
              "45915       45915     218    131  ...      10.37     6.1978    2.0\n",
              "45916       45916     218    132  ...      14.70     8.6761    1.0\n",
              "45917       45917     218    133  ...      14.19     8.5120    0.0\n",
              "\n",
              "[45918 rows x 28 columns]"
            ]
          },
          "metadata": {
            "tags": []
          },
          "execution_count": 120
        }
      ]
    },
    {
      "cell_type": "code",
      "metadata": {
        "id": "D_ZFTG5C-yE9"
      },
      "source": [
        "#build the RUL list\n",
        "engine_old = 1\n",
        "cycle_old = 1\n",
        "RUL = []\n",
        "for index, row in data.iterrows():\n",
        "  engine = row['Engine']\n",
        "  cycle = row['Cycle']\n",
        "  if engine > engine_old :\n",
        "    RUL.append(cycle_old)\n",
        "    engine_old = engine\n",
        "    cycle_old = cycle\n",
        "  else:\n",
        "    cycle_old = cycle\n",
        "#add the last cycle to RUL\n",
        "RUL.append(data['Cycle'].iloc[-1])\n",
        "\n",
        "\n",
        "\n"
      ],
      "execution_count": 121,
      "outputs": []
    },
    {
      "cell_type": "code",
      "metadata": {
        "id": "dbGkbgFLCzpo"
      },
      "source": [
        ""
      ],
      "execution_count": null,
      "outputs": []
    },
    {
      "cell_type": "code",
      "metadata": {
        "colab": {
          "base_uri": "https://localhost:8080/"
        },
        "id": "S0KaD70WA1OG",
        "outputId": "d08341c9-9bd4-491d-d8a1-b1e3e54c7585"
      },
      "source": [
        "print(RUL)"
      ],
      "execution_count": 122,
      "outputs": [
        {
          "output_type": "stream",
          "text": [
            "[223.0, 164.0, 150.0, 159.0, 357.0, 225.0, 168.0, 276.0, 181.0, 228.0, 210.0, 242.0, 210.0, 147.0, 178.0, 172.0, 228.0, 196.0, 167.0, 154.0, 205.0, 203.0, 213.0, 191.0, 281.0, 210.0, 178.0, 278.0, 228.0, 200.0, 283.0, 193.0, 286.0, 286.0, 188.0, 147.0, 177.0, 287.0, 161.0, 187.0, 201.0, 241.0, 209.0, 233.0, 242.0, 277.0, 227.0, 227.0, 285.0, 223.0, 182.0, 212.0, 259.0, 249.0, 147.0, 162.0, 150.0, 147.0, 169.0, 300.0, 229.0, 238.0, 254.0, 154.0, 209.0, 190.0, 145.0, 204.0, 170.0, 175.0, 225.0, 235.0, 249.0, 192.0, 186.0, 128.0, 174.0, 228.0, 225.0, 284.0, 199.0, 223.0, 231.0, 206.0, 246.0, 205.0, 177.0, 134.0, 225.0, 190.0, 199.0, 207.0, 222.0, 209.0, 234.0, 339.0, 157.0, 206.0, 263.0, 213.0, 226.0, 222.0, 243.0, 178.0, 149.0, 189.0, 200.0, 230.0, 160.0, 277.0, 227.0, 226.0, 160.0, 197.0, 260.0, 232.0, 212.0, 188.0, 242.0, 170.0, 153.0, 237.0, 254.0, 197.0, 245.0, 241.0, 163.0, 159.0, 147.0, 143.0, 263.0, 199.0, 151.0, 173.0, 188.0, 232.0, 237.0, 181.0, 211.0, 210.0, 277.0, 215.0, 149.0, 272.0, 189.0, 231.0, 323.0, 264.0, 192.0, 175.0, 317.0, 213.0, 277.0, 171.0, 221.0, 228.0, 202.0, 167.0, 174.0, 147.0, 184.0, 202.0, 177.0, 211.0, 160.0, 229.0, 177.0, 253.0, 218.0, 302.0, 258.0, 222.0, 190.0, 178.0, 278.0, 197.0, 218.0, 255.0, 223.0, 200.0, 161.0, 220.0, 225.0, 160.0, 198.0, 236.0, 199.0, 246.0, 242.0, 152.0, 255.0, 176.0, 223.0, 246.0, 284.0, 226.0, 157.0, 137.0, 192.0, 182.0, 201.0, 236.0, 225.0, 174.0, 135.0, 155.0, 278.0, 199.0, 252.0, 233.0, 211.0, 277.0, 263.0, 150.0, 156.0, 190.0, 287.0, 133]\n"
          ],
          "name": "stdout"
        }
      ]
    },
    {
      "cell_type": "code",
      "metadata": {
        "id": "sXi_dTtsAphs"
      },
      "source": [
        "list_of_columns = []\n",
        "for j in range(6,27):\n",
        "  list_of_columns.append(data.columns[j])\n"
      ],
      "execution_count": 123,
      "outputs": []
    },
    {
      "cell_type": "code",
      "metadata": {
        "colab": {
          "base_uri": "https://localhost:8080/"
        },
        "id": "PaHjY1S8BIKG",
        "outputId": "78e59814-2ae0-4a8f-8d97-1de4b4b65308"
      },
      "source": [
        "print(list_of_columns)"
      ],
      "execution_count": 124,
      "outputs": [
        {
          "output_type": "stream",
          "text": [
            "['Sensor 1', 'Sensor 2', 'Sensor 3', 'Sensor 4', 'Sensor 5', 'Sensor 6', 'Sensor 7', 'Sensor 8', 'Sensor 9', 'Sensor 10', 'Sensor 11', 'Sensor 12', 'Sensor 13', 'Sensor 14', 'Sensor 15', 'Sensor 16', 'Sensor 17', 'Sensor 18', 'Sensor 19', 'Sensor 20', 'Sensor 21']\n"
          ],
          "name": "stdout"
        }
      ]
    },
    {
      "cell_type": "markdown",
      "metadata": {
        "id": "GsAJal8BFuvk"
      },
      "source": [
        "Let's try a simple network that learns in each step RUL from all the features"
      ]
    },
    {
      "cell_type": "code",
      "metadata": {
        "id": "vnbKuYTvmKix"
      },
      "source": [
        ""
      ],
      "execution_count": null,
      "outputs": []
    },
    {
      "cell_type": "code",
      "metadata": {
        "id": "Jze42FVNFzHy"
      },
      "source": [
        "from keras.models import Sequential\n",
        "from keras.layers import Dense\n",
        "from keras.layers import LSTM\n",
        "from keras.layers import Embedding\n",
        "from keras.layers import Dropout\n",
        "from keras.layers import InputLayer\n",
        "from keras.layers import SimpleRNN\n",
        "from keras.layers import TimeDistributed"
      ],
      "execution_count": 125,
      "outputs": []
    },
    {
      "cell_type": "code",
      "metadata": {
        "colab": {
          "base_uri": "https://localhost:8080/"
        },
        "id": "o46zQJmyVbjv",
        "outputId": "8101f7c6-049e-450f-c280-01b968a57a80"
      },
      "source": [
        ""
      ],
      "execution_count": null,
      "outputs": [
        {
          "output_type": "execute_result",
          "data": {
            "text/plain": [
              "(45918, 28)"
            ]
          },
          "metadata": {
            "tags": []
          },
          "execution_count": 13
        }
      ]
    },
    {
      "cell_type": "code",
      "metadata": {
        "id": "0HMqVAcVF7vm"
      },
      "source": [
        "#load dataset\n",
        "from numpy import loadtxt\n",
        "dataset = data.to_numpy()\n",
        "X = dataset[:,2:27]\n",
        "Y = dataset[:,27]"
      ],
      "execution_count": 126,
      "outputs": []
    },
    {
      "cell_type": "code",
      "metadata": {
        "colab": {
          "base_uri": "https://localhost:8080/"
        },
        "id": "92wSRmMVHANT",
        "outputId": "5b3fea10-29b3-4c63-ad64-bec145d66ac4"
      },
      "source": [
        "X[0,0]"
      ],
      "execution_count": 138,
      "outputs": [
        {
          "output_type": "execute_result",
          "data": {
            "text/plain": [
              "1.0"
            ]
          },
          "metadata": {
            "tags": []
          },
          "execution_count": 138
        }
      ]
    },
    {
      "cell_type": "code",
      "metadata": {
        "colab": {
          "base_uri": "https://localhost:8080/"
        },
        "id": "iBk3WmR02ra0",
        "outputId": "d3c077ff-e071-4f56-957f-daac7db7acb4"
      },
      "source": [
        "#let's normalize this thing\n",
        "from sklearn.preprocessing import MinMaxScaler\n",
        "scaler = MinMaxScaler(feature_range=(-1, 1))\n",
        "scaler = scaler.fit(X)\n",
        "#print('Min: %f, Max: %f' % (scaler.data_min_, scaler.data_max_))\n",
        "# normalize the dataset and print\n",
        "Xn = scaler.transform(X)\n",
        "print(Xn)\n",
        "# inverse transform and print\n",
        "#inversed = scaler.inverse_transform(normalized)\n",
        "#print(inversed)"
      ],
      "execution_count": 127,
      "outputs": [
        {
          "output_type": "stream",
          "text": [
            "[[-1.         -0.52367644 -0.40593824 ...  1.          0.26116838\n",
            "   0.2651126 ]\n",
            " [-0.99438202 -0.99992859 -0.99928741 ...  1.          0.9766323\n",
            "   0.97382028]\n",
            " [-0.98876404  0.66628261  0.99548694 ...  1.         -0.6838488\n",
            "  -0.68748103]\n",
            " ...\n",
            " [-0.26966292  0.99961436  0.99524941 ...  1.         -0.99037801\n",
            "  -0.99184604]\n",
            " [-0.26404494  0.66638259  0.99976247 ...  1.         -0.69278351\n",
            "  -0.70802627]\n",
            " [-0.25842697  0.19058751  0.47648456 ... -1.         -0.72783505\n",
            "  -0.72681932]]\n"
          ],
          "name": "stdout"
        }
      ]
    },
    {
      "cell_type": "code",
      "metadata": {
        "colab": {
          "base_uri": "https://localhost:8080/"
        },
        "id": "tY-qzEFm1ExP",
        "outputId": "31eb09cc-bad5-4f40-c1fe-9f66863e2217"
      },
      "source": [
        "Xn.shape"
      ],
      "execution_count": 162,
      "outputs": [
        {
          "output_type": "execute_result",
          "data": {
            "text/plain": [
              "(45918, 25)"
            ]
          },
          "metadata": {
            "tags": []
          },
          "execution_count": 162
        }
      ]
    },
    {
      "cell_type": "code",
      "metadata": {
        "colab": {
          "base_uri": "https://localhost:8080/"
        },
        "id": "hEX9LT9kVnRv",
        "outputId": "3dc5b5e9-a459-489f-c8c4-67cf08a27929"
      },
      "source": [
        "print(Y)"
      ],
      "execution_count": 128,
      "outputs": [
        {
          "output_type": "stream",
          "text": [
            "[130. 130. 130. ...   2.   1.   0.]\n"
          ],
          "name": "stdout"
        }
      ]
    },
    {
      "cell_type": "code",
      "metadata": {
        "colab": {
          "base_uri": "https://localhost:8080/"
        },
        "id": "amcbuAj3FVEM",
        "outputId": "4672e55c-f768-4aa1-8849-4cbefe4b81f9"
      },
      "source": [
        "Xn.shape"
      ],
      "execution_count": 129,
      "outputs": [
        {
          "output_type": "execute_result",
          "data": {
            "text/plain": [
              "(45918, 25)"
            ]
          },
          "metadata": {
            "tags": []
          },
          "execution_count": 129
        }
      ]
    },
    {
      "cell_type": "code",
      "metadata": {
        "colab": {
          "base_uri": "https://localhost:8080/"
        },
        "id": "vHSgq4JLFWUM",
        "outputId": "545c52d1-069d-4fcb-fc45-cede1733bbfa"
      },
      "source": [
        "samples = 0\n",
        "for i in range(0,218):\n",
        "  samples = samples + int(RUL[i])//15\n",
        "\n",
        "print(samples)"
      ],
      "execution_count": 133,
      "outputs": [
        {
          "output_type": "stream",
          "text": [
            "2962\n"
          ],
          "name": "stdout"
        }
      ]
    },
    {
      "cell_type": "code",
      "metadata": {
        "id": "VGji4OMjmO_f",
        "colab": {
          "base_uri": "https://localhost:8080/"
        },
        "outputId": "74a7aa92-d3ee-4642-f296-246ec9f91eae"
      },
      "source": [
        "#need to reshape X into 3D: engine x cycle x sensor\n",
        "#for fist step, keep it symmetrical and use the lowest number of cycles in dataset\n",
        "#Y then becomes \n",
        "\n",
        "#max time steps can be 15 because that is what we have in testing:\n",
        "time_steps = 15\n",
        "#how many features do we have\n",
        "features = 25\n",
        "#how many samples can we generate\n",
        "\n",
        "X_new=np.empty(shape=(samples,time_steps,features))\n",
        "Y_new = np.empty(shape=(samples,time_steps))\n",
        "#i would be number of engines\n",
        "counter = 0\n",
        "sample = 0\n",
        "for i in range(0,218):\n",
        "  print('i=',i)\n",
        "  # j would be number of cycles\n",
        "  #decide how many times we're going to do this\n",
        "  print(counter)\n",
        "  cycles = int(RUL[data.at[counter,'Engine']-1])//15\n",
        "  print('RUL=',int(RUL[data.at[counter,'Engine']-1]))\n",
        "  print('cycles=',cycles)\n",
        "  counter0 = counter\n",
        "  for cycle in range(0,cycles):\n",
        "    \n",
        "    \n",
        "    for j in range(0,time_steps):\n",
        "    #print('j=',j)\n",
        "    #k would be number of sensors\n",
        "      for k in range(0,features):\n",
        "      #print('k=',k)\n",
        "      #print('counter',counter)\n",
        "        X_new[sample,j,k]=Xn[counter,k]\n",
        "        Y_new[sample,j] = Y[counter]\n",
        "    ##calculate step\n",
        "   \n",
        "\n",
        "    \n",
        "      if (j == time_steps-1 and cycle == cycles-1):\n",
        "        counter = counter0 + int(RUL[data.at[counter,'Engine']-1])\n",
        "      else:\n",
        "        counter = counter + 1\n",
        "    sample = sample + 1"
      ],
      "execution_count": 173,
      "outputs": [
        {
          "output_type": "stream",
          "text": [
            "i= 0\n",
            "0\n",
            "RUL= 223\n",
            "cycles= 14\n",
            "i= 1\n",
            "223\n",
            "RUL= 164\n",
            "cycles= 10\n",
            "i= 2\n",
            "387\n",
            "RUL= 150\n",
            "cycles= 10\n",
            "i= 3\n",
            "537\n",
            "RUL= 159\n",
            "cycles= 10\n",
            "i= 4\n",
            "696\n",
            "RUL= 357\n",
            "cycles= 23\n",
            "i= 5\n",
            "1053\n",
            "RUL= 225\n",
            "cycles= 15\n",
            "i= 6\n",
            "1278\n",
            "RUL= 168\n",
            "cycles= 11\n",
            "i= 7\n",
            "1446\n",
            "RUL= 276\n",
            "cycles= 18\n",
            "i= 8\n",
            "1722\n",
            "RUL= 181\n",
            "cycles= 12\n",
            "i= 9\n",
            "1903\n",
            "RUL= 228\n",
            "cycles= 15\n",
            "i= 10\n",
            "2131\n",
            "RUL= 210\n",
            "cycles= 14\n",
            "i= 11\n",
            "2341\n",
            "RUL= 242\n",
            "cycles= 16\n",
            "i= 12\n",
            "2583\n",
            "RUL= 210\n",
            "cycles= 14\n",
            "i= 13\n",
            "2793\n",
            "RUL= 147\n",
            "cycles= 9\n",
            "i= 14\n",
            "2940\n",
            "RUL= 178\n",
            "cycles= 11\n",
            "i= 15\n",
            "3118\n",
            "RUL= 172\n",
            "cycles= 11\n",
            "i= 16\n",
            "3290\n",
            "RUL= 228\n",
            "cycles= 15\n",
            "i= 17\n",
            "3518\n",
            "RUL= 196\n",
            "cycles= 13\n",
            "i= 18\n",
            "3714\n",
            "RUL= 167\n",
            "cycles= 11\n",
            "i= 19\n",
            "3881\n",
            "RUL= 154\n",
            "cycles= 10\n",
            "i= 20\n",
            "4035\n",
            "RUL= 205\n",
            "cycles= 13\n",
            "i= 21\n",
            "4240\n",
            "RUL= 203\n",
            "cycles= 13\n",
            "i= 22\n",
            "4443\n",
            "RUL= 213\n",
            "cycles= 14\n",
            "i= 23\n",
            "4656\n",
            "RUL= 191\n",
            "cycles= 12\n",
            "i= 24\n",
            "4847\n",
            "RUL= 281\n",
            "cycles= 18\n",
            "i= 25\n",
            "5128\n",
            "RUL= 210\n",
            "cycles= 14\n",
            "i= 26\n",
            "5338\n",
            "RUL= 178\n",
            "cycles= 11\n",
            "i= 27\n",
            "5516\n",
            "RUL= 278\n",
            "cycles= 18\n",
            "i= 28\n",
            "5794\n",
            "RUL= 228\n",
            "cycles= 15\n",
            "i= 29\n",
            "6022\n",
            "RUL= 200\n",
            "cycles= 13\n",
            "i= 30\n",
            "6222\n",
            "RUL= 283\n",
            "cycles= 18\n",
            "i= 31\n",
            "6505\n",
            "RUL= 193\n",
            "cycles= 12\n",
            "i= 32\n",
            "6698\n",
            "RUL= 286\n",
            "cycles= 19\n",
            "i= 33\n",
            "6984\n",
            "RUL= 286\n",
            "cycles= 19\n",
            "i= 34\n",
            "7270\n",
            "RUL= 188\n",
            "cycles= 12\n",
            "i= 35\n",
            "7458\n",
            "RUL= 147\n",
            "cycles= 9\n",
            "i= 36\n",
            "7605\n",
            "RUL= 177\n",
            "cycles= 11\n",
            "i= 37\n",
            "7782\n",
            "RUL= 287\n",
            "cycles= 19\n",
            "i= 38\n",
            "8069\n",
            "RUL= 161\n",
            "cycles= 10\n",
            "i= 39\n",
            "8230\n",
            "RUL= 187\n",
            "cycles= 12\n",
            "i= 40\n",
            "8417\n",
            "RUL= 201\n",
            "cycles= 13\n",
            "i= 41\n",
            "8618\n",
            "RUL= 241\n",
            "cycles= 16\n",
            "i= 42\n",
            "8859\n",
            "RUL= 209\n",
            "cycles= 13\n",
            "i= 43\n",
            "9068\n",
            "RUL= 233\n",
            "cycles= 15\n",
            "i= 44\n",
            "9301\n",
            "RUL= 242\n",
            "cycles= 16\n",
            "i= 45\n",
            "9543\n",
            "RUL= 277\n",
            "cycles= 18\n",
            "i= 46\n",
            "9820\n",
            "RUL= 227\n",
            "cycles= 15\n",
            "i= 47\n",
            "10047\n",
            "RUL= 227\n",
            "cycles= 15\n",
            "i= 48\n",
            "10274\n",
            "RUL= 285\n",
            "cycles= 19\n",
            "i= 49\n",
            "10559\n",
            "RUL= 223\n",
            "cycles= 14\n",
            "i= 50\n",
            "10782\n",
            "RUL= 182\n",
            "cycles= 12\n",
            "i= 51\n",
            "10964\n",
            "RUL= 212\n",
            "cycles= 14\n",
            "i= 52\n",
            "11176\n",
            "RUL= 259\n",
            "cycles= 17\n",
            "i= 53\n",
            "11435\n",
            "RUL= 249\n",
            "cycles= 16\n",
            "i= 54\n",
            "11684\n",
            "RUL= 147\n",
            "cycles= 9\n",
            "i= 55\n",
            "11831\n",
            "RUL= 162\n",
            "cycles= 10\n",
            "i= 56\n",
            "11993\n",
            "RUL= 150\n",
            "cycles= 10\n",
            "i= 57\n",
            "12143\n",
            "RUL= 147\n",
            "cycles= 9\n",
            "i= 58\n",
            "12290\n",
            "RUL= 169\n",
            "cycles= 11\n",
            "i= 59\n",
            "12459\n",
            "RUL= 300\n",
            "cycles= 20\n",
            "i= 60\n",
            "12759\n",
            "RUL= 229\n",
            "cycles= 15\n",
            "i= 61\n",
            "12988\n",
            "RUL= 238\n",
            "cycles= 15\n",
            "i= 62\n",
            "13226\n",
            "RUL= 254\n",
            "cycles= 16\n",
            "i= 63\n",
            "13480\n",
            "RUL= 154\n",
            "cycles= 10\n",
            "i= 64\n",
            "13634\n",
            "RUL= 209\n",
            "cycles= 13\n",
            "i= 65\n",
            "13843\n",
            "RUL= 190\n",
            "cycles= 12\n",
            "i= 66\n",
            "14033\n",
            "RUL= 145\n",
            "cycles= 9\n",
            "i= 67\n",
            "14178\n",
            "RUL= 204\n",
            "cycles= 13\n",
            "i= 68\n",
            "14382\n",
            "RUL= 170\n",
            "cycles= 11\n",
            "i= 69\n",
            "14552\n",
            "RUL= 175\n",
            "cycles= 11\n",
            "i= 70\n",
            "14727\n",
            "RUL= 225\n",
            "cycles= 15\n",
            "i= 71\n",
            "14952\n",
            "RUL= 235\n",
            "cycles= 15\n",
            "i= 72\n",
            "15187\n",
            "RUL= 249\n",
            "cycles= 16\n",
            "i= 73\n",
            "15436\n",
            "RUL= 192\n",
            "cycles= 12\n",
            "i= 74\n",
            "15628\n",
            "RUL= 186\n",
            "cycles= 12\n",
            "i= 75\n",
            "15814\n",
            "RUL= 128\n",
            "cycles= 8\n",
            "i= 76\n",
            "15942\n",
            "RUL= 174\n",
            "cycles= 11\n",
            "i= 77\n",
            "16116\n",
            "RUL= 228\n",
            "cycles= 15\n",
            "i= 78\n",
            "16344\n",
            "RUL= 225\n",
            "cycles= 15\n",
            "i= 79\n",
            "16569\n",
            "RUL= 284\n",
            "cycles= 18\n",
            "i= 80\n",
            "16853\n",
            "RUL= 199\n",
            "cycles= 13\n",
            "i= 81\n",
            "17052\n",
            "RUL= 223\n",
            "cycles= 14\n",
            "i= 82\n",
            "17275\n",
            "RUL= 231\n",
            "cycles= 15\n",
            "i= 83\n",
            "17506\n",
            "RUL= 206\n",
            "cycles= 13\n",
            "i= 84\n",
            "17712\n",
            "RUL= 246\n",
            "cycles= 16\n",
            "i= 85\n",
            "17958\n",
            "RUL= 205\n",
            "cycles= 13\n",
            "i= 86\n",
            "18163\n",
            "RUL= 177\n",
            "cycles= 11\n",
            "i= 87\n",
            "18340\n",
            "RUL= 134\n",
            "cycles= 8\n",
            "i= 88\n",
            "18474\n",
            "RUL= 225\n",
            "cycles= 15\n",
            "i= 89\n",
            "18699\n",
            "RUL= 190\n",
            "cycles= 12\n",
            "i= 90\n",
            "18889\n",
            "RUL= 199\n",
            "cycles= 13\n",
            "i= 91\n",
            "19088\n",
            "RUL= 207\n",
            "cycles= 13\n",
            "i= 92\n",
            "19295\n",
            "RUL= 222\n",
            "cycles= 14\n",
            "i= 93\n",
            "19517\n",
            "RUL= 209\n",
            "cycles= 13\n",
            "i= 94\n",
            "19726\n",
            "RUL= 234\n",
            "cycles= 15\n",
            "i= 95\n",
            "19960\n",
            "RUL= 339\n",
            "cycles= 22\n",
            "i= 96\n",
            "20299\n",
            "RUL= 157\n",
            "cycles= 10\n",
            "i= 97\n",
            "20456\n",
            "RUL= 206\n",
            "cycles= 13\n",
            "i= 98\n",
            "20662\n",
            "RUL= 263\n",
            "cycles= 17\n",
            "i= 99\n",
            "20925\n",
            "RUL= 213\n",
            "cycles= 14\n",
            "i= 100\n",
            "21138\n",
            "RUL= 226\n",
            "cycles= 15\n",
            "i= 101\n",
            "21364\n",
            "RUL= 222\n",
            "cycles= 14\n",
            "i= 102\n",
            "21586\n",
            "RUL= 243\n",
            "cycles= 16\n",
            "i= 103\n",
            "21829\n",
            "RUL= 178\n",
            "cycles= 11\n",
            "i= 104\n",
            "22007\n",
            "RUL= 149\n",
            "cycles= 9\n",
            "i= 105\n",
            "22156\n",
            "RUL= 189\n",
            "cycles= 12\n",
            "i= 106\n",
            "22345\n",
            "RUL= 200\n",
            "cycles= 13\n",
            "i= 107\n",
            "22545\n",
            "RUL= 230\n",
            "cycles= 15\n",
            "i= 108\n",
            "22775\n",
            "RUL= 160\n",
            "cycles= 10\n",
            "i= 109\n",
            "22935\n",
            "RUL= 277\n",
            "cycles= 18\n",
            "i= 110\n",
            "23212\n",
            "RUL= 227\n",
            "cycles= 15\n",
            "i= 111\n",
            "23439\n",
            "RUL= 226\n",
            "cycles= 15\n",
            "i= 112\n",
            "23665\n",
            "RUL= 160\n",
            "cycles= 10\n",
            "i= 113\n",
            "23825\n",
            "RUL= 197\n",
            "cycles= 13\n",
            "i= 114\n",
            "24022\n",
            "RUL= 260\n",
            "cycles= 17\n",
            "i= 115\n",
            "24282\n",
            "RUL= 232\n",
            "cycles= 15\n",
            "i= 116\n",
            "24514\n",
            "RUL= 212\n",
            "cycles= 14\n",
            "i= 117\n",
            "24726\n",
            "RUL= 188\n",
            "cycles= 12\n",
            "i= 118\n",
            "24914\n",
            "RUL= 242\n",
            "cycles= 16\n",
            "i= 119\n",
            "25156\n",
            "RUL= 170\n",
            "cycles= 11\n",
            "i= 120\n",
            "25326\n",
            "RUL= 153\n",
            "cycles= 10\n",
            "i= 121\n",
            "25479\n",
            "RUL= 237\n",
            "cycles= 15\n",
            "i= 122\n",
            "25716\n",
            "RUL= 254\n",
            "cycles= 16\n",
            "i= 123\n",
            "25970\n",
            "RUL= 197\n",
            "cycles= 13\n",
            "i= 124\n",
            "26167\n",
            "RUL= 245\n",
            "cycles= 16\n",
            "i= 125\n",
            "26412\n",
            "RUL= 241\n",
            "cycles= 16\n",
            "i= 126\n",
            "26653\n",
            "RUL= 163\n",
            "cycles= 10\n",
            "i= 127\n",
            "26816\n",
            "RUL= 159\n",
            "cycles= 10\n",
            "i= 128\n",
            "26975\n",
            "RUL= 147\n",
            "cycles= 9\n",
            "i= 129\n",
            "27122\n",
            "RUL= 143\n",
            "cycles= 9\n",
            "i= 130\n",
            "27265\n",
            "RUL= 263\n",
            "cycles= 17\n",
            "i= 131\n",
            "27528\n",
            "RUL= 199\n",
            "cycles= 13\n",
            "i= 132\n",
            "27727\n",
            "RUL= 151\n",
            "cycles= 10\n",
            "i= 133\n",
            "27878\n",
            "RUL= 173\n",
            "cycles= 11\n",
            "i= 134\n",
            "28051\n",
            "RUL= 188\n",
            "cycles= 12\n",
            "i= 135\n",
            "28239\n",
            "RUL= 232\n",
            "cycles= 15\n",
            "i= 136\n",
            "28471\n",
            "RUL= 237\n",
            "cycles= 15\n",
            "i= 137\n",
            "28708\n",
            "RUL= 181\n",
            "cycles= 12\n",
            "i= 138\n",
            "28889\n",
            "RUL= 211\n",
            "cycles= 14\n",
            "i= 139\n",
            "29100\n",
            "RUL= 210\n",
            "cycles= 14\n",
            "i= 140\n",
            "29310\n",
            "RUL= 277\n",
            "cycles= 18\n",
            "i= 141\n",
            "29587\n",
            "RUL= 215\n",
            "cycles= 14\n",
            "i= 142\n",
            "29802\n",
            "RUL= 149\n",
            "cycles= 9\n",
            "i= 143\n",
            "29951\n",
            "RUL= 272\n",
            "cycles= 18\n",
            "i= 144\n",
            "30223\n",
            "RUL= 189\n",
            "cycles= 12\n",
            "i= 145\n",
            "30412\n",
            "RUL= 231\n",
            "cycles= 15\n",
            "i= 146\n",
            "30643\n",
            "RUL= 323\n",
            "cycles= 21\n",
            "i= 147\n",
            "30966\n",
            "RUL= 264\n",
            "cycles= 17\n",
            "i= 148\n",
            "31230\n",
            "RUL= 192\n",
            "cycles= 12\n",
            "i= 149\n",
            "31422\n",
            "RUL= 175\n",
            "cycles= 11\n",
            "i= 150\n",
            "31597\n",
            "RUL= 317\n",
            "cycles= 21\n",
            "i= 151\n",
            "31914\n",
            "RUL= 213\n",
            "cycles= 14\n",
            "i= 152\n",
            "32127\n",
            "RUL= 277\n",
            "cycles= 18\n",
            "i= 153\n",
            "32404\n",
            "RUL= 171\n",
            "cycles= 11\n",
            "i= 154\n",
            "32575\n",
            "RUL= 221\n",
            "cycles= 14\n",
            "i= 155\n",
            "32796\n",
            "RUL= 228\n",
            "cycles= 15\n",
            "i= 156\n",
            "33024\n",
            "RUL= 202\n",
            "cycles= 13\n",
            "i= 157\n",
            "33226\n",
            "RUL= 167\n",
            "cycles= 11\n",
            "i= 158\n",
            "33393\n",
            "RUL= 174\n",
            "cycles= 11\n",
            "i= 159\n",
            "33567\n",
            "RUL= 147\n",
            "cycles= 9\n",
            "i= 160\n",
            "33714\n",
            "RUL= 184\n",
            "cycles= 12\n",
            "i= 161\n",
            "33898\n",
            "RUL= 202\n",
            "cycles= 13\n",
            "i= 162\n",
            "34100\n",
            "RUL= 177\n",
            "cycles= 11\n",
            "i= 163\n",
            "34277\n",
            "RUL= 211\n",
            "cycles= 14\n",
            "i= 164\n",
            "34488\n",
            "RUL= 160\n",
            "cycles= 10\n",
            "i= 165\n",
            "34648\n",
            "RUL= 229\n",
            "cycles= 15\n",
            "i= 166\n",
            "34877\n",
            "RUL= 177\n",
            "cycles= 11\n",
            "i= 167\n",
            "35054\n",
            "RUL= 253\n",
            "cycles= 16\n",
            "i= 168\n",
            "35307\n",
            "RUL= 218\n",
            "cycles= 14\n",
            "i= 169\n",
            "35525\n",
            "RUL= 302\n",
            "cycles= 20\n",
            "i= 170\n",
            "35827\n",
            "RUL= 258\n",
            "cycles= 17\n",
            "i= 171\n",
            "36085\n",
            "RUL= 222\n",
            "cycles= 14\n",
            "i= 172\n",
            "36307\n",
            "RUL= 190\n",
            "cycles= 12\n",
            "i= 173\n",
            "36497\n",
            "RUL= 178\n",
            "cycles= 11\n",
            "i= 174\n",
            "36675\n",
            "RUL= 278\n",
            "cycles= 18\n",
            "i= 175\n",
            "36953\n",
            "RUL= 197\n",
            "cycles= 13\n",
            "i= 176\n",
            "37150\n",
            "RUL= 218\n",
            "cycles= 14\n",
            "i= 177\n",
            "37368\n",
            "RUL= 255\n",
            "cycles= 17\n",
            "i= 178\n",
            "37623\n",
            "RUL= 223\n",
            "cycles= 14\n",
            "i= 179\n",
            "37846\n",
            "RUL= 200\n",
            "cycles= 13\n",
            "i= 180\n",
            "38046\n",
            "RUL= 161\n",
            "cycles= 10\n",
            "i= 181\n",
            "38207\n",
            "RUL= 220\n",
            "cycles= 14\n",
            "i= 182\n",
            "38427\n",
            "RUL= 225\n",
            "cycles= 15\n",
            "i= 183\n",
            "38652\n",
            "RUL= 160\n",
            "cycles= 10\n",
            "i= 184\n",
            "38812\n",
            "RUL= 198\n",
            "cycles= 13\n",
            "i= 185\n",
            "39010\n",
            "RUL= 236\n",
            "cycles= 15\n",
            "i= 186\n",
            "39246\n",
            "RUL= 199\n",
            "cycles= 13\n",
            "i= 187\n",
            "39445\n",
            "RUL= 246\n",
            "cycles= 16\n",
            "i= 188\n",
            "39691\n",
            "RUL= 242\n",
            "cycles= 16\n",
            "i= 189\n",
            "39933\n",
            "RUL= 152\n",
            "cycles= 10\n",
            "i= 190\n",
            "40085\n",
            "RUL= 255\n",
            "cycles= 17\n",
            "i= 191\n",
            "40340\n",
            "RUL= 176\n",
            "cycles= 11\n",
            "i= 192\n",
            "40516\n",
            "RUL= 223\n",
            "cycles= 14\n",
            "i= 193\n",
            "40739\n",
            "RUL= 246\n",
            "cycles= 16\n",
            "i= 194\n",
            "40985\n",
            "RUL= 284\n",
            "cycles= 18\n",
            "i= 195\n",
            "41269\n",
            "RUL= 226\n",
            "cycles= 15\n",
            "i= 196\n",
            "41495\n",
            "RUL= 157\n",
            "cycles= 10\n",
            "i= 197\n",
            "41652\n",
            "RUL= 137\n",
            "cycles= 9\n",
            "i= 198\n",
            "41789\n",
            "RUL= 192\n",
            "cycles= 12\n",
            "i= 199\n",
            "41981\n",
            "RUL= 182\n",
            "cycles= 12\n",
            "i= 200\n",
            "42163\n",
            "RUL= 201\n",
            "cycles= 13\n",
            "i= 201\n",
            "42364\n",
            "RUL= 236\n",
            "cycles= 15\n",
            "i= 202\n",
            "42600\n",
            "RUL= 225\n",
            "cycles= 15\n",
            "i= 203\n",
            "42825\n",
            "RUL= 174\n",
            "cycles= 11\n",
            "i= 204\n",
            "42999\n",
            "RUL= 135\n",
            "cycles= 9\n",
            "i= 205\n",
            "43134\n",
            "RUL= 155\n",
            "cycles= 10\n",
            "i= 206\n",
            "43289\n",
            "RUL= 278\n",
            "cycles= 18\n",
            "i= 207\n",
            "43567\n",
            "RUL= 199\n",
            "cycles= 13\n",
            "i= 208\n",
            "43766\n",
            "RUL= 252\n",
            "cycles= 16\n",
            "i= 209\n",
            "44018\n",
            "RUL= 233\n",
            "cycles= 15\n",
            "i= 210\n",
            "44251\n",
            "RUL= 211\n",
            "cycles= 14\n",
            "i= 211\n",
            "44462\n",
            "RUL= 277\n",
            "cycles= 18\n",
            "i= 212\n",
            "44739\n",
            "RUL= 263\n",
            "cycles= 17\n",
            "i= 213\n",
            "45002\n",
            "RUL= 150\n",
            "cycles= 10\n",
            "i= 214\n",
            "45152\n",
            "RUL= 156\n",
            "cycles= 10\n",
            "i= 215\n",
            "45308\n",
            "RUL= 190\n",
            "cycles= 12\n",
            "i= 216\n",
            "45498\n",
            "RUL= 287\n",
            "cycles= 19\n",
            "i= 217\n",
            "45785\n",
            "RUL= 133\n",
            "cycles= 8\n"
          ],
          "name": "stdout"
        }
      ]
    },
    {
      "cell_type": "code",
      "metadata": {
        "colab": {
          "base_uri": "https://localhost:8080/"
        },
        "id": "Mf6Xu3Lh4UGY",
        "outputId": "1a4e777d-52c6-48da-f46d-b3a068c9afcb"
      },
      "source": [
        "X_new.shape"
      ],
      "execution_count": 174,
      "outputs": [
        {
          "output_type": "execute_result",
          "data": {
            "text/plain": [
              "(2962, 15, 25)"
            ]
          },
          "metadata": {
            "tags": []
          },
          "execution_count": 174
        }
      ]
    },
    {
      "cell_type": "code",
      "metadata": {
        "colab": {
          "base_uri": "https://localhost:8080/"
        },
        "id": "KaCzWsLUHcup",
        "outputId": "7cadcac4-7ecb-4aaf-ae3e-cb58dec3f9e7"
      },
      "source": [
        "Y_new[13,:]"
      ],
      "execution_count": 190,
      "outputs": [
        {
          "output_type": "execute_result",
          "data": {
            "text/plain": [
              "array([27., 26., 25., 24., 23., 22., 21., 20., 19., 18., 17., 16., 15.,\n",
              "       14., 13.])"
            ]
          },
          "metadata": {
            "tags": []
          },
          "execution_count": 190
        }
      ]
    },
    {
      "cell_type": "code",
      "metadata": {
        "colab": {
          "base_uri": "https://localhost:8080/"
        },
        "id": "TDDrdwdvV8sq",
        "outputId": "cee47c9f-a7d6-4014-b1ed-af459c70cdde"
      },
      "source": [
        "X_new[0,:,0]"
      ],
      "execution_count": 191,
      "outputs": [
        {
          "output_type": "execute_result",
          "data": {
            "text/plain": [
              "array([-1.        , -0.99438202, -0.98876404, -0.98314607, -0.97752809,\n",
              "       -0.97191011, -0.96629213, -0.96067416, -0.95505618, -0.9494382 ,\n",
              "       -0.94382022, -0.93820225, -0.93258427, -0.92696629, -0.92134831])"
            ]
          },
          "metadata": {
            "tags": []
          },
          "execution_count": 191
        }
      ]
    },
    {
      "cell_type": "code",
      "metadata": {
        "colab": {
          "base_uri": "https://localhost:8080/"
        },
        "id": "D2eMhXlL4xZO",
        "outputId": "ddd19806-c94e-4453-be9c-7fde95d41259"
      },
      "source": [
        "Y_new.shape"
      ],
      "execution_count": 192,
      "outputs": [
        {
          "output_type": "execute_result",
          "data": {
            "text/plain": [
              "(2962, 15)"
            ]
          },
          "metadata": {
            "tags": []
          },
          "execution_count": 192
        }
      ]
    },
    {
      "cell_type": "code",
      "metadata": {
        "colab": {
          "base_uri": "https://localhost:8080/"
        },
        "id": "li7J2Cn240nS",
        "outputId": "001c455d-c0f6-4ba2-8ace-84ec29ea97f4"
      },
      "source": [
        "print(Y_new[0])"
      ],
      "execution_count": 193,
      "outputs": [
        {
          "output_type": "stream",
          "text": [
            "[130. 130. 130. 130. 130. 130. 130. 130. 130. 130. 130. 130. 130. 130.\n",
            " 130.]\n"
          ],
          "name": "stdout"
        }
      ]
    },
    {
      "cell_type": "code",
      "metadata": {
        "id": "hbpwmiJGymJg"
      },
      "source": [
        "x = np.array([[1,1,2,3],[1,2,4,5],[2,1,2,3],[2,2,4,6]])"
      ],
      "execution_count": null,
      "outputs": []
    },
    {
      "cell_type": "code",
      "metadata": {
        "colab": {
          "base_uri": "https://localhost:8080/"
        },
        "id": "wD6VrVtNyw7P",
        "outputId": "b98615a3-eacc-405d-c810-b54bd8fce8f3"
      },
      "source": [
        "print(x)"
      ],
      "execution_count": null,
      "outputs": [
        {
          "output_type": "stream",
          "text": [
            "[[1 1 2 3]\n",
            " [1 2 4 5]\n",
            " [2 1 2 3]\n",
            " [2 2 4 6]]\n"
          ],
          "name": "stdout"
        }
      ]
    },
    {
      "cell_type": "code",
      "metadata": {
        "colab": {
          "base_uri": "https://localhost:8080/"
        },
        "id": "nieXxTi90wnh",
        "outputId": "cb45b206-558e-4272-d4c9-ca9fababa089"
      },
      "source": [
        "np.shape(x)"
      ],
      "execution_count": null,
      "outputs": [
        {
          "output_type": "execute_result",
          "data": {
            "text/plain": [
              "(4, 4)"
            ]
          },
          "metadata": {
            "tags": []
          },
          "execution_count": 65
        }
      ]
    },
    {
      "cell_type": "code",
      "metadata": {
        "id": "_JqJRUrgzO-d"
      },
      "source": [
        "b=np.empty(shape=(2,2,3))\n",
        "#i would be number of engines\n",
        "counter = 0\n",
        "for i in range(0,2):\n",
        "  print('i=',i)\n",
        "  # j would be number of cycles\n",
        "  for j in range(0,2):\n",
        "    print('j=',j)\n",
        "    #k would be number of sensors\n",
        "    for k in range(0,3):\n",
        "      print('k=',k)\n",
        "      print('counter',counter)\n",
        "      b[i,j,k]=x[counter,k+1]\n",
        "    counter = counter + 1"
      ],
      "execution_count": null,
      "outputs": []
    },
    {
      "cell_type": "code",
      "metadata": {
        "colab": {
          "base_uri": "https://localhost:8080/"
        },
        "id": "SRa1dNdq1a7t",
        "outputId": "d9c911f1-5918-4acd-a19f-7c5461f10d68"
      },
      "source": [
        "np.shape(b)"
      ],
      "execution_count": null,
      "outputs": [
        {
          "output_type": "execute_result",
          "data": {
            "text/plain": [
              "(2, 2, 3)"
            ]
          },
          "metadata": {
            "tags": []
          },
          "execution_count": 78
        }
      ]
    },
    {
      "cell_type": "code",
      "metadata": {
        "colab": {
          "base_uri": "https://localhost:8080/"
        },
        "id": "4F2saMHI1czm",
        "outputId": "0c1bff18-b629-41e0-bc28-5f9721e196c6"
      },
      "source": [
        "print(b)"
      ],
      "execution_count": null,
      "outputs": [
        {
          "output_type": "stream",
          "text": [
            "[[[1. 2. 3.]\n",
            "  [2. 4. 5.]]\n",
            "\n",
            " [[1. 2. 3.]\n",
            "  [2. 4. 6.]]]\n"
          ],
          "name": "stdout"
        }
      ]
    },
    {
      "cell_type": "code",
      "metadata": {
        "id": "K4I9NE27H0vq"
      },
      "source": [
        " from sklearn.model_selection import train_test_split\n",
        "#split into train and test\n",
        "X_train, X_test, y_train, y_test = train_test_split(X_new, Y_new, test_size=0.33)"
      ],
      "execution_count": 194,
      "outputs": []
    },
    {
      "cell_type": "code",
      "metadata": {
        "id": "sRJgbLRF2fWh"
      },
      "source": [
        ""
      ],
      "execution_count": null,
      "outputs": []
    },
    {
      "cell_type": "code",
      "metadata": {
        "colab": {
          "base_uri": "https://localhost:8080/"
        },
        "id": "RG50CLlW5bF2",
        "outputId": "75d08bdd-accd-45e6-a9ed-99c662843226"
      },
      "source": [
        "X_train.shape"
      ],
      "execution_count": 195,
      "outputs": [
        {
          "output_type": "execute_result",
          "data": {
            "text/plain": [
              "(1984, 15, 25)"
            ]
          },
          "metadata": {
            "tags": []
          },
          "execution_count": 195
        }
      ]
    },
    {
      "cell_type": "code",
      "metadata": {
        "id": "OAwmEWHEMctY"
      },
      "source": [
        "#let's try to make it classification and make a one-hot encoding of the RUL between 0 and 130:\n",
        "from keras.utils.np_utils import to_categorical\n",
        "RUL_tags = to_categorical(y_train,131)\n",
        "RUL_tags_test = to_categorical(y_test,131)\n"
      ],
      "execution_count": 196,
      "outputs": []
    },
    {
      "cell_type": "code",
      "metadata": {
        "colab": {
          "base_uri": "https://localhost:8080/"
        },
        "id": "lKRYRVX4mH3y",
        "outputId": "d71f24b2-205f-4db7-c472-91980f295308"
      },
      "source": [
        "X_train.shape[2]"
      ],
      "execution_count": null,
      "outputs": [
        {
          "output_type": "execute_result",
          "data": {
            "text/plain": [
              "25"
            ]
          },
          "metadata": {
            "tags": []
          },
          "execution_count": 321
        }
      ]
    },
    {
      "cell_type": "code",
      "metadata": {
        "colab": {
          "base_uri": "https://localhost:8080/"
        },
        "id": "w5n9xHHENoQe",
        "outputId": "482ff70d-6f9a-4e7c-f51d-67bc6ee3b931"
      },
      "source": [
        "RUL_tags.shape"
      ],
      "execution_count": 197,
      "outputs": [
        {
          "output_type": "execute_result",
          "data": {
            "text/plain": [
              "(1984, 15, 131)"
            ]
          },
          "metadata": {
            "tags": []
          },
          "execution_count": 197
        }
      ]
    },
    {
      "cell_type": "code",
      "metadata": {
        "id": "JmNM5Ku7ixOw"
      },
      "source": [
        "#build model\n",
        "\n",
        "model = Sequential()\n",
        "model.add(InputLayer(input_shape=(time_steps,features)))\n",
        "#model.add(SimpleRNN(64,return_sequences=True))\n",
        "#model.add(SimpleRNN(32,return_sequences=True))\n",
        "model.add(LSTM(50, input_shape=(X_train.shape[1], X_train.shape[2]), return_sequences=True))\n",
        "\n",
        "\n",
        "#add top layer that predicts the RUL distribution\n",
        "\n",
        "\n",
        "#stepwise_dense = Dense(131,activation='softmax')\n",
        "#stepwise_dense = TimeDistributed(stepwise_dense)\n",
        "#model.add(stepwise_dense)\n",
        "model.add(Dense(131,activation='softmax'))\n",
        "#model.add(Dense(32,activation='relu'))\n",
        "#model.add(Dense(1,activation='linear'))"
      ],
      "execution_count": 198,
      "outputs": []
    },
    {
      "cell_type": "code",
      "metadata": {
        "id": "hTohyh1qhGBF"
      },
      "source": [
        "model.compile('adam','categorical_crossentropy')\n"
      ],
      "execution_count": 199,
      "outputs": []
    },
    {
      "cell_type": "code",
      "metadata": {
        "colab": {
          "base_uri": "https://localhost:8080/"
        },
        "id": "x6DLlm8gFdQT",
        "outputId": "12e72635-7a8f-411e-aa8f-e3f81e2fc033"
      },
      "source": [
        "model.summary()"
      ],
      "execution_count": 200,
      "outputs": [
        {
          "output_type": "stream",
          "text": [
            "Model: \"sequential_2\"\n",
            "_________________________________________________________________\n",
            "Layer (type)                 Output Shape              Param #   \n",
            "=================================================================\n",
            "lstm_2 (LSTM)                (None, 15, 50)            15200     \n",
            "_________________________________________________________________\n",
            "dense_2 (Dense)              (None, 15, 131)           6681      \n",
            "=================================================================\n",
            "Total params: 21,881\n",
            "Trainable params: 21,881\n",
            "Non-trainable params: 0\n",
            "_________________________________________________________________\n"
          ],
          "name": "stdout"
        }
      ]
    },
    {
      "cell_type": "code",
      "metadata": {
        "colab": {
          "base_uri": "https://localhost:8080/"
        },
        "id": "2fQkKSSs5Zqq",
        "outputId": "95d0fe91-9c24-4a01-99db-95c69102654e"
      },
      "source": [
        "model.fit(X_train,RUL_tags,batch_size=20,epochs=50)"
      ],
      "execution_count": 215,
      "outputs": [
        {
          "output_type": "stream",
          "text": [
            "Epoch 1/50\n",
            "100/100 [==============================] - 1s 11ms/step - loss: 2.9096\n",
            "Epoch 2/50\n",
            "100/100 [==============================] - 1s 11ms/step - loss: 2.9064\n",
            "Epoch 3/50\n",
            "100/100 [==============================] - 1s 10ms/step - loss: 2.8969\n",
            "Epoch 4/50\n",
            "100/100 [==============================] - 1s 11ms/step - loss: 2.8928\n",
            "Epoch 5/50\n",
            "100/100 [==============================] - 1s 11ms/step - loss: 2.8942\n",
            "Epoch 6/50\n",
            "100/100 [==============================] - 1s 11ms/step - loss: 2.8863\n",
            "Epoch 7/50\n",
            "100/100 [==============================] - 1s 11ms/step - loss: 2.8708\n",
            "Epoch 8/50\n",
            "100/100 [==============================] - 1s 11ms/step - loss: 2.8714\n",
            "Epoch 9/50\n",
            "100/100 [==============================] - 1s 11ms/step - loss: 2.8734\n",
            "Epoch 10/50\n",
            "100/100 [==============================] - 1s 12ms/step - loss: 2.8785\n",
            "Epoch 11/50\n",
            "100/100 [==============================] - 1s 12ms/step - loss: 2.8833\n",
            "Epoch 12/50\n",
            "100/100 [==============================] - 1s 12ms/step - loss: 2.8610\n",
            "Epoch 13/50\n",
            "100/100 [==============================] - 1s 12ms/step - loss: 2.8584\n",
            "Epoch 14/50\n",
            "100/100 [==============================] - 1s 12ms/step - loss: 2.8503\n",
            "Epoch 15/50\n",
            "100/100 [==============================] - 1s 12ms/step - loss: 2.8431\n",
            "Epoch 16/50\n",
            "100/100 [==============================] - 1s 10ms/step - loss: 2.8591\n",
            "Epoch 17/50\n",
            "100/100 [==============================] - 1s 10ms/step - loss: 2.8579\n",
            "Epoch 18/50\n",
            "100/100 [==============================] - 1s 10ms/step - loss: 2.8343\n",
            "Epoch 19/50\n",
            "100/100 [==============================] - 1s 11ms/step - loss: 2.8295\n",
            "Epoch 20/50\n",
            "100/100 [==============================] - 1s 11ms/step - loss: 2.8465\n",
            "Epoch 21/50\n",
            "100/100 [==============================] - 1s 11ms/step - loss: 2.8345\n",
            "Epoch 22/50\n",
            "100/100 [==============================] - 1s 11ms/step - loss: 2.8212\n",
            "Epoch 23/50\n",
            "100/100 [==============================] - 1s 10ms/step - loss: 2.8193\n",
            "Epoch 24/50\n",
            "100/100 [==============================] - 1s 10ms/step - loss: 2.8344\n",
            "Epoch 25/50\n",
            "100/100 [==============================] - 1s 10ms/step - loss: 2.8166\n",
            "Epoch 26/50\n",
            "100/100 [==============================] - 1s 10ms/step - loss: 2.8075\n",
            "Epoch 27/50\n",
            "100/100 [==============================] - 1s 10ms/step - loss: 2.8189\n",
            "Epoch 28/50\n",
            "100/100 [==============================] - 1s 10ms/step - loss: 2.8112\n",
            "Epoch 29/50\n",
            "100/100 [==============================] - 1s 10ms/step - loss: 2.7976\n",
            "Epoch 30/50\n",
            "100/100 [==============================] - 1s 10ms/step - loss: 2.7985\n",
            "Epoch 31/50\n",
            "100/100 [==============================] - 1s 10ms/step - loss: 2.7863\n",
            "Epoch 32/50\n",
            "100/100 [==============================] - 1s 10ms/step - loss: 2.7816\n",
            "Epoch 33/50\n",
            "100/100 [==============================] - 1s 10ms/step - loss: 2.7823\n",
            "Epoch 34/50\n",
            "100/100 [==============================] - 1s 10ms/step - loss: 2.7729\n",
            "Epoch 35/50\n",
            "100/100 [==============================] - 1s 10ms/step - loss: 2.7872\n",
            "Epoch 36/50\n",
            "100/100 [==============================] - 1s 10ms/step - loss: 2.7789\n",
            "Epoch 37/50\n",
            "100/100 [==============================] - 1s 10ms/step - loss: 2.7801\n",
            "Epoch 38/50\n",
            "100/100 [==============================] - 1s 10ms/step - loss: 2.7762\n",
            "Epoch 39/50\n",
            "100/100 [==============================] - 1s 10ms/step - loss: 2.7546\n",
            "Epoch 40/50\n",
            "100/100 [==============================] - 1s 10ms/step - loss: 2.7839\n",
            "Epoch 41/50\n",
            "100/100 [==============================] - 1s 10ms/step - loss: 2.7576\n",
            "Epoch 42/50\n",
            "100/100 [==============================] - 1s 10ms/step - loss: 2.7562\n",
            "Epoch 43/50\n",
            "100/100 [==============================] - 1s 10ms/step - loss: 2.7683\n",
            "Epoch 44/50\n",
            "100/100 [==============================] - 1s 10ms/step - loss: 2.7473\n",
            "Epoch 45/50\n",
            "100/100 [==============================] - 1s 10ms/step - loss: 2.7591\n",
            "Epoch 46/50\n",
            "100/100 [==============================] - 1s 10ms/step - loss: 2.7419\n",
            "Epoch 47/50\n",
            "100/100 [==============================] - 1s 10ms/step - loss: 2.7358\n",
            "Epoch 48/50\n",
            "100/100 [==============================] - 1s 10ms/step - loss: 2.7325\n",
            "Epoch 49/50\n",
            "100/100 [==============================] - 1s 10ms/step - loss: 2.7356\n",
            "Epoch 50/50\n",
            "100/100 [==============================] - 1s 10ms/step - loss: 2.7583\n"
          ],
          "name": "stdout"
        },
        {
          "output_type": "execute_result",
          "data": {
            "text/plain": [
              "<keras.callbacks.History at 0x7f228656eb10>"
            ]
          },
          "metadata": {
            "tags": []
          },
          "execution_count": 215
        }
      ]
    },
    {
      "cell_type": "code",
      "metadata": {
        "colab": {
          "base_uri": "https://localhost:8080/"
        },
        "id": "ZHIGAm9J5KxQ",
        "outputId": "50741527-7258-40da-d88f-22175f05e352"
      },
      "source": [
        "model.evaluate(X_test,RUL_tags_test)"
      ],
      "execution_count": 216,
      "outputs": [
        {
          "output_type": "stream",
          "text": [
            "31/31 [==============================] - 0s 6ms/step - loss: 2.9501\n"
          ],
          "name": "stdout"
        },
        {
          "output_type": "execute_result",
          "data": {
            "text/plain": [
              "2.950075387954712"
            ]
          },
          "metadata": {
            "tags": []
          },
          "execution_count": 216
        }
      ]
    },
    {
      "cell_type": "code",
      "metadata": {
        "id": "mJlAg7rcH_NS"
      },
      "source": [
        "y_new = model.predict(X_test)"
      ],
      "execution_count": 203,
      "outputs": []
    },
    {
      "cell_type": "code",
      "metadata": {
        "colab": {
          "base_uri": "https://localhost:8080/"
        },
        "id": "siXH6LpDIHK-",
        "outputId": "996f672a-93ad-40a2-910d-a37c1269d1ca"
      },
      "source": [
        "y_new.shape"
      ],
      "execution_count": 210,
      "outputs": [
        {
          "output_type": "execute_result",
          "data": {
            "text/plain": [
              "(978, 15, 131)"
            ]
          },
          "metadata": {
            "tags": []
          },
          "execution_count": 210
        }
      ]
    },
    {
      "cell_type": "code",
      "metadata": {
        "colab": {
          "base_uri": "https://localhost:8080/"
        },
        "id": "sZgQ9VUMIQmi",
        "outputId": "aa2ba293-109c-4beb-f55a-55e3e9d77f2f"
      },
      "source": [
        "y_train.shape"
      ],
      "execution_count": 211,
      "outputs": [
        {
          "output_type": "execute_result",
          "data": {
            "text/plain": [
              "(1984, 15)"
            ]
          },
          "metadata": {
            "tags": []
          },
          "execution_count": 211
        }
      ]
    },
    {
      "cell_type": "code",
      "metadata": {
        "colab": {
          "base_uri": "https://localhost:8080/"
        },
        "id": "zi9mVv7uIUbK",
        "outputId": "972d851a-4ec9-4ea7-bb14-528742274772"
      },
      "source": [
        "X_train.shape"
      ],
      "execution_count": 212,
      "outputs": [
        {
          "output_type": "execute_result",
          "data": {
            "text/plain": [
              "(1984, 15, 25)"
            ]
          },
          "metadata": {
            "tags": []
          },
          "execution_count": 212
        }
      ]
    },
    {
      "cell_type": "code",
      "metadata": {
        "id": "AqwT9m_QIY9L"
      },
      "source": [
        "predicted_RUL_test = np.zeros((y_new.shape[0],time_steps))\n",
        "for i in range(0,y_new.shape[0]):\n",
        "  for j in range(0,time_steps):\n",
        "    predicted_RUL_test[i,j] = np.argmax(y_new[i,j,:])"
      ],
      "execution_count": 217,
      "outputs": []
    },
    {
      "cell_type": "code",
      "metadata": {
        "colab": {
          "base_uri": "https://localhost:8080/"
        },
        "id": "RcQSpNbpPjgV",
        "outputId": "f4df0362-4b62-43ef-a8d8-f204dd13ed86"
      },
      "source": [
        "predicted_RUL_test[1:15,:]"
      ],
      "execution_count": 222,
      "outputs": [
        {
          "output_type": "execute_result",
          "data": {
            "text/plain": [
              "array([[130., 130., 130.,  37.,  53.,  71., 130., 130., 130., 130., 130.,\n",
              "        130., 130., 130., 130.],\n",
              "       [130., 130., 130., 130., 130., 130., 130., 130., 130., 130., 130.,\n",
              "        130., 130., 130., 130.],\n",
              "       [130., 130., 130., 130., 130., 130., 130., 130., 130., 130., 130.,\n",
              "        130., 130., 130., 130.],\n",
              "       [130.,  39.,  39.,  39.,  35.,  40.,  40.,  40.,  40.,  30.,  30.,\n",
              "         30.,  30.,  27.,  28.],\n",
              "       [130., 130., 130., 130., 130., 130., 130., 130., 130., 130., 130.,\n",
              "        130., 130., 130., 130.],\n",
              "       [130.,  15.,  17.,  17.,  14.,  13.,  13.,  13.,  13.,  13.,  39.,\n",
              "         32.,  29.,  13.,  13.],\n",
              "       [130., 130., 130., 130., 130., 130., 130., 130., 130., 130., 130.,\n",
              "        130., 130., 130., 130.],\n",
              "       [130.,  39.,  37.,  55.,  55.,  53.,  53.,  60.,  52.,  53.,  51.,\n",
              "         42.,  42.,  42.,  42.],\n",
              "       [130., 130., 130., 130., 130., 130., 130., 130., 130., 130., 130.,\n",
              "        130., 130., 130., 130.],\n",
              "       [130.,  20.,  21.,  17.,  17.,  16.,  13.,  15.,  15.,  12.,  13.,\n",
              "         12.,   7.,   8.,   9.],\n",
              "       [130., 130., 130., 130., 130., 130., 130., 130., 130., 130., 130.,\n",
              "        130., 130., 130., 130.],\n",
              "       [130., 130., 130., 130., 130., 130., 130., 130., 130., 130., 130.,\n",
              "        130., 130., 130., 130.],\n",
              "       [130., 130., 130., 130., 130., 130., 130., 130., 130., 130., 130.,\n",
              "        130., 130., 130., 130.],\n",
              "       [130., 130., 130., 130., 130., 130., 130., 130., 130., 130., 130.,\n",
              "        130., 130., 130., 130.]])"
            ]
          },
          "metadata": {
            "tags": []
          },
          "execution_count": 222
        }
      ]
    },
    {
      "cell_type": "code",
      "metadata": {
        "colab": {
          "base_uri": "https://localhost:8080/"
        },
        "id": "H66Yxkka6KO2",
        "outputId": "e6ba0cfa-b3c8-4064-f232-281742a33085"
      },
      "source": [
        "print(y_test[0:15,:])"
      ],
      "execution_count": 224,
      "outputs": [
        {
          "output_type": "stream",
          "text": [
            "[[130. 130. 130. 130. 130. 130. 130. 130. 130. 130. 130. 130. 130. 130.\n",
            "  130.]\n",
            " [ 91.  90.  89.  88.  87.  86.  85.  84.  83.  82.  81.  80.  79.  78.\n",
            "   77.]\n",
            " [130. 130. 130. 130. 130. 130. 130. 130. 130. 130. 130. 130. 130. 130.\n",
            "  130.]\n",
            " [130. 130. 130. 130. 130. 130. 130. 130. 129. 128. 127. 126. 125. 124.\n",
            "  123.]\n",
            " [ 50.  49.  48.  47.  46.  45.  44.  43.  42.  41.  40.  39.  38.  37.\n",
            "   36.]\n",
            " [ 97.  96.  95.  94.  93.  92.  91.  90.  89.  88.  87.  86.  85.  84.\n",
            "   83.]\n",
            " [ 35.  34.  33.  32.  31.  30.  29.  28.  27.  26.  25.  24.  23.  22.\n",
            "   21.]\n",
            " [130. 130. 130. 130. 130. 130. 130. 130. 130. 130. 130. 130. 130. 130.\n",
            "  130.]\n",
            " [ 47.  46.  45.  44.  43.  42.  41.  40.  39.  38.  37.  36.  35.  34.\n",
            "   33.]\n",
            " [104. 103. 102. 101. 100.  99.  98.  97.  96.  95.  94.  93.  92.  91.\n",
            "   90.]\n",
            " [ 14.  13.  12.  11.  10.   9.   8.   7.   6.   5.   4.   3.   2.   1.\n",
            "    0.]\n",
            " [130. 130. 130. 130. 130. 130. 130. 130. 130. 130. 130. 130. 130. 130.\n",
            "  130.]\n",
            " [130. 130. 130. 130. 130. 130. 130. 130. 130. 130. 130. 130. 130. 130.\n",
            "  130.]\n",
            " [130. 130. 130. 130. 130. 130. 130. 130. 130. 130. 130. 130. 130. 130.\n",
            "  130.]\n",
            " [130. 130. 130. 130. 130. 130. 130. 130. 130. 130. 130. 130. 130. 130.\n",
            "  130.]]\n"
          ],
          "name": "stdout"
        }
      ]
    },
    {
      "cell_type": "code",
      "metadata": {
        "colab": {
          "base_uri": "https://localhost:8080/",
          "height": 282
        },
        "id": "9hx0V10KThxs",
        "outputId": "62e99685-b385-4a80-9bc5-7d6894659294"
      },
      "source": [
        "import matplotlib.pyplot as plt\n",
        "\n",
        "plt.plot(predicted_RUL_test[70,:])\n",
        "plt.plot(y_test[70,:])"
      ],
      "execution_count": 220,
      "outputs": [
        {
          "output_type": "execute_result",
          "data": {
            "text/plain": [
              "[<matplotlib.lines.Line2D at 0x7f22864de210>]"
            ]
          },
          "metadata": {
            "tags": []
          },
          "execution_count": 220
        },
        {
          "output_type": "display_data",
          "data": {
            "image/png": "[encoded data removed]",
            "text/plain": [
              "<Figure size 432x288 with 1 Axes>"
            ]
          },
          "metadata": {
            "tags": [],
            "needs_background": "light"
          }
        }
      ]
    },
    {
      "cell_type": "code",
      "metadata": {
        "id": "Ah_7F7fpNdFU"
      },
      "source": [
        "y_new = model.predict(X_test)\n"
      ],
      "execution_count": null,
      "outputs": []
    },
    {
      "cell_type": "code",
      "metadata": {
        "colab": {
          "base_uri": "https://localhost:8080/",
          "height": 282
        },
        "id": "OG3hdCllOFjP",
        "outputId": "c9129d00-e1f0-46e0-f8bb-7a08ca3d24f5"
      },
      "source": [
        "import matplotlib.pyplot as plt\n",
        "predicted_RUL = np.zeros((146,126))\n",
        "for i in range(0,72):\n",
        "  for j in range(0,126):\n",
        "    predicted_RUL[i,j] = np.argmax(y_new[i,j,:])\n",
        "plt.plot(predicted_RUL[71])\n",
        "plt.plot(y_test[71])"
      ],
      "execution_count": null,
      "outputs": [
        {
          "output_type": "execute_result",
          "data": {
            "text/plain": [
              "[<matplotlib.lines.Line2D at 0x7fe12f207bd0>]"
            ]
          },
          "metadata": {
            "tags": []
          },
          "execution_count": 277
        },
        {
          "output_type": "display_data",
          "data": {
            "image/png": "[encoded data removed]",
            "text/plain": [
              "<Figure size 432x288 with 1 Axes>"
            ]
          },
          "metadata": {
            "tags": [],
            "needs_background": "light"
          }
        }
      ]
    },
    {
      "cell_type": "code",
      "metadata": {
        "colab": {
          "base_uri": "https://localhost:8080/"
        },
        "id": "zF-F8MKjjnTR",
        "outputId": "8249db93-780f-449d-b5fc-017f542860b0"
      },
      "source": [
        "from keras.utils.np_utils import to_categorical\n",
        "RUL_tags_test = to_categorical(y_test,131)\n",
        "model.evaluate(X_test,RUL_tags_test)"
      ],
      "execution_count": null,
      "outputs": [
        {
          "output_type": "stream",
          "text": [
            "3/3 [==============================] - 1s 17ms/step - loss: 1.2036\n"
          ],
          "name": "stdout"
        },
        {
          "output_type": "execute_result",
          "data": {
            "text/plain": [
              "1.2035949230194092"
            ]
          },
          "metadata": {
            "tags": []
          },
          "execution_count": 119
        }
      ]
    },
    {
      "cell_type": "code",
      "metadata": {
        "id": "1pZZ1mrBR3hZ"
      },
      "source": [
        "#read test\n",
        "data_valid = pd.read_csv('test.csv',sep=\",\")"
      ],
      "execution_count": 225,
      "outputs": []
    },
    {
      "cell_type": "code",
      "metadata": {
        "colab": {
          "base_uri": "https://localhost:8080/"
        },
        "id": "u2nk_I3cdzsa",
        "outputId": "6a4be533-ab71-4f54-ab2e-17fcf514d872"
      },
      "source": [
        "data_valid.shape"
      ],
      "execution_count": 226,
      "outputs": [
        {
          "output_type": "execute_result",
          "data": {
            "text/plain": [
              "(29820, 26)"
            ]
          },
          "metadata": {
            "tags": []
          },
          "execution_count": 226
        }
      ]
    },
    {
      "cell_type": "code",
      "metadata": {
        "id": "cxGKvlSRNCyk"
      },
      "source": [
        ""
      ],
      "execution_count": null,
      "outputs": []
    },
    {
      "cell_type": "code",
      "metadata": {
        "colab": {
          "base_uri": "https://localhost:8080/"
        },
        "id": "RERRiKI9SG3l",
        "outputId": "8b67e4d9-8ff6-43cf-b76b-0532c250be8b"
      },
      "source": [
        "data_valid.columns"
      ],
      "execution_count": 227,
      "outputs": [
        {
          "output_type": "execute_result",
          "data": {
            "text/plain": [
              "Index(['Engine', 'Cycle', 'Setting 1', 'Setting 2', 'Setting 3', 'Sensor 1',\n",
              "       'Sensor 2', 'Sensor 3', 'Sensor 4', 'Sensor 5', 'Sensor 6', 'Sensor 7',\n",
              "       'Sensor 8', 'Sensor 9', 'Sensor 10', 'Sensor 11', 'Sensor 12',\n",
              "       'Sensor 13', 'Sensor 14', 'Sensor 15', 'Sensor 16', 'Sensor 17',\n",
              "       'Sensor 18', 'Sensor 19', 'Sensor 20', 'Sensor 21'],\n",
              "      dtype='object')"
            ]
          },
          "metadata": {
            "tags": []
          },
          "execution_count": 227
        }
      ]
    },
    {
      "cell_type": "code",
      "metadata": {
        "colab": {
          "base_uri": "https://localhost:8080/"
        },
        "id": "5Sv-_bN-7xEl",
        "outputId": "83365c62-4cc0-4b15-8aa4-baec4be06257"
      },
      "source": [
        "#load dataset\n",
        "from numpy import loadtxt\n",
        "dataset = data_valid.to_numpy()\n",
        "X_valid = dataset[:,1:27]\n",
        "X_valid.shape"
      ],
      "execution_count": 228,
      "outputs": [
        {
          "output_type": "execute_result",
          "data": {
            "text/plain": [
              "(29820, 25)"
            ]
          },
          "metadata": {
            "tags": []
          },
          "execution_count": 228
        }
      ]
    },
    {
      "cell_type": "code",
      "metadata": {
        "id": "fRNnbbsVZrsP",
        "colab": {
          "base_uri": "https://localhost:8080/"
        },
        "outputId": "b3f1d0eb-bea4-42e6-8ef7-fc5c89feb85e"
      },
      "source": [
        "#let's normalize this thing\n",
        "from sklearn.preprocessing import MinMaxScaler\n",
        "scaler = MinMaxScaler(feature_range=(-1, 1))\n",
        "scaler = scaler.fit(X_valid)\n",
        "#print('Min: %f, Max: %f' % (scaler.data_min_, scaler.data_max_))\n",
        "# normalize the dataset and print\n",
        "Xn_valid = scaler.transform(X_valid)\n",
        "print(Xn_valid)"
      ],
      "execution_count": 229,
      "outputs": [
        {
          "output_type": "stream",
          "text": [
            "[[-1.         -0.99992382 -0.99952494 ...  1.          0.97535091\n",
            "   0.96694376]\n",
            " [-0.99449036  0.19021615  0.47624703 ... -1.         -0.71448134\n",
            "  -0.70868828]\n",
            " [-0.98898072 -0.99998096 -1.         ...  1.          0.97124273\n",
            "   0.96309655]\n",
            " ...\n",
            " [-0.52066116 -0.0475957   0.66270784 ...  1.         -0.02088326\n",
            "  -0.03819731]\n",
            " [-0.51515152 -0.04762426  0.66270784 ...  1.         -0.01882917\n",
            "  -0.03304479]\n",
            " [-0.50964187 -0.04786231  0.66484561 ...  1.         -0.00787402\n",
            "  -0.0183315 ]]\n"
          ],
          "name": "stdout"
        }
      ]
    },
    {
      "cell_type": "code",
      "metadata": {
        "colab": {
          "base_uri": "https://localhost:8080/"
        },
        "id": "_OsoBJ9H7avx",
        "outputId": "2e987532-dd34-4cad-9544-6bea30b95388"
      },
      "source": [
        "Xn_valid.shape"
      ],
      "execution_count": 230,
      "outputs": [
        {
          "output_type": "execute_result",
          "data": {
            "text/plain": [
              "(29820, 25)"
            ]
          },
          "metadata": {
            "tags": []
          },
          "execution_count": 230
        }
      ]
    },
    {
      "cell_type": "code",
      "metadata": {
        "id": "p6f0p911SMIj"
      },
      "source": [
        "engine_old = 1\n",
        "cycle_old = 1\n",
        "last_cycle = []\n",
        "for index, row in data_valid.iterrows():\n",
        "  engine = row['Engine']\n",
        "  cycle = row['Cycle']\n",
        "  if engine > engine_old :\n",
        "    last_cycle.append(cycle_old)\n",
        "    engine_old = engine\n",
        "    cycle_old = cycle\n",
        "  else:\n",
        "    cycle_old = cycle\n",
        "last_cycle.append(data_valid['Cycle'].iloc[-1])   "
      ],
      "execution_count": 231,
      "outputs": []
    },
    {
      "cell_type": "code",
      "metadata": {
        "colab": {
          "base_uri": "https://localhost:8080/"
        },
        "id": "X1q87gYb_PGk",
        "outputId": "350211d2-5dd3-47f1-cebc-c8dd00262525"
      },
      "source": [
        "print(last_cycle)"
      ],
      "execution_count": 232,
      "outputs": [
        {
          "output_type": "stream",
          "text": [
            "[54.0, 157.0, 116.0, 74.0, 218.0, 151.0, 116.0, 287.0, 167.0, 177.0, 69.0, 224.0, 248.0, 93.0, 61.0, 138.0, 95.0, 135.0, 145.0, 145.0, 215.0, 129.0, 144.0, 16.0, 76.0, 79.0, 149.0, 39.0, 117.0, 156.0, 364.0, 79.0, 80.0, 52.0, 60.0, 181.0, 165.0, 89.0, 182.0, 126.0, 112.0, 202.0, 128.0, 150.0, 136.0, 120.0, 117.0, 242.0, 149.0, 179.0, 91.0, 129.0, 167.0, 143.0, 130.0, 152.0, 77.0, 164.0, 58.0, 80.0, 148.0, 163.0, 181.0, 258.0, 55.0, 183.0, 150.0, 93.0, 121.0, 153.0, 154.0, 132.0, 123.0, 56.0, 86.0, 188.0, 203.0, 109.0, 88.0, 73.0, 150.0, 124.0, 108.0, 51.0, 194.0, 87.0, 45.0, 122.0, 189.0, 23.0, 150.0, 72.0, 110.0, 125.0, 256.0, 70.0, 25.0, 209.0, 96.0, 80.0, 187.0, 132.0, 140.0, 127.0, 138.0, 234.0, 178.0, 89.0, 181.0, 138.0, 249.0, 275.0, 136.0, 159.0, 102.0, 221.0, 191.0, 78.0, 148.0, 190.0, 82.0, 177.0, 195.0, 134.0, 75.0, 169.0, 133.0, 115.0, 100.0, 187.0, 26.0, 163.0, 93.0, 280.0, 205.0, 186.0, 108.0, 134.0, 159.0, 154.0, 168.0, 185.0, 48.0, 107.0, 169.0, 44.0, 197.0, 238.0, 204.0, 15.0, 49.0, 117.0, 104.0, 116.0, 115.0, 103.0, 123.0, 122.0, 200.0, 125.0, 194.0, 220.0, 133.0, 28.0, 217.0, 73.0, 168.0, 81.0, 181.0, 119.0, 152.0, 167.0, 49.0, 198.0, 133.0, 102.0, 185.0, 236.0, 191.0, 85.0, 38.0, 174.0, 139.0, 117.0, 38.0, 59.0, 200.0, 69.0, 260.0, 35.0, 142.0, 155.0, 130.0, 139.0, 154.0, 166.0, 120.0, 103.0, 202.0, 248.0, 129.0, 224.0, 91.0, 189.0, 47.0, 176.0, 188.0, 134.0, 157.0, 109.0, 141.0, 216.0, 147.0, 175.0, 68.0, 33.0, 92.0, 90]\n"
          ],
          "name": "stdout"
        }
      ]
    },
    {
      "cell_type": "code",
      "metadata": {
        "colab": {
          "base_uri": "https://localhost:8080/"
        },
        "id": "ILRkrAQCaiJT",
        "outputId": "90f47f0c-b8fd-4380-a8f4-301c792a8dc5"
      },
      "source": [
        "print(min(last_cycle))"
      ],
      "execution_count": 233,
      "outputs": [
        {
          "output_type": "stream",
          "text": [
            "15.0\n"
          ],
          "name": "stdout"
        }
      ]
    },
    {
      "cell_type": "code",
      "metadata": {
        "colab": {
          "base_uri": "https://localhost:8080/"
        },
        "id": "YuikOw81_V8g",
        "outputId": "8f02a786-1057-4964-cab0-5f1ee874af3e"
      },
      "source": [
        "len(last_cycle)"
      ],
      "execution_count": 234,
      "outputs": [
        {
          "output_type": "execute_result",
          "data": {
            "text/plain": [
              "218"
            ]
          },
          "metadata": {
            "tags": []
          },
          "execution_count": 234
        }
      ]
    },
    {
      "cell_type": "code",
      "metadata": {
        "colab": {
          "base_uri": "https://localhost:8080/"
        },
        "id": "OjlHzGwpB240",
        "outputId": "0e9da5ec-0e2d-498c-86c2-320d22e681e4"
      },
      "source": [
        "counter = 0;\n",
        "for i in range(len(last_cycle)):\n",
        "  counter = counter + last_cycle[i]\n",
        "print(counter)\n"
      ],
      "execution_count": 235,
      "outputs": [
        {
          "output_type": "stream",
          "text": [
            "29820.0\n"
          ],
          "name": "stdout"
        }
      ]
    },
    {
      "cell_type": "code",
      "metadata": {
        "id": "PFKdTt6KTgbu",
        "colab": {
          "base_uri": "https://localhost:8080/"
        },
        "outputId": "2e1e2f6c-f54a-46ec-9c5d-9638c4ff027f"
      },
      "source": [
        "#need to reshape X into 3D: engine x cycle x sensor\n",
        "#for fist step, keep it symmetrical and use the lowest number of cycles in dataset\n",
        "#Y then becomes \n",
        "X_valid_new=np.empty(shape=(218,15,25))\n",
        "\n",
        "#i would be number of engines\n",
        "counter = 0\n",
        "for i in range(0,218):\n",
        "  print('i=',i)\n",
        "  # j would be number of cycles\n",
        "  for j in range(0,15):\n",
        "    #print('j=',j)\n",
        "    #k would be number of sensors\n",
        "    for k in range(0,25):\n",
        "      #print('k=',k)\n",
        "      #print('counter',counter)\n",
        "      X_valid_new[i,j,k]=Xn_valid[counter,k]\n",
        "\n",
        "    if j == 0:\n",
        "      print(counter)\n",
        "      counter = counter + (int(last_cycle[i]) - 15) +1\n",
        "      print(counter)\n",
        "    else: \n",
        "      counter = counter + 1\n",
        "    if (j == 14):\n",
        "      print(counter)"
      ],
      "execution_count": 236,
      "outputs": [
        {
          "output_type": "stream",
          "text": [
            "i= 0\n",
            "0\n",
            "40\n",
            "54\n",
            "i= 1\n",
            "54\n",
            "197\n",
            "211\n",
            "i= 2\n",
            "211\n",
            "313\n",
            "327\n",
            "i= 3\n",
            "327\n",
            "387\n",
            "401\n",
            "i= 4\n",
            "401\n",
            "605\n",
            "619\n",
            "i= 5\n",
            "619\n",
            "756\n",
            "770\n",
            "i= 6\n",
            "770\n",
            "872\n",
            "886\n",
            "i= 7\n",
            "886\n",
            "1159\n",
            "1173\n",
            "i= 8\n",
            "1173\n",
            "1326\n",
            "1340\n",
            "i= 9\n",
            "1340\n",
            "1503\n",
            "1517\n",
            "i= 10\n",
            "1517\n",
            "1572\n",
            "1586\n",
            "i= 11\n",
            "1586\n",
            "1796\n",
            "1810\n",
            "i= 12\n",
            "1810\n",
            "2044\n",
            "2058\n",
            "i= 13\n",
            "2058\n",
            "2137\n",
            "2151\n",
            "i= 14\n",
            "2151\n",
            "2198\n",
            "2212\n",
            "i= 15\n",
            "2212\n",
            "2336\n",
            "2350\n",
            "i= 16\n",
            "2350\n",
            "2431\n",
            "2445\n",
            "i= 17\n",
            "2445\n",
            "2566\n",
            "2580\n",
            "i= 18\n",
            "2580\n",
            "2711\n",
            "2725\n",
            "i= 19\n",
            "2725\n",
            "2856\n",
            "2870\n",
            "i= 20\n",
            "2870\n",
            "3071\n",
            "3085\n",
            "i= 21\n",
            "3085\n",
            "3200\n",
            "3214\n",
            "i= 22\n",
            "3214\n",
            "3344\n",
            "3358\n",
            "i= 23\n",
            "3358\n",
            "3360\n",
            "3374\n",
            "i= 24\n",
            "3374\n",
            "3436\n",
            "3450\n",
            "i= 25\n",
            "3450\n",
            "3515\n",
            "3529\n",
            "i= 26\n",
            "3529\n",
            "3664\n",
            "3678\n",
            "i= 27\n",
            "3678\n",
            "3703\n",
            "3717\n",
            "i= 28\n",
            "3717\n",
            "3820\n",
            "3834\n",
            "i= 29\n",
            "3834\n",
            "3976\n",
            "3990\n",
            "i= 30\n",
            "3990\n",
            "4340\n",
            "4354\n",
            "i= 31\n",
            "4354\n",
            "4419\n",
            "4433\n",
            "i= 32\n",
            "4433\n",
            "4499\n",
            "4513\n",
            "i= 33\n",
            "4513\n",
            "4551\n",
            "4565\n",
            "i= 34\n",
            "4565\n",
            "4611\n",
            "4625\n",
            "i= 35\n",
            "4625\n",
            "4792\n",
            "4806\n",
            "i= 36\n",
            "4806\n",
            "4957\n",
            "4971\n",
            "i= 37\n",
            "4971\n",
            "5046\n",
            "5060\n",
            "i= 38\n",
            "5060\n",
            "5228\n",
            "5242\n",
            "i= 39\n",
            "5242\n",
            "5354\n",
            "5368\n",
            "i= 40\n",
            "5368\n",
            "5466\n",
            "5480\n",
            "i= 41\n",
            "5480\n",
            "5668\n",
            "5682\n",
            "i= 42\n",
            "5682\n",
            "5796\n",
            "5810\n",
            "i= 43\n",
            "5810\n",
            "5946\n",
            "5960\n",
            "i= 44\n",
            "5960\n",
            "6082\n",
            "6096\n",
            "i= 45\n",
            "6096\n",
            "6202\n",
            "6216\n",
            "i= 46\n",
            "6216\n",
            "6319\n",
            "6333\n",
            "i= 47\n",
            "6333\n",
            "6561\n",
            "6575\n",
            "i= 48\n",
            "6575\n",
            "6710\n",
            "6724\n",
            "i= 49\n",
            "6724\n",
            "6889\n",
            "6903\n",
            "i= 50\n",
            "6903\n",
            "6980\n",
            "6994\n",
            "i= 51\n",
            "6994\n",
            "7109\n",
            "7123\n",
            "i= 52\n",
            "7123\n",
            "7276\n",
            "7290\n",
            "i= 53\n",
            "7290\n",
            "7419\n",
            "7433\n",
            "i= 54\n",
            "7433\n",
            "7549\n",
            "7563\n",
            "i= 55\n",
            "7563\n",
            "7701\n",
            "7715\n",
            "i= 56\n",
            "7715\n",
            "7778\n",
            "7792\n",
            "i= 57\n",
            "7792\n",
            "7942\n",
            "7956\n",
            "i= 58\n",
            "7956\n",
            "8000\n",
            "8014\n",
            "i= 59\n",
            "8014\n",
            "8080\n",
            "8094\n",
            "i= 60\n",
            "8094\n",
            "8228\n",
            "8242\n",
            "i= 61\n",
            "8242\n",
            "8391\n",
            "8405\n",
            "i= 62\n",
            "8405\n",
            "8572\n",
            "8586\n",
            "i= 63\n",
            "8586\n",
            "8830\n",
            "8844\n",
            "i= 64\n",
            "8844\n",
            "8885\n",
            "8899\n",
            "i= 65\n",
            "8899\n",
            "9068\n",
            "9082\n",
            "i= 66\n",
            "9082\n",
            "9218\n",
            "9232\n",
            "i= 67\n",
            "9232\n",
            "9311\n",
            "9325\n",
            "i= 68\n",
            "9325\n",
            "9432\n",
            "9446\n",
            "i= 69\n",
            "9446\n",
            "9585\n",
            "9599\n",
            "i= 70\n",
            "9599\n",
            "9739\n",
            "9753\n",
            "i= 71\n",
            "9753\n",
            "9871\n",
            "9885\n",
            "i= 72\n",
            "9885\n",
            "9994\n",
            "10008\n",
            "i= 73\n",
            "10008\n",
            "10050\n",
            "10064\n",
            "i= 74\n",
            "10064\n",
            "10136\n",
            "10150\n",
            "i= 75\n",
            "10150\n",
            "10324\n",
            "10338\n",
            "i= 76\n",
            "10338\n",
            "10527\n",
            "10541\n",
            "i= 77\n",
            "10541\n",
            "10636\n",
            "10650\n",
            "i= 78\n",
            "10650\n",
            "10724\n",
            "10738\n",
            "i= 79\n",
            "10738\n",
            "10797\n",
            "10811\n",
            "i= 80\n",
            "10811\n",
            "10947\n",
            "10961\n",
            "i= 81\n",
            "10961\n",
            "11071\n",
            "11085\n",
            "i= 82\n",
            "11085\n",
            "11179\n",
            "11193\n",
            "i= 83\n",
            "11193\n",
            "11230\n",
            "11244\n",
            "i= 84\n",
            "11244\n",
            "11424\n",
            "11438\n",
            "i= 85\n",
            "11438\n",
            "11511\n",
            "11525\n",
            "i= 86\n",
            "11525\n",
            "11556\n",
            "11570\n",
            "i= 87\n",
            "11570\n",
            "11678\n",
            "11692\n",
            "i= 88\n",
            "11692\n",
            "11867\n",
            "11881\n",
            "i= 89\n",
            "11881\n",
            "11890\n",
            "11904\n",
            "i= 90\n",
            "11904\n",
            "12040\n",
            "12054\n",
            "i= 91\n",
            "12054\n",
            "12112\n",
            "12126\n",
            "i= 92\n",
            "12126\n",
            "12222\n",
            "12236\n",
            "i= 93\n",
            "12236\n",
            "12347\n",
            "12361\n",
            "i= 94\n",
            "12361\n",
            "12603\n",
            "12617\n",
            "i= 95\n",
            "12617\n",
            "12673\n",
            "12687\n",
            "i= 96\n",
            "12687\n",
            "12698\n",
            "12712\n",
            "i= 97\n",
            "12712\n",
            "12907\n",
            "12921\n",
            "i= 98\n",
            "12921\n",
            "13003\n",
            "13017\n",
            "i= 99\n",
            "13017\n",
            "13083\n",
            "13097\n",
            "i= 100\n",
            "13097\n",
            "13270\n",
            "13284\n",
            "i= 101\n",
            "13284\n",
            "13402\n",
            "13416\n",
            "i= 102\n",
            "13416\n",
            "13542\n",
            "13556\n",
            "i= 103\n",
            "13556\n",
            "13669\n",
            "13683\n",
            "i= 104\n",
            "13683\n",
            "13807\n",
            "13821\n",
            "i= 105\n",
            "13821\n",
            "14041\n",
            "14055\n",
            "i= 106\n",
            "14055\n",
            "14219\n",
            "14233\n",
            "i= 107\n",
            "14233\n",
            "14308\n",
            "14322\n",
            "i= 108\n",
            "14322\n",
            "14489\n",
            "14503\n",
            "i= 109\n",
            "14503\n",
            "14627\n",
            "14641\n",
            "i= 110\n",
            "14641\n",
            "14876\n",
            "14890\n",
            "i= 111\n",
            "14890\n",
            "15151\n",
            "15165\n",
            "i= 112\n",
            "15165\n",
            "15287\n",
            "15301\n",
            "i= 113\n",
            "15301\n",
            "15446\n",
            "15460\n",
            "i= 114\n",
            "15460\n",
            "15548\n",
            "15562\n",
            "i= 115\n",
            "15562\n",
            "15769\n",
            "15783\n",
            "i= 116\n",
            "15783\n",
            "15960\n",
            "15974\n",
            "i= 117\n",
            "15974\n",
            "16038\n",
            "16052\n",
            "i= 118\n",
            "16052\n",
            "16186\n",
            "16200\n",
            "i= 119\n",
            "16200\n",
            "16376\n",
            "16390\n",
            "i= 120\n",
            "16390\n",
            "16458\n",
            "16472\n",
            "i= 121\n",
            "16472\n",
            "16635\n",
            "16649\n",
            "i= 122\n",
            "16649\n",
            "16830\n",
            "16844\n",
            "i= 123\n",
            "16844\n",
            "16964\n",
            "16978\n",
            "i= 124\n",
            "16978\n",
            "17039\n",
            "17053\n",
            "i= 125\n",
            "17053\n",
            "17208\n",
            "17222\n",
            "i= 126\n",
            "17222\n",
            "17341\n",
            "17355\n",
            "i= 127\n",
            "17355\n",
            "17456\n",
            "17470\n",
            "i= 128\n",
            "17470\n",
            "17556\n",
            "17570\n",
            "i= 129\n",
            "17570\n",
            "17743\n",
            "17757\n",
            "i= 130\n",
            "17757\n",
            "17769\n",
            "17783\n",
            "i= 131\n",
            "17783\n",
            "17932\n",
            "17946\n",
            "i= 132\n",
            "17946\n",
            "18025\n",
            "18039\n",
            "i= 133\n",
            "18039\n",
            "18305\n",
            "18319\n",
            "i= 134\n",
            "18319\n",
            "18510\n",
            "18524\n",
            "i= 135\n",
            "18524\n",
            "18696\n",
            "18710\n",
            "i= 136\n",
            "18710\n",
            "18804\n",
            "18818\n",
            "i= 137\n",
            "18818\n",
            "18938\n",
            "18952\n",
            "i= 138\n",
            "18952\n",
            "19097\n",
            "19111\n",
            "i= 139\n",
            "19111\n",
            "19251\n",
            "19265\n",
            "i= 140\n",
            "19265\n",
            "19419\n",
            "19433\n",
            "i= 141\n",
            "19433\n",
            "19604\n",
            "19618\n",
            "i= 142\n",
            "19618\n",
            "19652\n",
            "19666\n",
            "i= 143\n",
            "19666\n",
            "19759\n",
            "19773\n",
            "i= 144\n",
            "19773\n",
            "19928\n",
            "19942\n",
            "i= 145\n",
            "19942\n",
            "19972\n",
            "19986\n",
            "i= 146\n",
            "19986\n",
            "20169\n",
            "20183\n",
            "i= 147\n",
            "20183\n",
            "20407\n",
            "20421\n",
            "i= 148\n",
            "20421\n",
            "20611\n",
            "20625\n",
            "i= 149\n",
            "20625\n",
            "20626\n",
            "20640\n",
            "i= 150\n",
            "20640\n",
            "20675\n",
            "20689\n",
            "i= 151\n",
            "20689\n",
            "20792\n",
            "20806\n",
            "i= 152\n",
            "20806\n",
            "20896\n",
            "20910\n",
            "i= 153\n",
            "20910\n",
            "21012\n",
            "21026\n",
            "i= 154\n",
            "21026\n",
            "21127\n",
            "21141\n",
            "i= 155\n",
            "21141\n",
            "21230\n",
            "21244\n",
            "i= 156\n",
            "21244\n",
            "21353\n",
            "21367\n",
            "i= 157\n",
            "21367\n",
            "21475\n",
            "21489\n",
            "i= 158\n",
            "21489\n",
            "21675\n",
            "21689\n",
            "i= 159\n",
            "21689\n",
            "21800\n",
            "21814\n",
            "i= 160\n",
            "21814\n",
            "21994\n",
            "22008\n",
            "i= 161\n",
            "22008\n",
            "22214\n",
            "22228\n",
            "i= 162\n",
            "22228\n",
            "22347\n",
            "22361\n",
            "i= 163\n",
            "22361\n",
            "22375\n",
            "22389\n",
            "i= 164\n",
            "22389\n",
            "22592\n",
            "22606\n",
            "i= 165\n",
            "22606\n",
            "22665\n",
            "22679\n",
            "i= 166\n",
            "22679\n",
            "22833\n",
            "22847\n",
            "i= 167\n",
            "22847\n",
            "22914\n",
            "22928\n",
            "i= 168\n",
            "22928\n",
            "23095\n",
            "23109\n",
            "i= 169\n",
            "23109\n",
            "23214\n",
            "23228\n",
            "i= 170\n",
            "23228\n",
            "23366\n",
            "23380\n",
            "i= 171\n",
            "23380\n",
            "23533\n",
            "23547\n",
            "i= 172\n",
            "23547\n",
            "23582\n",
            "23596\n",
            "i= 173\n",
            "23596\n",
            "23780\n",
            "23794\n",
            "i= 174\n",
            "23794\n",
            "23913\n",
            "23927\n",
            "i= 175\n",
            "23927\n",
            "24015\n",
            "24029\n",
            "i= 176\n",
            "24029\n",
            "24200\n",
            "24214\n",
            "i= 177\n",
            "24214\n",
            "24436\n",
            "24450\n",
            "i= 178\n",
            "24450\n",
            "24627\n",
            "24641\n",
            "i= 179\n",
            "24641\n",
            "24712\n",
            "24726\n",
            "i= 180\n",
            "24726\n",
            "24750\n",
            "24764\n",
            "i= 181\n",
            "24764\n",
            "24924\n",
            "24938\n",
            "i= 182\n",
            "24938\n",
            "25063\n",
            "25077\n",
            "i= 183\n",
            "25077\n",
            "25180\n",
            "25194\n",
            "i= 184\n",
            "25194\n",
            "25218\n",
            "25232\n",
            "i= 185\n",
            "25232\n",
            "25277\n",
            "25291\n",
            "i= 186\n",
            "25291\n",
            "25477\n",
            "25491\n",
            "i= 187\n",
            "25491\n",
            "25546\n",
            "25560\n",
            "i= 188\n",
            "25560\n",
            "25806\n",
            "25820\n",
            "i= 189\n",
            "25820\n",
            "25841\n",
            "25855\n",
            "i= 190\n",
            "25855\n",
            "25983\n",
            "25997\n",
            "i= 191\n",
            "25997\n",
            "26138\n",
            "26152\n",
            "i= 192\n",
            "26152\n",
            "26268\n",
            "26282\n",
            "i= 193\n",
            "26282\n",
            "26407\n",
            "26421\n",
            "i= 194\n",
            "26421\n",
            "26561\n",
            "26575\n",
            "i= 195\n",
            "26575\n",
            "26727\n",
            "26741\n",
            "i= 196\n",
            "26741\n",
            "26847\n",
            "26861\n",
            "i= 197\n",
            "26861\n",
            "26950\n",
            "26964\n",
            "i= 198\n",
            "26964\n",
            "27152\n",
            "27166\n",
            "i= 199\n",
            "27166\n",
            "27400\n",
            "27414\n",
            "i= 200\n",
            "27414\n",
            "27529\n",
            "27543\n",
            "i= 201\n",
            "27543\n",
            "27753\n",
            "27767\n",
            "i= 202\n",
            "27767\n",
            "27844\n",
            "27858\n",
            "i= 203\n",
            "27858\n",
            "28033\n",
            "28047\n",
            "i= 204\n",
            "28047\n",
            "28080\n",
            "28094\n",
            "i= 205\n",
            "28094\n",
            "28256\n",
            "28270\n",
            "i= 206\n",
            "28270\n",
            "28444\n",
            "28458\n",
            "i= 207\n",
            "28458\n",
            "28578\n",
            "28592\n",
            "i= 208\n",
            "28592\n",
            "28735\n",
            "28749\n",
            "i= 209\n",
            "28749\n",
            "28844\n",
            "28858\n",
            "i= 210\n",
            "28858\n",
            "28985\n",
            "28999\n",
            "i= 211\n",
            "28999\n",
            "29201\n",
            "29215\n",
            "i= 212\n",
            "29215\n",
            "29348\n",
            "29362\n",
            "i= 213\n",
            "29362\n",
            "29523\n",
            "29537\n",
            "i= 214\n",
            "29537\n",
            "29591\n",
            "29605\n",
            "i= 215\n",
            "29605\n",
            "29624\n",
            "29638\n",
            "i= 216\n",
            "29638\n",
            "29716\n",
            "29730\n",
            "i= 217\n",
            "29730\n",
            "29806\n",
            "29820\n"
          ],
          "name": "stdout"
        }
      ]
    },
    {
      "cell_type": "code",
      "metadata": {
        "id": "7HkxtLZSVoq2"
      },
      "source": [
        ""
      ],
      "execution_count": null,
      "outputs": []
    },
    {
      "cell_type": "code",
      "metadata": {
        "colab": {
          "base_uri": "https://localhost:8080/"
        },
        "id": "i_D3wy30VRAw",
        "outputId": "a0f97776-f886-4076-9f6d-610c72108c22"
      },
      "source": [
        "print(last_cycle)"
      ],
      "execution_count": null,
      "outputs": [
        {
          "output_type": "stream",
          "text": [
            "[54.0, 157.0, 116.0, 74.0, 218.0, 151.0, 116.0, 287.0, 167.0, 177.0, 69.0, 224.0, 248.0, 93.0, 61.0, 138.0, 95.0, 135.0, 145.0, 145.0, 215.0, 129.0, 144.0, 16.0, 76.0, 79.0, 149.0, 39.0, 117.0, 156.0, 364.0, 79.0, 80.0, 52.0, 60.0, 181.0, 165.0, 89.0, 182.0, 126.0, 112.0, 202.0, 128.0, 150.0, 136.0, 120.0, 117.0, 242.0, 149.0, 179.0, 91.0, 129.0, 167.0, 143.0, 130.0, 152.0, 77.0, 164.0, 58.0, 80.0, 148.0, 163.0, 181.0, 258.0, 55.0, 183.0, 150.0, 93.0, 121.0, 153.0, 154.0, 132.0, 123.0, 56.0, 86.0, 188.0, 203.0, 109.0, 88.0, 73.0, 150.0, 124.0, 108.0, 51.0, 194.0, 87.0, 45.0, 122.0, 189.0, 23.0, 150.0, 72.0, 110.0, 125.0, 256.0, 70.0, 25.0, 209.0, 96.0, 80.0, 187.0, 132.0, 140.0, 127.0, 138.0, 234.0, 178.0, 89.0, 181.0, 138.0, 249.0, 275.0, 136.0, 159.0, 102.0, 221.0, 191.0, 78.0, 148.0, 190.0, 82.0, 177.0, 195.0, 134.0, 75.0, 169.0, 133.0, 115.0, 100.0, 187.0, 26.0, 163.0, 93.0, 280.0, 205.0, 186.0, 108.0, 134.0, 159.0, 154.0, 168.0, 185.0, 48.0, 107.0, 169.0, 44.0, 197.0, 238.0, 204.0, 15.0, 49.0, 117.0, 104.0, 116.0, 115.0, 103.0, 123.0, 122.0, 200.0, 125.0, 194.0, 220.0, 133.0, 28.0, 217.0, 73.0, 168.0, 81.0, 181.0, 119.0, 152.0, 167.0, 49.0, 198.0, 133.0, 102.0, 185.0, 236.0, 191.0, 85.0, 38.0, 174.0, 139.0, 117.0, 38.0, 59.0, 200.0, 69.0, 260.0, 35.0, 142.0, 155.0, 130.0, 139.0, 154.0, 166.0, 120.0, 103.0, 202.0, 248.0, 129.0, 224.0, 91.0, 189.0, 47.0, 176.0, 188.0, 134.0, 157.0, 109.0, 141.0, 216.0, 147.0, 175.0, 68.0, 33.0, 92.0]\n"
          ],
          "name": "stdout"
        }
      ]
    },
    {
      "cell_type": "code",
      "metadata": {
        "colab": {
          "base_uri": "https://localhost:8080/"
        },
        "id": "P-KmrHHMG9RQ",
        "outputId": "c7658863-44d9-4b6d-c0f9-03b2807c926f"
      },
      "source": [
        "print(len(last_cycle))"
      ],
      "execution_count": null,
      "outputs": [
        {
          "output_type": "stream",
          "text": [
            "218\n"
          ],
          "name": "stdout"
        }
      ]
    },
    {
      "cell_type": "code",
      "metadata": {
        "id": "YitpU6r5mak0"
      },
      "source": [
        "list_of_columns = data.columns"
      ],
      "execution_count": null,
      "outputs": []
    },
    {
      "cell_type": "code",
      "metadata": {
        "colab": {
          "base_uri": "https://localhost:8080/"
        },
        "id": "9PyE9xMhgoaM",
        "outputId": "80d1b8b9-bb6a-4850-98c6-5135f1bdc84c"
      },
      "source": [
        "data.columns"
      ],
      "execution_count": null,
      "outputs": [
        {
          "output_type": "execute_result",
          "data": {
            "text/plain": [
              "Index(['Engine', 'Cycle', 'Setting 1', 'Setting 2', 'Setting 3', 'Sensor 1',\n",
              "       'Sensor 2', 'Sensor 3', 'Sensor 4', 'Sensor 5', 'Sensor 6', 'Sensor 7',\n",
              "       'Sensor 8', 'Sensor 9', 'Sensor 10', 'Sensor 11', 'Sensor 12',\n",
              "       'Sensor 13', 'Sensor 14', 'Sensor 15', 'Sensor 16', 'Sensor 17',\n",
              "       'Sensor 18', 'Sensor 19', 'Sensor 20', 'Sensor 21'],\n",
              "      dtype='object')"
            ]
          },
          "metadata": {
            "tags": []
          },
          "execution_count": 443
        }
      ]
    },
    {
      "cell_type": "code",
      "metadata": {
        "id": "RUzBa6EWXt_m"
      },
      "source": [
        ""
      ],
      "execution_count": null,
      "outputs": []
    },
    {
      "cell_type": "code",
      "metadata": {
        "id": "6TWNt3ZCVTxZ"
      },
      "source": [
        "RUL_tags_valid = model.predict(X_valid_new)\n",
        "\n"
      ],
      "execution_count": 237,
      "outputs": []
    },
    {
      "cell_type": "code",
      "metadata": {
        "colab": {
          "base_uri": "https://localhost:8080/"
        },
        "id": "goZmy7BKbVdC",
        "outputId": "15bfa502-a476-47e4-a784-c918aed3c633"
      },
      "source": [
        "RUL_tags_valid.shape"
      ],
      "execution_count": 238,
      "outputs": [
        {
          "output_type": "execute_result",
          "data": {
            "text/plain": [
              "(218, 15, 131)"
            ]
          },
          "metadata": {
            "tags": []
          },
          "execution_count": 238
        }
      ]
    },
    {
      "cell_type": "code",
      "metadata": {
        "colab": {
          "base_uri": "https://localhost:8080/",
          "height": 282
        },
        "id": "_Jg7KGjVYIIS",
        "outputId": "0feec1e8-11d8-438e-ddbd-ead4dd4622b2"
      },
      "source": [
        "#let's look at the predictions\n",
        "predicted_RUL = np.zeros((218,15))\n",
        "for i in range(0,218):\n",
        "  for j in range(0,15):\n",
        "    predicted_RUL[i,j] = np.argmax(RUL_tags_valid[i,j,:])\n",
        "\n",
        "\n",
        "plt.plot(predicted_RUL[10])"
      ],
      "execution_count": 249,
      "outputs": [
        {
          "output_type": "execute_result",
          "data": {
            "text/plain": [
              "[<matplotlib.lines.Line2D at 0x7f22862f64d0>]"
            ]
          },
          "metadata": {
            "tags": []
          },
          "execution_count": 249
        },
        {
          "output_type": "display_data",
          "data": {
            "image/png": "[encoded data removed]",
            "text/plain": [
              "<Figure size 432x288 with 1 Axes>"
            ]
          },
          "metadata": {
            "tags": [],
            "needs_background": "light"
          }
        }
      ]
    },
    {
      "cell_type": "code",
      "metadata": {
        "id": "q1jsoqXfZBTg"
      },
      "source": [
        "#let's get the last elements\n",
        "last_element = []\n",
        "for i in range(len(predicted_RUL)):\n",
        "  ylen = len(predicted_RUL[i])\n",
        "  #print(ylen)\n",
        "  y = predicted_RUL[i]\n",
        "  a = y[ylen-1] \n",
        "  #print(a)\n",
        "  last_element.append(int(a))"
      ],
      "execution_count": 255,
      "outputs": []
    },
    {
      "cell_type": "code",
      "metadata": {
        "colab": {
          "base_uri": "https://localhost:8080/"
        },
        "id": "VPolt-2dZy-Y",
        "outputId": "414fce97-7b9a-4506-8983-66abcb989ff3"
      },
      "source": [
        "print(last_element)"
      ],
      "execution_count": 251,
      "outputs": [
        {
          "output_type": "stream",
          "text": [
            "[17, 25, 41, 130, 12, 63, 16, 7, 130, 51, 130, 2, 11, 130, 130, 28, 29, 130, 130, 42, 13, 130, 48, 130, 130, 41, 33, 130, 53, 41, 8, 130, 130, 130, 130, 11, 18, 130, 0, 130, 42, 3, 10, 19, 29, 15, 18, 16, 130, 57, 130, 130, 42, 32, 130, 51, 130, 17, 130, 46, 5, 45, 22, 16, 130, 18, 28, 29, 45, 42, 28, 10, 45, 130, 29, 9, 28, 130, 130, 130, 2, 51, 45, 130, 20, 130, 130, 42, 17, 130, 17, 130, 130, 55, 1, 45, 130, 6, 46, 41, 4, 21, 46, 28, 53, 16, 10, 21, 15, 20, 8, 13, 130, 16, 45, 6, 2, 130, 17, 31, 130, 16, 8, 8, 130, 130, 17, 65, 22, 10, 130, 48, 130, 8, 31, 24, 45, 18, 6, 19, 18, 10, 130, 130, 36, 130, 65, 29, 13, 130, 130, 16, 19, 17, 41, 130, 33, 130, 28, 13, 16, 16, 6, 130, 66, 130, 51, 130, 32, 45, 19, 42, 21, 42, 42, 130, 13, 13, 13, 44, 130, 31, 51, 130, 130, 130, 19, 130, 3, 130, 17, 13, 130, 14, 7, 16, 45, 10, 19, 6, 71, 1, 22, 29, 130, 130, 9, 17, 28, 130, 52, 15, 36, 4, 130, 130, 130, 22]\n"
          ],
          "name": "stdout"
        }
      ]
    },
    {
      "cell_type": "code",
      "metadata": {
        "colab": {
          "base_uri": "https://localhost:8080/"
        },
        "id": "KBvcOjgHLI03",
        "outputId": "399323cc-fd4f-4f67-a104-1cba1ade06c3"
      },
      "source": [
        "len(last_element)"
      ],
      "execution_count": 252,
      "outputs": [
        {
          "output_type": "execute_result",
          "data": {
            "text/plain": [
              "218"
            ]
          },
          "metadata": {
            "tags": []
          },
          "execution_count": 252
        }
      ]
    },
    {
      "cell_type": "code",
      "metadata": {
        "id": "B4NdbvxCOjHM"
      },
      "source": [
        "#let's get the lowest element\n",
        "lowest_element = []\n",
        "for i in range(len(predicted_RUL)):\n",
        "  lowest_element.append(min(predicted_RUL[i]))"
      ],
      "execution_count": 256,
      "outputs": []
    },
    {
      "cell_type": "code",
      "metadata": {
        "id": "9yuCT2iGLLZx",
        "colab": {
          "base_uri": "https://localhost:8080/"
        },
        "outputId": "fb3f17b3-c77f-48ce-b536-a612682bcfcb"
      },
      "source": [
        "print(lowest_element)"
      ],
      "execution_count": 257,
      "outputs": [
        {
          "output_type": "stream",
          "text": [
            "[15.0, 23.0, 41.0, 130.0, 12.0, 42.0, 16.0, 7.0, 66.0, 35.0, 130.0, 2.0, 11.0, 130.0, 130.0, 27.0, 29.0, 130.0, 130.0, 35.0, 11.0, 45.0, 47.0, 130.0, 130.0, 37.0, 33.0, 130.0, 36.0, 41.0, 8.0, 130.0, 130.0, 130.0, 130.0, 11.0, 18.0, 130.0, 0.0, 130.0, 42.0, 3.0, 9.0, 17.0, 28.0, 15.0, 18.0, 12.0, 103.0, 53.0, 130.0, 130.0, 42.0, 20.0, 130.0, 51.0, 130.0, 17.0, 130.0, 41.0, 5.0, 41.0, 17.0, 11.0, 130.0, 17.0, 28.0, 29.0, 45.0, 42.0, 28.0, 10.0, 45.0, 130.0, 29.0, 9.0, 22.0, 130.0, 130.0, 130.0, 2.0, 42.0, 45.0, 130.0, 20.0, 130.0, 130.0, 42.0, 17.0, 130.0, 17.0, 130.0, 130.0, 42.0, 1.0, 45.0, 130.0, 6.0, 46.0, 41.0, 4.0, 21.0, 46.0, 28.0, 46.0, 16.0, 10.0, 21.0, 15.0, 17.0, 8.0, 10.0, 130.0, 12.0, 42.0, 6.0, 2.0, 130.0, 17.0, 28.0, 130.0, 10.0, 8.0, 8.0, 130.0, 130.0, 16.0, 45.0, 22.0, 9.0, 130.0, 35.0, 130.0, 8.0, 22.0, 21.0, 44.0, 18.0, 6.0, 17.0, 18.0, 10.0, 130.0, 130.0, 36.0, 130.0, 51.0, 29.0, 10.0, 130.0, 130.0, 13.0, 12.0, 16.0, 41.0, 130.0, 31.0, 130.0, 22.0, 13.0, 5.0, 16.0, 6.0, 130.0, 63.0, 130.0, 51.0, 45.0, 32.0, 42.0, 17.0, 42.0, 20.0, 33.0, 42.0, 130.0, 13.0, 13.0, 12.0, 44.0, 130.0, 30.0, 41.0, 130.0, 130.0, 130.0, 19.0, 130.0, 3.0, 130.0, 16.0, 8.0, 130.0, 14.0, 7.0, 16.0, 45.0, 9.0, 19.0, 6.0, 42.0, 1.0, 12.0, 22.0, 130.0, 130.0, 9.0, 16.0, 19.0, 130.0, 41.0, 10.0, 34.0, 4.0, 130.0, 130.0, 130.0, 19.0]\n"
          ],
          "name": "stdout"
        }
      ]
    },
    {
      "cell_type": "code",
      "metadata": {
        "id": "_dAshmRtZ6H5"
      },
      "source": [
        "with open('lmst_last.txt', 'w') as filehandle:\n",
        "    for item in last_element:\n",
        "        filehandle.write('%s\\n' % item)"
      ],
      "execution_count": 258,
      "outputs": []
    },
    {
      "cell_type": "code",
      "metadata": {
        "id": "x7gFQJxyPPq9"
      },
      "source": [
        "with open('lmst_lowest.txt', 'w') as filehandle:\n",
        "    for item in lowest_element:\n",
        "        filehandle.write('%s\\n' % item)"
      ],
      "execution_count": 260,
      "outputs": []
    },
    {
      "cell_type": "code",
      "metadata": {
        "id": "IU85DxOOeZ_2"
      },
      "source": [
        "#read test\n",
        "data = pd.read_csv('train_rul.csv',sep=\",\")"
      ],
      "execution_count": null,
      "outputs": []
    },
    {
      "cell_type": "code",
      "metadata": {
        "id": "eY1bnFNlemMN"
      },
      "source": [
        "engine_old = 1\n",
        "cycle_old = 1\n",
        "last_cycle = []\n",
        "for index, row in data.iterrows():\n",
        "  engine = row['Engine']\n",
        "  cycle = row['Cycle']\n",
        "  if engine > engine_old :\n",
        "    last_cycle.append(cycle_old)\n",
        "    engine_old = engine\n",
        "    cycle_old = cycle\n",
        "  else:\n",
        "    cycle_old = cycle"
      ],
      "execution_count": null,
      "outputs": []
    },
    {
      "cell_type": "code",
      "metadata": {
        "id": "-NQjqY1hephH"
      },
      "source": [
        "last_cycle.append(data['Cycle'].iloc[-1])"
      ],
      "execution_count": null,
      "outputs": []
    }
  ]
}