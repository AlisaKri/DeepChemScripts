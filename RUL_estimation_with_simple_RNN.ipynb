{
  "nbformat": 4,
  "nbformat_minor": 0,
  "metadata": {
    "colab": {
      "name": "RUL_estimation with simple RNN",
      "provenance": [],
      "collapsed_sections": [],
      "authorship_tag": "ABX9TyOxB0EHbwbLWDUiSN9lll1S",
      "include_colab_link": true
    },
    "kernelspec": {
      "name": "python3",
      "display_name": "Python 3"
    },
    "language_info": {
      "name": "python"
    }
  },
  "cells": [
    {
      "cell_type": "markdown",
      "metadata": {
        "id": "view-in-github",
        "colab_type": "text"
      },
      "source": [
        "<a href=\"https://colab.research.google.com/github/AlisaKri/DeepChemScripts/blob/master/RUL_estimation_with_simple_RNN.ipynb\" target=\"_parent\"><img src=\"https://colab.research.google.com/assets/colab-badge.svg\" alt=\"Open In Colab\"/></a>"
      ]
    },
    {
      "cell_type": "code",
      "metadata": {
        "id": "uHAJdzx27WM9"
      },
      "source": [
        "import numpy as np\n",
        "import pandas as pd"
      ],
      "execution_count": 173,
      "outputs": []
    },
    {
      "cell_type": "code",
      "metadata": {
        "id": "1K-DqVYK8Ciz"
      },
      "source": [
        "data = pd.read_csv('train_rul.csv',sep=\",\")"
      ],
      "execution_count": 184,
      "outputs": []
    },
    {
      "cell_type": "code",
      "metadata": {
        "id": "VhpMA3-wIfxO"
      },
      "source": [
        "#check no garbage in RUL\n",
        "for index, row in data.iterrows():\n",
        "  if data.at[index, 'RUL'] < 0:\n",
        "    print(index)\n",
        "    print(data.at[index, 'RUL'])"
      ],
      "execution_count": 185,
      "outputs": []
    },
    {
      "cell_type": "code",
      "metadata": {
        "colab": {
          "base_uri": "https://localhost:8080/"
        },
        "id": "99eUxrnjpELM",
        "outputId": "1ec1bff8-9d3f-4af6-d756-7d77998115c8"
      },
      "source": [
        "min(RUL)"
      ],
      "execution_count": 186,
      "outputs": [
        {
          "output_type": "execute_result",
          "data": {
            "text/plain": [
              "128.0"
            ]
          },
          "metadata": {
            "tags": []
          },
          "execution_count": 186
        }
      ]
    },
    {
      "cell_type": "code",
      "metadata": {
        "colab": {
          "base_uri": "https://localhost:8080/"
        },
        "id": "pKlBsaTe9wis",
        "outputId": "572ede5f-4dad-4c7a-81c1-0de0625a563e"
      },
      "source": [
        "data.columns"
      ],
      "execution_count": 4,
      "outputs": [
        {
          "output_type": "execute_result",
          "data": {
            "text/plain": [
              "Index(['Unnamed: 0', 'Engine', 'Cycle', ' Setting 1', 'Setting 2', 'Setting 3',\n",
              "       'Sensor 1', 'Sensor 2', 'Sensor 3', 'Sensor 4', 'Sensor 5', 'Sensor 6',\n",
              "       'Sensor 7', 'Sensor 8', 'Sensor 9', 'Sensor 10', 'Sensor 11',\n",
              "       'Sensor 12', 'Sensor 13', 'Sensor 14', 'Sensor 15', 'Sensor 16',\n",
              "       'Sensor 17', 'Sensor 18', 'Sensor 19', 'Sensor 20', 'Sensor 21', 'RUL'],\n",
              "      dtype='object')"
            ]
          },
          "metadata": {
            "tags": []
          },
          "execution_count": 4
        }
      ]
    },
    {
      "cell_type": "code",
      "metadata": {
        "colab": {
          "base_uri": "https://localhost:8080/",
          "height": 456
        },
        "id": "AchQz3j0_i-m",
        "outputId": "01135e55-6549-48b1-b2c5-eb616ed1b0c8"
      },
      "source": [
        "data"
      ],
      "execution_count": 10,
      "outputs": [
        {
          "output_type": "execute_result",
          "data": {
            "text/html": [
              "<div>\n",
              "<style scoped>\n",
              "    .dataframe tbody tr th:only-of-type {\n",
              "        vertical-align: middle;\n",
              "    }\n",
              "\n",
              "    .dataframe tbody tr th {\n",
              "        vertical-align: top;\n",
              "    }\n",
              "\n",
              "    .dataframe thead th {\n",
              "        text-align: right;\n",
              "    }\n",
              "</style>\n",
              "<table border=\"1\" class=\"dataframe\">\n",
              "  <thead>\n",
              "    <tr style=\"text-align: right;\">\n",
              "      <th></th>\n",
              "      <th>Unnamed: 0</th>\n",
              "      <th>Engine</th>\n",
              "      <th>Cycle</th>\n",
              "      <th>Setting 1</th>\n",
              "      <th>Setting 2</th>\n",
              "      <th>Setting 3</th>\n",
              "      <th>Sensor 1</th>\n",
              "      <th>Sensor 2</th>\n",
              "      <th>Sensor 3</th>\n",
              "      <th>Sensor 4</th>\n",
              "      <th>Sensor 5</th>\n",
              "      <th>Sensor 6</th>\n",
              "      <th>Sensor 7</th>\n",
              "      <th>Sensor 8</th>\n",
              "      <th>Sensor 9</th>\n",
              "      <th>Sensor 10</th>\n",
              "      <th>Sensor 11</th>\n",
              "      <th>Sensor 12</th>\n",
              "      <th>Sensor 13</th>\n",
              "      <th>Sensor 14</th>\n",
              "      <th>Sensor 15</th>\n",
              "      <th>Sensor 16</th>\n",
              "      <th>Sensor 17</th>\n",
              "      <th>Sensor 18</th>\n",
              "      <th>Sensor 19</th>\n",
              "      <th>Sensor 20</th>\n",
              "      <th>Sensor 21</th>\n",
              "      <th>RUL</th>\n",
              "    </tr>\n",
              "  </thead>\n",
              "  <tbody>\n",
              "    <tr>\n",
              "      <th>0</th>\n",
              "      <td>0</td>\n",
              "      <td>1</td>\n",
              "      <td>1</td>\n",
              "      <td>10.0047</td>\n",
              "      <td>0.2501</td>\n",
              "      <td>20</td>\n",
              "      <td>489.05</td>\n",
              "      <td>604.13</td>\n",
              "      <td>1499.45</td>\n",
              "      <td>1309.95</td>\n",
              "      <td>10.52</td>\n",
              "      <td>15.49</td>\n",
              "      <td>394.88</td>\n",
              "      <td>2318.87</td>\n",
              "      <td>8770.20</td>\n",
              "      <td>1.26</td>\n",
              "      <td>45.40</td>\n",
              "      <td>372.15</td>\n",
              "      <td>2388.13</td>\n",
              "      <td>8120.83</td>\n",
              "      <td>8.6216</td>\n",
              "      <td>0.03</td>\n",
              "      <td>368</td>\n",
              "      <td>2319</td>\n",
              "      <td>100.00</td>\n",
              "      <td>28.58</td>\n",
              "      <td>17.1735</td>\n",
              "      <td>130.0</td>\n",
              "    </tr>\n",
              "    <tr>\n",
              "      <th>1</th>\n",
              "      <td>1</td>\n",
              "      <td>1</td>\n",
              "      <td>2</td>\n",
              "      <td>0.0015</td>\n",
              "      <td>0.0003</td>\n",
              "      <td>100</td>\n",
              "      <td>518.67</td>\n",
              "      <td>642.13</td>\n",
              "      <td>1584.55</td>\n",
              "      <td>1403.96</td>\n",
              "      <td>14.62</td>\n",
              "      <td>21.61</td>\n",
              "      <td>553.67</td>\n",
              "      <td>2388.01</td>\n",
              "      <td>9045.76</td>\n",
              "      <td>1.30</td>\n",
              "      <td>47.29</td>\n",
              "      <td>521.81</td>\n",
              "      <td>2388.15</td>\n",
              "      <td>8132.87</td>\n",
              "      <td>8.3907</td>\n",
              "      <td>0.03</td>\n",
              "      <td>391</td>\n",
              "      <td>2388</td>\n",
              "      <td>100.00</td>\n",
              "      <td>38.99</td>\n",
              "      <td>23.3619</td>\n",
              "      <td>130.0</td>\n",
              "    </tr>\n",
              "    <tr>\n",
              "      <th>2</th>\n",
              "      <td>2</td>\n",
              "      <td>1</td>\n",
              "      <td>3</td>\n",
              "      <td>34.9986</td>\n",
              "      <td>0.8401</td>\n",
              "      <td>60</td>\n",
              "      <td>449.44</td>\n",
              "      <td>555.42</td>\n",
              "      <td>1368.17</td>\n",
              "      <td>1122.49</td>\n",
              "      <td>5.48</td>\n",
              "      <td>8.00</td>\n",
              "      <td>194.93</td>\n",
              "      <td>2222.86</td>\n",
              "      <td>8343.91</td>\n",
              "      <td>1.02</td>\n",
              "      <td>41.92</td>\n",
              "      <td>183.26</td>\n",
              "      <td>2387.95</td>\n",
              "      <td>8063.84</td>\n",
              "      <td>9.3557</td>\n",
              "      <td>0.02</td>\n",
              "      <td>334</td>\n",
              "      <td>2223</td>\n",
              "      <td>100.00</td>\n",
              "      <td>14.83</td>\n",
              "      <td>8.8555</td>\n",
              "      <td>130.0</td>\n",
              "    </tr>\n",
              "    <tr>\n",
              "      <th>3</th>\n",
              "      <td>3</td>\n",
              "      <td>1</td>\n",
              "      <td>4</td>\n",
              "      <td>20.0031</td>\n",
              "      <td>0.7005</td>\n",
              "      <td>0</td>\n",
              "      <td>491.19</td>\n",
              "      <td>607.03</td>\n",
              "      <td>1488.44</td>\n",
              "      <td>1249.18</td>\n",
              "      <td>9.35</td>\n",
              "      <td>13.65</td>\n",
              "      <td>334.82</td>\n",
              "      <td>2323.85</td>\n",
              "      <td>8721.53</td>\n",
              "      <td>1.08</td>\n",
              "      <td>44.26</td>\n",
              "      <td>314.84</td>\n",
              "      <td>2388.07</td>\n",
              "      <td>8052.30</td>\n",
              "      <td>9.2231</td>\n",
              "      <td>0.02</td>\n",
              "      <td>364</td>\n",
              "      <td>2324</td>\n",
              "      <td>100.00</td>\n",
              "      <td>24.42</td>\n",
              "      <td>14.7832</td>\n",
              "      <td>130.0</td>\n",
              "    </tr>\n",
              "    <tr>\n",
              "      <th>4</th>\n",
              "      <td>4</td>\n",
              "      <td>1</td>\n",
              "      <td>5</td>\n",
              "      <td>42.0041</td>\n",
              "      <td>0.8405</td>\n",
              "      <td>40</td>\n",
              "      <td>445.00</td>\n",
              "      <td>549.52</td>\n",
              "      <td>1354.48</td>\n",
              "      <td>1124.32</td>\n",
              "      <td>3.91</td>\n",
              "      <td>5.71</td>\n",
              "      <td>138.24</td>\n",
              "      <td>2211.80</td>\n",
              "      <td>8314.56</td>\n",
              "      <td>1.02</td>\n",
              "      <td>41.79</td>\n",
              "      <td>130.44</td>\n",
              "      <td>2387.89</td>\n",
              "      <td>8083.67</td>\n",
              "      <td>9.2986</td>\n",
              "      <td>0.02</td>\n",
              "      <td>330</td>\n",
              "      <td>2212</td>\n",
              "      <td>100.00</td>\n",
              "      <td>10.99</td>\n",
              "      <td>6.4025</td>\n",
              "      <td>130.0</td>\n",
              "    </tr>\n",
              "    <tr>\n",
              "      <th>...</th>\n",
              "      <td>...</td>\n",
              "      <td>...</td>\n",
              "      <td>...</td>\n",
              "      <td>...</td>\n",
              "      <td>...</td>\n",
              "      <td>...</td>\n",
              "      <td>...</td>\n",
              "      <td>...</td>\n",
              "      <td>...</td>\n",
              "      <td>...</td>\n",
              "      <td>...</td>\n",
              "      <td>...</td>\n",
              "      <td>...</td>\n",
              "      <td>...</td>\n",
              "      <td>...</td>\n",
              "      <td>...</td>\n",
              "      <td>...</td>\n",
              "      <td>...</td>\n",
              "      <td>...</td>\n",
              "      <td>...</td>\n",
              "      <td>...</td>\n",
              "      <td>...</td>\n",
              "      <td>...</td>\n",
              "      <td>...</td>\n",
              "      <td>...</td>\n",
              "      <td>...</td>\n",
              "      <td>...</td>\n",
              "      <td>...</td>\n",
              "    </tr>\n",
              "    <tr>\n",
              "      <th>45913</th>\n",
              "      <td>45913</td>\n",
              "      <td>218</td>\n",
              "      <td>129</td>\n",
              "      <td>42.0066</td>\n",
              "      <td>0.8400</td>\n",
              "      <td>40</td>\n",
              "      <td>445.00</td>\n",
              "      <td>551.02</td>\n",
              "      <td>1365.27</td>\n",
              "      <td>1147.43</td>\n",
              "      <td>3.91</td>\n",
              "      <td>5.72</td>\n",
              "      <td>137.97</td>\n",
              "      <td>2211.33</td>\n",
              "      <td>8303.20</td>\n",
              "      <td>1.02</td>\n",
              "      <td>42.68</td>\n",
              "      <td>130.21</td>\n",
              "      <td>2387.39</td>\n",
              "      <td>8062.87</td>\n",
              "      <td>9.4672</td>\n",
              "      <td>0.02</td>\n",
              "      <td>333</td>\n",
              "      <td>2212</td>\n",
              "      <td>100.00</td>\n",
              "      <td>10.57</td>\n",
              "      <td>6.2985</td>\n",
              "      <td>4.0</td>\n",
              "    </tr>\n",
              "    <tr>\n",
              "      <th>45914</th>\n",
              "      <td>45914</td>\n",
              "      <td>218</td>\n",
              "      <td>130</td>\n",
              "      <td>42.0029</td>\n",
              "      <td>0.8415</td>\n",
              "      <td>40</td>\n",
              "      <td>445.00</td>\n",
              "      <td>550.07</td>\n",
              "      <td>1365.55</td>\n",
              "      <td>1142.21</td>\n",
              "      <td>3.91</td>\n",
              "      <td>5.71</td>\n",
              "      <td>137.56</td>\n",
              "      <td>2211.29</td>\n",
              "      <td>8302.69</td>\n",
              "      <td>1.02</td>\n",
              "      <td>42.62</td>\n",
              "      <td>130.24</td>\n",
              "      <td>2387.28</td>\n",
              "      <td>8062.05</td>\n",
              "      <td>9.4619</td>\n",
              "      <td>0.02</td>\n",
              "      <td>332</td>\n",
              "      <td>2212</td>\n",
              "      <td>100.00</td>\n",
              "      <td>10.40</td>\n",
              "      <td>6.2741</td>\n",
              "      <td>3.0</td>\n",
              "    </tr>\n",
              "    <tr>\n",
              "      <th>45915</th>\n",
              "      <td>45915</td>\n",
              "      <td>218</td>\n",
              "      <td>131</td>\n",
              "      <td>41.9999</td>\n",
              "      <td>0.8400</td>\n",
              "      <td>40</td>\n",
              "      <td>445.00</td>\n",
              "      <td>549.92</td>\n",
              "      <td>1359.21</td>\n",
              "      <td>1150.15</td>\n",
              "      <td>3.91</td>\n",
              "      <td>5.72</td>\n",
              "      <td>138.05</td>\n",
              "      <td>2211.24</td>\n",
              "      <td>8309.41</td>\n",
              "      <td>1.02</td>\n",
              "      <td>42.83</td>\n",
              "      <td>129.86</td>\n",
              "      <td>2387.33</td>\n",
              "      <td>8062.73</td>\n",
              "      <td>9.4827</td>\n",
              "      <td>0.02</td>\n",
              "      <td>334</td>\n",
              "      <td>2212</td>\n",
              "      <td>100.00</td>\n",
              "      <td>10.37</td>\n",
              "      <td>6.1978</td>\n",
              "      <td>2.0</td>\n",
              "    </tr>\n",
              "    <tr>\n",
              "      <th>45916</th>\n",
              "      <td>45916</td>\n",
              "      <td>218</td>\n",
              "      <td>132</td>\n",
              "      <td>35.0007</td>\n",
              "      <td>0.8419</td>\n",
              "      <td>60</td>\n",
              "      <td>449.44</td>\n",
              "      <td>556.55</td>\n",
              "      <td>1380.05</td>\n",
              "      <td>1145.49</td>\n",
              "      <td>5.48</td>\n",
              "      <td>8.00</td>\n",
              "      <td>194.59</td>\n",
              "      <td>2222.54</td>\n",
              "      <td>8330.67</td>\n",
              "      <td>1.02</td>\n",
              "      <td>42.61</td>\n",
              "      <td>182.03</td>\n",
              "      <td>2387.56</td>\n",
              "      <td>8043.21</td>\n",
              "      <td>9.4212</td>\n",
              "      <td>0.02</td>\n",
              "      <td>337</td>\n",
              "      <td>2223</td>\n",
              "      <td>100.00</td>\n",
              "      <td>14.70</td>\n",
              "      <td>8.6761</td>\n",
              "      <td>1.0</td>\n",
              "    </tr>\n",
              "    <tr>\n",
              "      <th>45917</th>\n",
              "      <td>45917</td>\n",
              "      <td>218</td>\n",
              "      <td>133</td>\n",
              "      <td>25.0071</td>\n",
              "      <td>0.6216</td>\n",
              "      <td>80</td>\n",
              "      <td>462.54</td>\n",
              "      <td>537.46</td>\n",
              "      <td>1274.65</td>\n",
              "      <td>1068.77</td>\n",
              "      <td>7.05</td>\n",
              "      <td>9.03</td>\n",
              "      <td>175.15</td>\n",
              "      <td>1914.86</td>\n",
              "      <td>7991.49</td>\n",
              "      <td>0.94</td>\n",
              "      <td>37.50</td>\n",
              "      <td>164.18</td>\n",
              "      <td>2027.75</td>\n",
              "      <td>7859.24</td>\n",
              "      <td>10.9748</td>\n",
              "      <td>0.02</td>\n",
              "      <td>310</td>\n",
              "      <td>1915</td>\n",
              "      <td>84.93</td>\n",
              "      <td>14.19</td>\n",
              "      <td>8.5120</td>\n",
              "      <td>0.0</td>\n",
              "    </tr>\n",
              "  </tbody>\n",
              "</table>\n",
              "<p>45918 rows × 28 columns</p>\n",
              "</div>"
            ],
            "text/plain": [
              "       Unnamed: 0  Engine  Cycle  ...  Sensor 20  Sensor 21    RUL\n",
              "0               0       1      1  ...      28.58    17.1735  130.0\n",
              "1               1       1      2  ...      38.99    23.3619  130.0\n",
              "2               2       1      3  ...      14.83     8.8555  130.0\n",
              "3               3       1      4  ...      24.42    14.7832  130.0\n",
              "4               4       1      5  ...      10.99     6.4025  130.0\n",
              "...           ...     ...    ...  ...        ...        ...    ...\n",
              "45913       45913     218    129  ...      10.57     6.2985    4.0\n",
              "45914       45914     218    130  ...      10.40     6.2741    3.0\n",
              "45915       45915     218    131  ...      10.37     6.1978    2.0\n",
              "45916       45916     218    132  ...      14.70     8.6761    1.0\n",
              "45917       45917     218    133  ...      14.19     8.5120    0.0\n",
              "\n",
              "[45918 rows x 28 columns]"
            ]
          },
          "metadata": {
            "tags": []
          },
          "execution_count": 10
        }
      ]
    },
    {
      "cell_type": "code",
      "metadata": {
        "id": "D_ZFTG5C-yE9"
      },
      "source": [
        "#build the RUL list\n",
        "engine_old = 1\n",
        "cycle_old = 1\n",
        "RUL = []\n",
        "for index, row in data.iterrows():\n",
        "  engine = row['Engine']\n",
        "  cycle = row['Cycle']\n",
        "  if engine > engine_old :\n",
        "    RUL.append(cycle_old)\n",
        "    engine_old = engine\n",
        "    cycle_old = cycle\n",
        "  else:\n",
        "    cycle_old = cycle\n",
        "#add the last cycle to RUL\n",
        "RUL.append(data['Cycle'].iloc[-1])\n",
        "\n",
        "\n",
        "\n"
      ],
      "execution_count": 187,
      "outputs": []
    },
    {
      "cell_type": "code",
      "metadata": {
        "id": "dbGkbgFLCzpo"
      },
      "source": [
        ""
      ],
      "execution_count": null,
      "outputs": []
    },
    {
      "cell_type": "code",
      "metadata": {
        "colab": {
          "base_uri": "https://localhost:8080/"
        },
        "id": "S0KaD70WA1OG",
        "outputId": "1879566e-da23-4774-94f5-c9606595a6ed"
      },
      "source": [
        "print(RUL)"
      ],
      "execution_count": 188,
      "outputs": [
        {
          "output_type": "stream",
          "text": [
            "[223.0, 164.0, 150.0, 159.0, 357.0, 225.0, 168.0, 276.0, 181.0, 228.0, 210.0, 242.0, 210.0, 147.0, 178.0, 172.0, 228.0, 196.0, 167.0, 154.0, 205.0, 203.0, 213.0, 191.0, 281.0, 210.0, 178.0, 278.0, 228.0, 200.0, 283.0, 193.0, 286.0, 286.0, 188.0, 147.0, 177.0, 287.0, 161.0, 187.0, 201.0, 241.0, 209.0, 233.0, 242.0, 277.0, 227.0, 227.0, 285.0, 223.0, 182.0, 212.0, 259.0, 249.0, 147.0, 162.0, 150.0, 147.0, 169.0, 300.0, 229.0, 238.0, 254.0, 154.0, 209.0, 190.0, 145.0, 204.0, 170.0, 175.0, 225.0, 235.0, 249.0, 192.0, 186.0, 128.0, 174.0, 228.0, 225.0, 284.0, 199.0, 223.0, 231.0, 206.0, 246.0, 205.0, 177.0, 134.0, 225.0, 190.0, 199.0, 207.0, 222.0, 209.0, 234.0, 339.0, 157.0, 206.0, 263.0, 213.0, 226.0, 222.0, 243.0, 178.0, 149.0, 189.0, 200.0, 230.0, 160.0, 277.0, 227.0, 226.0, 160.0, 197.0, 260.0, 232.0, 212.0, 188.0, 242.0, 170.0, 153.0, 237.0, 254.0, 197.0, 245.0, 241.0, 163.0, 159.0, 147.0, 143.0, 263.0, 199.0, 151.0, 173.0, 188.0, 232.0, 237.0, 181.0, 211.0, 210.0, 277.0, 215.0, 149.0, 272.0, 189.0, 231.0, 323.0, 264.0, 192.0, 175.0, 317.0, 213.0, 277.0, 171.0, 221.0, 228.0, 202.0, 167.0, 174.0, 147.0, 184.0, 202.0, 177.0, 211.0, 160.0, 229.0, 177.0, 253.0, 218.0, 302.0, 258.0, 222.0, 190.0, 178.0, 278.0, 197.0, 218.0, 255.0, 223.0, 200.0, 161.0, 220.0, 225.0, 160.0, 198.0, 236.0, 199.0, 246.0, 242.0, 152.0, 255.0, 176.0, 223.0, 246.0, 284.0, 226.0, 157.0, 137.0, 192.0, 182.0, 201.0, 236.0, 225.0, 174.0, 135.0, 155.0, 278.0, 199.0, 252.0, 233.0, 211.0, 277.0, 263.0, 150.0, 156.0, 190.0, 287.0, 133]\n"
          ],
          "name": "stdout"
        }
      ]
    },
    {
      "cell_type": "code",
      "metadata": {
        "id": "sXi_dTtsAphs"
      },
      "source": [
        "list_of_columns = []\n",
        "for j in range(6,27):\n",
        "  list_of_columns.append(data.columns[j])\n"
      ],
      "execution_count": 189,
      "outputs": []
    },
    {
      "cell_type": "code",
      "metadata": {
        "colab": {
          "base_uri": "https://localhost:8080/"
        },
        "id": "PaHjY1S8BIKG",
        "outputId": "5be4eb44-51cb-4004-a48d-01fd56d778ff"
      },
      "source": [
        "print(list_of_columns)"
      ],
      "execution_count": 190,
      "outputs": [
        {
          "output_type": "stream",
          "text": [
            "['Sensor 1', 'Sensor 2', 'Sensor 3', 'Sensor 4', 'Sensor 5', 'Sensor 6', 'Sensor 7', 'Sensor 8', 'Sensor 9', 'Sensor 10', 'Sensor 11', 'Sensor 12', 'Sensor 13', 'Sensor 14', 'Sensor 15', 'Sensor 16', 'Sensor 17', 'Sensor 18', 'Sensor 19', 'Sensor 20', 'Sensor 21']\n"
          ],
          "name": "stdout"
        }
      ]
    },
    {
      "cell_type": "markdown",
      "metadata": {
        "id": "GsAJal8BFuvk"
      },
      "source": [
        "Let's try a simple network that learns in each step RUL from all the features"
      ]
    },
    {
      "cell_type": "code",
      "metadata": {
        "id": "vnbKuYTvmKix"
      },
      "source": [
        ""
      ],
      "execution_count": null,
      "outputs": []
    },
    {
      "cell_type": "code",
      "metadata": {
        "id": "Jze42FVNFzHy"
      },
      "source": [
        "from keras.models import Sequential\n",
        "from keras.layers import Dense\n",
        "from keras.layers import LSTM\n",
        "from keras.layers import Embedding\n",
        "from keras.layers import Dropout\n",
        "from keras.layers import InputLayer\n",
        "from keras.layers import SimpleRNN\n",
        "from keras.layers import TimeDistributed"
      ],
      "execution_count": 191,
      "outputs": []
    },
    {
      "cell_type": "code",
      "metadata": {
        "colab": {
          "base_uri": "https://localhost:8080/"
        },
        "id": "o46zQJmyVbjv",
        "outputId": "8101f7c6-049e-450f-c280-01b968a57a80"
      },
      "source": [
        ""
      ],
      "execution_count": 13,
      "outputs": [
        {
          "output_type": "execute_result",
          "data": {
            "text/plain": [
              "(45918, 28)"
            ]
          },
          "metadata": {
            "tags": []
          },
          "execution_count": 13
        }
      ]
    },
    {
      "cell_type": "code",
      "metadata": {
        "id": "0HMqVAcVF7vm"
      },
      "source": [
        "#load dataset\n",
        "from numpy import loadtxt\n",
        "dataset = data.to_numpy()\n",
        "X = dataset[:,2:27]\n",
        "Y = dataset[:,27]"
      ],
      "execution_count": 192,
      "outputs": []
    },
    {
      "cell_type": "code",
      "metadata": {
        "colab": {
          "base_uri": "https://localhost:8080/"
        },
        "id": "H_If1JGxi5en",
        "outputId": "baf85363-dd5c-4df3-fcaf-53f9ec1753a6"
      },
      "source": [
        "#let's normalize this thing\n",
        "from sklearn.preprocessing import MinMaxScaler\n",
        "scaler = MinMaxScaler(feature_range=(-1, 1))\n",
        "scaler = scaler.fit(X)\n",
        "#print('Min: %f, Max: %f' % (scaler.data_min_, scaler.data_max_))\n",
        "# normalize the dataset and print\n",
        "Xn = scaler.transform(X)\n",
        "print(Xn)\n",
        "# inverse transform and print\n",
        "#inversed = scaler.inverse_transform(normalized)\n",
        "#print(inversed)"
      ],
      "execution_count": 286,
      "outputs": [
        {
          "output_type": "stream",
          "text": [
            "[[-1.         -0.52367644 -0.40593824 ...  1.          0.26116838\n",
            "   0.2651126 ]\n",
            " [-0.99438202 -0.99992859 -0.99928741 ...  1.          0.9766323\n",
            "   0.97382028]\n",
            " [-0.98876404  0.66628261  0.99548694 ...  1.         -0.6838488\n",
            "  -0.68748103]\n",
            " ...\n",
            " [-0.26966292  0.99961436  0.99524941 ...  1.         -0.99037801\n",
            "  -0.99184604]\n",
            " [-0.26404494  0.66638259  0.99976247 ...  1.         -0.69278351\n",
            "  -0.70802627]\n",
            " [-0.25842697  0.19058751  0.47648456 ... -1.         -0.72783505\n",
            "  -0.72681932]]\n"
          ],
          "name": "stdout"
        }
      ]
    },
    {
      "cell_type": "code",
      "metadata": {
        "colab": {
          "base_uri": "https://localhost:8080/"
        },
        "id": "wTzMem_93xHT",
        "outputId": "55859ea4-cf42-4a76-87eb-59542da0cbab"
      },
      "source": [
        "Xn.shape"
      ],
      "execution_count": 287,
      "outputs": [
        {
          "output_type": "execute_result",
          "data": {
            "text/plain": [
              "(45918, 25)"
            ]
          },
          "metadata": {
            "tags": []
          },
          "execution_count": 287
        }
      ]
    },
    {
      "cell_type": "code",
      "metadata": {
        "colab": {
          "base_uri": "https://localhost:8080/"
        },
        "id": "hEX9LT9kVnRv",
        "outputId": "d816a7c6-d367-4cc9-d5ea-270d61433c63"
      },
      "source": [
        "print(Y)"
      ],
      "execution_count": 322,
      "outputs": [
        {
          "output_type": "stream",
          "text": [
            "[130. 130. 130. ...   2.   1.   0.]\n"
          ],
          "name": "stdout"
        }
      ]
    },
    {
      "cell_type": "code",
      "metadata": {
        "id": "VGji4OMjmO_f"
      },
      "source": [
        "#need to reshape X into 3D: engine x cycle x sensor\n",
        "#for fist step, keep it symmetrical and use the lowest number of cycles in dataset\n",
        "#Y then becomes \n",
        "X_new=np.empty(shape=(218,126,25))\n",
        "Y_new = np.empty(shape=(218,126))\n",
        "#i would be number of engines\n",
        "counter = 0\n",
        "for i in range(0,218):\n",
        "  #print('i=',i)\n",
        "  # j would be number of cycles\n",
        "  for j in range(0,126):\n",
        "    #print('j=',j)\n",
        "    #k would be number of sensors\n",
        "    for k in range(0,25):\n",
        "      #print('k=',k)\n",
        "      #print('counter',counter)\n",
        "      X_new[i,j,k]=Xn[counter,k]\n",
        "      Y_new[i,j] = Y[counter]\n",
        "    ##calculate step\n",
        "    margin = int((RUL[i]-126)/2)\n",
        "\n",
        "    \n",
        "    if (j == 0):\n",
        "      counter0 = counter\n",
        "      counter = counter0 +  margin\n",
        "    elif (j == 125):\n",
        "      counter = counter0 + int(RUL[i])  \n",
        "    else: \n",
        "      counter = counter + 1"
      ],
      "execution_count": 323,
      "outputs": []
    },
    {
      "cell_type": "code",
      "metadata": {
        "colab": {
          "base_uri": "https://localhost:8080/"
        },
        "id": "Mf6Xu3Lh4UGY",
        "outputId": "06daaeb9-647a-4572-e5ee-8695b1a7b200"
      },
      "source": [
        "X_new.shape"
      ],
      "execution_count": 324,
      "outputs": [
        {
          "output_type": "execute_result",
          "data": {
            "text/plain": [
              "(218, 126, 25)"
            ]
          },
          "metadata": {
            "tags": []
          },
          "execution_count": 324
        }
      ]
    },
    {
      "cell_type": "code",
      "metadata": {
        "colab": {
          "base_uri": "https://localhost:8080/"
        },
        "id": "TDDrdwdvV8sq",
        "outputId": "284ee468-6fdf-4961-f64e-f55feef6e13c"
      },
      "source": [
        "X_new[0,:,0]"
      ],
      "execution_count": 325,
      "outputs": [
        {
          "output_type": "execute_result",
          "data": {
            "text/plain": [
              "array([-1.        , -0.73033708, -0.7247191 , -0.71910112, -0.71348315,\n",
              "       -0.70786517, -0.70224719, -0.69662921, -0.69101124, -0.68539326,\n",
              "       -0.67977528, -0.6741573 , -0.66853933, -0.66292135, -0.65730337,\n",
              "       -0.65168539, -0.64606742, -0.64044944, -0.63483146, -0.62921348,\n",
              "       -0.62359551, -0.61797753, -0.61235955, -0.60674157, -0.6011236 ,\n",
              "       -0.59550562, -0.58988764, -0.58426966, -0.57865169, -0.57303371,\n",
              "       -0.56741573, -0.56179775, -0.55617978, -0.5505618 , -0.54494382,\n",
              "       -0.53932584, -0.53370787, -0.52808989, -0.52247191, -0.51685393,\n",
              "       -0.51123596, -0.50561798, -0.5       , -0.49438202, -0.48876404,\n",
              "       -0.48314607, -0.47752809, -0.47191011, -0.46629213, -0.46067416,\n",
              "       -0.45505618, -0.4494382 , -0.44382022, -0.43820225, -0.43258427,\n",
              "       -0.42696629, -0.42134831, -0.41573034, -0.41011236, -0.40449438,\n",
              "       -0.3988764 , -0.39325843, -0.38764045, -0.38202247, -0.37640449,\n",
              "       -0.37078652, -0.36516854, -0.35955056, -0.35393258, -0.34831461,\n",
              "       -0.34269663, -0.33707865, -0.33146067, -0.3258427 , -0.32022472,\n",
              "       -0.31460674, -0.30898876, -0.30337079, -0.29775281, -0.29213483,\n",
              "       -0.28651685, -0.28089888, -0.2752809 , -0.26966292, -0.26404494,\n",
              "       -0.25842697, -0.25280899, -0.24719101, -0.24157303, -0.23595506,\n",
              "       -0.23033708, -0.2247191 , -0.21910112, -0.21348315, -0.20786517,\n",
              "       -0.20224719, -0.19662921, -0.19101124, -0.18539326, -0.17977528,\n",
              "       -0.1741573 , -0.16853933, -0.16292135, -0.15730337, -0.15168539,\n",
              "       -0.14606742, -0.14044944, -0.13483146, -0.12921348, -0.12359551,\n",
              "       -0.11797753, -0.11235955, -0.10674157, -0.1011236 , -0.09550562,\n",
              "       -0.08988764, -0.08426966, -0.07865169, -0.07303371, -0.06741573,\n",
              "       -0.06179775, -0.05617978, -0.0505618 , -0.04494382, -0.03932584,\n",
              "       -0.03370787])"
            ]
          },
          "metadata": {
            "tags": []
          },
          "execution_count": 325
        }
      ]
    },
    {
      "cell_type": "code",
      "metadata": {
        "colab": {
          "base_uri": "https://localhost:8080/"
        },
        "id": "D2eMhXlL4xZO",
        "outputId": "f02dce19-a700-4318-c964-953bd1cf0d10"
      },
      "source": [
        "Y_new.shape"
      ],
      "execution_count": 293,
      "outputs": [
        {
          "output_type": "execute_result",
          "data": {
            "text/plain": [
              "(218, 126)"
            ]
          },
          "metadata": {
            "tags": []
          },
          "execution_count": 293
        }
      ]
    },
    {
      "cell_type": "code",
      "metadata": {
        "colab": {
          "base_uri": "https://localhost:8080/"
        },
        "id": "li7J2Cn240nS",
        "outputId": "d249b8f1-2993-4869-88ac-b4d67f16b4bd"
      },
      "source": [
        "print(Y_new[0])"
      ],
      "execution_count": 326,
      "outputs": [
        {
          "output_type": "stream",
          "text": [
            "[130. 130. 130. 130. 130. 130. 130. 130. 130. 130. 130. 130. 130. 130.\n",
            " 130. 130. 130. 130. 130. 130. 130. 130. 130. 130. 130. 130. 130. 130.\n",
            " 130. 130. 130. 130. 130. 130. 130. 130. 130. 130. 130. 130. 130. 130.\n",
            " 130. 130. 130. 130. 129. 128. 127. 126. 125. 124. 123. 122. 121. 120.\n",
            " 119. 118. 117. 116. 115. 114. 113. 112. 111. 110. 109. 108. 107. 106.\n",
            " 105. 104. 103. 102. 101. 100.  99.  98.  97.  96.  95.  94.  93.  92.\n",
            "  91.  90.  89.  88.  87.  86.  85.  84.  83.  82.  81.  80.  79.  78.\n",
            "  77.  76.  75.  74.  73.  72.  71.  70.  69.  68.  67.  66.  65.  64.\n",
            "  63.  62.  61.  60.  59.  58.  57.  56.  55.  54.  53.  52.  51.  50.]\n"
          ],
          "name": "stdout"
        }
      ]
    },
    {
      "cell_type": "code",
      "metadata": {
        "id": "hbpwmiJGymJg"
      },
      "source": [
        "x = np.array([[1,1,2,3],[1,2,4,5],[2,1,2,3],[2,2,4,6]])"
      ],
      "execution_count": 75,
      "outputs": []
    },
    {
      "cell_type": "code",
      "metadata": {
        "colab": {
          "base_uri": "https://localhost:8080/"
        },
        "id": "wD6VrVtNyw7P",
        "outputId": "b98615a3-eacc-405d-c810-b54bd8fce8f3"
      },
      "source": [
        "print(x)"
      ],
      "execution_count": 76,
      "outputs": [
        {
          "output_type": "stream",
          "text": [
            "[[1 1 2 3]\n",
            " [1 2 4 5]\n",
            " [2 1 2 3]\n",
            " [2 2 4 6]]\n"
          ],
          "name": "stdout"
        }
      ]
    },
    {
      "cell_type": "code",
      "metadata": {
        "colab": {
          "base_uri": "https://localhost:8080/"
        },
        "id": "nieXxTi90wnh",
        "outputId": "cb45b206-558e-4272-d4c9-ca9fababa089"
      },
      "source": [
        "np.shape(x)"
      ],
      "execution_count": 65,
      "outputs": [
        {
          "output_type": "execute_result",
          "data": {
            "text/plain": [
              "(4, 4)"
            ]
          },
          "metadata": {
            "tags": []
          },
          "execution_count": 65
        }
      ]
    },
    {
      "cell_type": "code",
      "metadata": {
        "id": "_JqJRUrgzO-d"
      },
      "source": [
        "b=np.empty(shape=(2,2,3))\n",
        "#i would be number of engines\n",
        "counter = 0\n",
        "for i in range(0,2):\n",
        "  print('i=',i)\n",
        "  # j would be number of cycles\n",
        "  for j in range(0,2):\n",
        "    print('j=',j)\n",
        "    #k would be number of sensors\n",
        "    for k in range(0,3):\n",
        "      print('k=',k)\n",
        "      print('counter',counter)\n",
        "      b[i,j,k]=x[counter,k+1]\n",
        "    counter = counter + 1"
      ],
      "execution_count": null,
      "outputs": []
    },
    {
      "cell_type": "code",
      "metadata": {
        "colab": {
          "base_uri": "https://localhost:8080/"
        },
        "id": "SRa1dNdq1a7t",
        "outputId": "d9c911f1-5918-4acd-a19f-7c5461f10d68"
      },
      "source": [
        "np.shape(b)"
      ],
      "execution_count": 78,
      "outputs": [
        {
          "output_type": "execute_result",
          "data": {
            "text/plain": [
              "(2, 2, 3)"
            ]
          },
          "metadata": {
            "tags": []
          },
          "execution_count": 78
        }
      ]
    },
    {
      "cell_type": "code",
      "metadata": {
        "colab": {
          "base_uri": "https://localhost:8080/"
        },
        "id": "4F2saMHI1czm",
        "outputId": "0c1bff18-b629-41e0-bc28-5f9721e196c6"
      },
      "source": [
        "print(b)"
      ],
      "execution_count": 90,
      "outputs": [
        {
          "output_type": "stream",
          "text": [
            "[[[1. 2. 3.]\n",
            "  [2. 4. 5.]]\n",
            "\n",
            " [[1. 2. 3.]\n",
            "  [2. 4. 6.]]]\n"
          ],
          "name": "stdout"
        }
      ]
    },
    {
      "cell_type": "code",
      "metadata": {
        "id": "K4I9NE27H0vq"
      },
      "source": [
        " from sklearn.model_selection import train_test_split\n",
        "#split into train and test\n",
        "X_train, X_test, y_train, y_test = train_test_split(X_new, Y_new, test_size=0.33)"
      ],
      "execution_count": 327,
      "outputs": []
    },
    {
      "cell_type": "code",
      "metadata": {
        "colab": {
          "base_uri": "https://localhost:8080/"
        },
        "id": "RG50CLlW5bF2",
        "outputId": "25fdd4ce-17a3-4293-85d5-e3ca74b4df27"
      },
      "source": [
        "X_train.shape"
      ],
      "execution_count": 239,
      "outputs": [
        {
          "output_type": "execute_result",
          "data": {
            "text/plain": [
              "(146, 126, 25)"
            ]
          },
          "metadata": {
            "tags": []
          },
          "execution_count": 239
        }
      ]
    },
    {
      "cell_type": "code",
      "metadata": {
        "id": "OAwmEWHEMctY"
      },
      "source": [
        "#let's try to make it classification and make a one-hot encoding of the RUL between 0 and 130:\n",
        "from keras.utils.np_utils import to_categorical\n",
        "RUL_tags = to_categorical(y_train,131)\n"
      ],
      "execution_count": 328,
      "outputs": []
    },
    {
      "cell_type": "code",
      "metadata": {
        "colab": {
          "base_uri": "https://localhost:8080/"
        },
        "id": "lKRYRVX4mH3y",
        "outputId": "abce4a94-4dcb-4323-d608-a110639ad65d"
      },
      "source": [
        "X_train.shape[2]"
      ],
      "execution_count": 329,
      "outputs": [
        {
          "output_type": "execute_result",
          "data": {
            "text/plain": [
              "25"
            ]
          },
          "metadata": {
            "tags": []
          },
          "execution_count": 329
        }
      ]
    },
    {
      "cell_type": "code",
      "metadata": {
        "colab": {
          "base_uri": "https://localhost:8080/"
        },
        "id": "w5n9xHHENoQe",
        "outputId": "2a8a007b-1973-4a84-bca4-d0005023b886"
      },
      "source": [
        "RUL_tags.shape"
      ],
      "execution_count": 241,
      "outputs": [
        {
          "output_type": "execute_result",
          "data": {
            "text/plain": [
              "(146, 126, 131)"
            ]
          },
          "metadata": {
            "tags": []
          },
          "execution_count": 241
        }
      ]
    },
    {
      "cell_type": "code",
      "metadata": {
        "id": "JmNM5Ku7ixOw"
      },
      "source": [
        "#build model\n",
        "time_steps = 126\n",
        "model = Sequential()\n",
        "model.add(InputLayer(input_shape=(time_steps,25)))\n",
        "model.add(SimpleRNN(64,return_sequences=True))\n",
        "model.add(SimpleRNN(32,return_sequences=True))\n",
        "#model.add(LSTM(50, input_shape=(X_train.shape[1], X_train.shape[2])))\n",
        "\n",
        "\n",
        "#add top layer that predicts the RUL distribution\n",
        "\n",
        "\n",
        "#stepwise_dense = Dense(131,activation='softmax')\n",
        "#stepwise_dense = TimeDistributed(stepwise_dense)\n",
        "#model.add(stepwise_dense)\n",
        "model.add(Dense(131,activation='softmax'))\n",
        "#model.add(Dense(32,activation='relu'))\n",
        "#model.add(Dense(1,activation='linear'))"
      ],
      "execution_count": 332,
      "outputs": []
    },
    {
      "cell_type": "code",
      "metadata": {
        "id": "hTohyh1qhGBF"
      },
      "source": [
        "model.compile('adam','categorical_crossentropy')\n"
      ],
      "execution_count": 333,
      "outputs": []
    },
    {
      "cell_type": "code",
      "metadata": {
        "colab": {
          "base_uri": "https://localhost:8080/"
        },
        "id": "x6DLlm8gFdQT",
        "outputId": "5c81ec9d-b2bc-4e28-ad3d-f1681587c835"
      },
      "source": [
        "model.summary()"
      ],
      "execution_count": 334,
      "outputs": [
        {
          "output_type": "stream",
          "text": [
            "Model: \"sequential_13\"\n",
            "_________________________________________________________________\n",
            "Layer (type)                 Output Shape              Param #   \n",
            "=================================================================\n",
            "simple_rnn_22 (SimpleRNN)    (None, 126, 64)           5760      \n",
            "_________________________________________________________________\n",
            "simple_rnn_23 (SimpleRNN)    (None, 126, 32)           3104      \n",
            "_________________________________________________________________\n",
            "dense_11 (Dense)             (None, 126, 131)          4323      \n",
            "=================================================================\n",
            "Total params: 13,187\n",
            "Trainable params: 13,187\n",
            "Non-trainable params: 0\n",
            "_________________________________________________________________\n"
          ],
          "name": "stdout"
        }
      ]
    },
    {
      "cell_type": "code",
      "metadata": {
        "colab": {
          "base_uri": "https://localhost:8080/"
        },
        "id": "2fQkKSSs5Zqq",
        "outputId": "8b0f304f-13c4-43d7-c4ab-66ca3fc4e137"
      },
      "source": [
        "model.fit(X_train,RUL_tags,batch_size=20,epochs=50)"
      ],
      "execution_count": 340,
      "outputs": [
        {
          "output_type": "stream",
          "text": [
            "Epoch 1/50\n",
            "8/8 [==============================] - 0s 45ms/step - loss: 3.6444\n",
            "Epoch 2/50\n",
            "8/8 [==============================] - 0s 48ms/step - loss: 3.6123\n",
            "Epoch 3/50\n",
            "8/8 [==============================] - 0s 45ms/step - loss: 3.6088\n",
            "Epoch 4/50\n",
            "8/8 [==============================] - 0s 47ms/step - loss: 3.6354\n",
            "Epoch 5/50\n",
            "8/8 [==============================] - 0s 49ms/step - loss: 3.6042\n",
            "Epoch 6/50\n",
            "8/8 [==============================] - 0s 53ms/step - loss: 3.5887\n",
            "Epoch 7/50\n",
            "8/8 [==============================] - 0s 48ms/step - loss: 3.5927\n",
            "Epoch 8/50\n",
            "8/8 [==============================] - 0s 45ms/step - loss: 3.5631\n",
            "Epoch 9/50\n",
            "8/8 [==============================] - 0s 46ms/step - loss: 3.5675\n",
            "Epoch 10/50\n",
            "8/8 [==============================] - 0s 48ms/step - loss: 3.6197\n",
            "Epoch 11/50\n",
            "8/8 [==============================] - 0s 46ms/step - loss: 3.6665\n",
            "Epoch 12/50\n",
            "8/8 [==============================] - 0s 47ms/step - loss: 3.6100\n",
            "Epoch 13/50\n",
            "8/8 [==============================] - 0s 45ms/step - loss: 3.6282\n",
            "Epoch 14/50\n",
            "8/8 [==============================] - 0s 46ms/step - loss: 3.6162\n",
            "Epoch 15/50\n",
            "8/8 [==============================] - 0s 46ms/step - loss: 3.6603\n",
            "Epoch 16/50\n",
            "8/8 [==============================] - 0s 46ms/step - loss: 3.5744\n",
            "Epoch 17/50\n",
            "8/8 [==============================] - 0s 50ms/step - loss: 3.5769\n",
            "Epoch 18/50\n",
            "8/8 [==============================] - 0s 46ms/step - loss: 3.5980\n",
            "Epoch 19/50\n",
            "8/8 [==============================] - 0s 45ms/step - loss: 3.6067\n",
            "Epoch 20/50\n",
            "8/8 [==============================] - 0s 48ms/step - loss: 3.5685\n",
            "Epoch 21/50\n",
            "8/8 [==============================] - 0s 48ms/step - loss: 3.5533\n",
            "Epoch 22/50\n",
            "8/8 [==============================] - 0s 45ms/step - loss: 3.5316\n",
            "Epoch 23/50\n",
            "8/8 [==============================] - 0s 46ms/step - loss: 3.5209\n",
            "Epoch 24/50\n",
            "8/8 [==============================] - 0s 46ms/step - loss: 3.5288\n",
            "Epoch 25/50\n",
            "8/8 [==============================] - 0s 48ms/step - loss: 3.5258\n",
            "Epoch 26/50\n",
            "8/8 [==============================] - 0s 46ms/step - loss: 3.4927\n",
            "Epoch 27/50\n",
            "8/8 [==============================] - 0s 48ms/step - loss: 3.4804\n",
            "Epoch 28/50\n",
            "8/8 [==============================] - 0s 49ms/step - loss: 3.4538\n",
            "Epoch 29/50\n",
            "8/8 [==============================] - 0s 45ms/step - loss: 3.4641\n",
            "Epoch 30/50\n",
            "8/8 [==============================] - 0s 45ms/step - loss: 3.4852\n",
            "Epoch 31/50\n",
            "8/8 [==============================] - 0s 48ms/step - loss: 3.4741\n",
            "Epoch 32/50\n",
            "8/8 [==============================] - 0s 45ms/step - loss: 3.5115\n",
            "Epoch 33/50\n",
            "8/8 [==============================] - 0s 46ms/step - loss: 3.5286\n",
            "Epoch 34/50\n",
            "8/8 [==============================] - 0s 49ms/step - loss: 3.5310\n",
            "Epoch 35/50\n",
            "8/8 [==============================] - 0s 46ms/step - loss: 3.4981\n",
            "Epoch 36/50\n",
            "8/8 [==============================] - 0s 47ms/step - loss: 3.4772\n",
            "Epoch 37/50\n",
            "8/8 [==============================] - 0s 46ms/step - loss: 3.4345\n",
            "Epoch 38/50\n",
            "8/8 [==============================] - 0s 45ms/step - loss: 3.4261\n",
            "Epoch 39/50\n",
            "8/8 [==============================] - 0s 51ms/step - loss: 3.4133\n",
            "Epoch 40/50\n",
            "8/8 [==============================] - 0s 57ms/step - loss: 3.4218\n",
            "Epoch 41/50\n",
            "8/8 [==============================] - 0s 47ms/step - loss: 3.4359\n",
            "Epoch 42/50\n",
            "8/8 [==============================] - 0s 45ms/step - loss: 3.3860\n",
            "Epoch 43/50\n",
            "8/8 [==============================] - 0s 45ms/step - loss: 3.3680\n",
            "Epoch 44/50\n",
            "8/8 [==============================] - 0s 47ms/step - loss: 3.3947\n",
            "Epoch 45/50\n",
            "8/8 [==============================] - 0s 46ms/step - loss: 3.3796\n",
            "Epoch 46/50\n",
            "8/8 [==============================] - 0s 45ms/step - loss: 3.3777\n",
            "Epoch 47/50\n",
            "8/8 [==============================] - 0s 47ms/step - loss: 3.4889\n",
            "Epoch 48/50\n",
            "8/8 [==============================] - 0s 46ms/step - loss: 3.5965\n",
            "Epoch 49/50\n",
            "8/8 [==============================] - 0s 47ms/step - loss: 3.6870\n",
            "Epoch 50/50\n",
            "8/8 [==============================] - 0s 46ms/step - loss: 3.5047\n"
          ],
          "name": "stdout"
        },
        {
          "output_type": "execute_result",
          "data": {
            "text/plain": [
              "<keras.callbacks.History at 0x7fe12af52b50>"
            ]
          },
          "metadata": {
            "tags": []
          },
          "execution_count": 340
        }
      ]
    },
    {
      "cell_type": "code",
      "metadata": {
        "id": "mJlAg7rcH_NS"
      },
      "source": [
        "y_new = model.predict(X_train)"
      ],
      "execution_count": 336,
      "outputs": []
    },
    {
      "cell_type": "code",
      "metadata": {
        "colab": {
          "base_uri": "https://localhost:8080/"
        },
        "id": "Oov8YZb-0vW_",
        "outputId": "d1d8d372-479c-48cd-f4cd-5f437f3fa87a"
      },
      "source": [
        "model.evaluate(X_train, RUL_tags)"
      ],
      "execution_count": 341,
      "outputs": [
        {
          "output_type": "stream",
          "text": [
            "5/5 [==============================] - 1s 18ms/step - loss: 3.5921\n"
          ],
          "name": "stdout"
        },
        {
          "output_type": "execute_result",
          "data": {
            "text/plain": [
              "3.5921435356140137"
            ]
          },
          "metadata": {
            "tags": []
          },
          "execution_count": 341
        }
      ]
    },
    {
      "cell_type": "code",
      "metadata": {
        "colab": {
          "base_uri": "https://localhost:8080/"
        },
        "id": "siXH6LpDIHK-",
        "outputId": "58c9bfc5-0c70-48b9-daa0-09e6d7558277"
      },
      "source": [
        "y_new.shape"
      ],
      "execution_count": 269,
      "outputs": [
        {
          "output_type": "execute_result",
          "data": {
            "text/plain": [
              "(146, 126, 131)"
            ]
          },
          "metadata": {
            "tags": []
          },
          "execution_count": 269
        }
      ]
    },
    {
      "cell_type": "code",
      "metadata": {
        "colab": {
          "base_uri": "https://localhost:8080/"
        },
        "id": "sZgQ9VUMIQmi",
        "outputId": "b58836a5-43b1-4446-edd7-e5080a4749e1"
      },
      "source": [
        "y_train.shape"
      ],
      "execution_count": 190,
      "outputs": [
        {
          "output_type": "execute_result",
          "data": {
            "text/plain": [
              "(146, 126)"
            ]
          },
          "metadata": {
            "tags": []
          },
          "execution_count": 190
        }
      ]
    },
    {
      "cell_type": "code",
      "metadata": {
        "colab": {
          "base_uri": "https://localhost:8080/"
        },
        "id": "zi9mVv7uIUbK",
        "outputId": "48b12ffd-c90c-4f57-dc7b-2e20b8adeaae"
      },
      "source": [
        "X_train.shape"
      ],
      "execution_count": 191,
      "outputs": [
        {
          "output_type": "execute_result",
          "data": {
            "text/plain": [
              "(146, 126, 24)"
            ]
          },
          "metadata": {
            "tags": []
          },
          "execution_count": 191
        }
      ]
    },
    {
      "cell_type": "code",
      "metadata": {
        "id": "AqwT9m_QIY9L"
      },
      "source": [
        "predicted_RUL = np.zeros((146,126))\n",
        "for i in range(0,146):\n",
        "  for j in range(0,126):\n",
        "    predicted_RUL[i,j] = np.argmax(y_new[i,j,:])"
      ],
      "execution_count": 342,
      "outputs": []
    },
    {
      "cell_type": "code",
      "metadata": {
        "colab": {
          "base_uri": "https://localhost:8080/"
        },
        "id": "RcQSpNbpPjgV",
        "outputId": "8b5bac17-c5c1-4cb9-a90f-c754108496fe"
      },
      "source": [
        "predicted_RUL[127,:]"
      ],
      "execution_count": 343,
      "outputs": [
        {
          "output_type": "execute_result",
          "data": {
            "text/plain": [
              "array([130., 130., 130., 130., 130., 130., 130., 130., 130., 130., 130.,\n",
              "       130., 130., 130., 130., 130., 130., 130., 130., 130., 130., 130.,\n",
              "       130., 130., 130., 130., 130., 130., 130., 130., 130., 130., 130.,\n",
              "       130., 130., 130., 130., 130., 130., 130., 130., 130., 130., 130.,\n",
              "       130., 130., 130., 130., 130., 130., 130., 130., 130., 130., 130.,\n",
              "       130., 130., 130., 130., 130., 130., 130., 130., 130., 130., 130.,\n",
              "       130., 130., 130., 130., 130., 130., 130., 130., 130., 130., 130.,\n",
              "       130., 130., 130., 130., 130., 130., 130., 130., 130., 130., 130.,\n",
              "       130., 130., 130., 130., 130., 130., 130., 130., 130., 130., 130.,\n",
              "       130., 130., 130., 130., 130., 130., 130., 130., 130., 130., 130.,\n",
              "       130., 130., 130., 130., 130., 130., 130., 130., 130., 130., 130.,\n",
              "       130., 130., 130., 130., 130.])"
            ]
          },
          "metadata": {
            "tags": []
          },
          "execution_count": 343
        }
      ]
    },
    {
      "cell_type": "code",
      "metadata": {
        "colab": {
          "base_uri": "https://localhost:8080/",
          "height": 282
        },
        "id": "9hx0V10KThxs",
        "outputId": "f7ee218d-762b-454e-9a18-a65cf222fc01"
      },
      "source": [
        "import matplotlib.pyplot as plt\n",
        "\n",
        "plt.plot(predicted_RUL[16,:])\n",
        "plt.plot(y_train[16,:])"
      ],
      "execution_count": 344,
      "outputs": [
        {
          "output_type": "execute_result",
          "data": {
            "text/plain": [
              "[<matplotlib.lines.Line2D at 0x7fe12a670210>]"
            ]
          },
          "metadata": {
            "tags": []
          },
          "execution_count": 344
        },
        {
          "output_type": "display_data",
          "data": {
            "image/png": "[encoded data removed]",
            "text/plain": [
              "<Figure size 432x288 with 1 Axes>"
            ]
          },
          "metadata": {
            "tags": [],
            "needs_background": "light"
          }
        }
      ]
    },
    {
      "cell_type": "code",
      "metadata": {
        "id": "Ah_7F7fpNdFU"
      },
      "source": [
        "y_new = model.predict(X_test)\n"
      ],
      "execution_count": 258,
      "outputs": []
    },
    {
      "cell_type": "code",
      "metadata": {
        "colab": {
          "base_uri": "https://localhost:8080/",
          "height": 282
        },
        "id": "OG3hdCllOFjP",
        "outputId": "be73fcfe-5fe0-46e4-cf4b-024ef337dfab"
      },
      "source": [
        "import matplotlib.pyplot as plt\n",
        "predicted_RUL = np.zeros((146,126))\n",
        "for i in range(0,72):\n",
        "  for j in range(0,126):\n",
        "    predicted_RUL[i,j] = np.argmax(y_new[i,j,:])\n",
        "plt.plot(predicted_RUL[71])\n",
        "plt.plot(y_test[71])"
      ],
      "execution_count": 345,
      "outputs": [
        {
          "output_type": "execute_result",
          "data": {
            "text/plain": [
              "[<matplotlib.lines.Line2D at 0x7fe12a5d3610>]"
            ]
          },
          "metadata": {
            "tags": []
          },
          "execution_count": 345
        },
        {
          "output_type": "display_data",
          "data": {
            "image/png": "[encoded data removed]",
            "text/plain": [
              "<Figure size 432x288 with 1 Axes>"
            ]
          },
          "metadata": {
            "tags": [],
            "needs_background": "light"
          }
        }
      ]
    },
    {
      "cell_type": "code",
      "metadata": {
        "colab": {
          "base_uri": "https://localhost:8080/"
        },
        "id": "zF-F8MKjjnTR",
        "outputId": "8249db93-780f-449d-b5fc-017f542860b0"
      },
      "source": [
        "from keras.utils.np_utils import to_categorical\n",
        "RUL_tags_test = to_categorical(y_test,131)\n",
        "model.evaluate(X_test,RUL_tags_test)"
      ],
      "execution_count": 119,
      "outputs": [
        {
          "output_type": "stream",
          "text": [
            "3/3 [==============================] - 1s 17ms/step - loss: 1.2036\n"
          ],
          "name": "stdout"
        },
        {
          "output_type": "execute_result",
          "data": {
            "text/plain": [
              "1.2035949230194092"
            ]
          },
          "metadata": {
            "tags": []
          },
          "execution_count": 119
        }
      ]
    },
    {
      "cell_type": "code",
      "metadata": {
        "id": "1pZZ1mrBR3hZ"
      },
      "source": [
        "#read test\n",
        "data_valid = pd.read_csv('test.csv',sep=\",\")"
      ],
      "execution_count": 349,
      "outputs": []
    },
    {
      "cell_type": "code",
      "metadata": {
        "colab": {
          "base_uri": "https://localhost:8080/",
          "height": 241
        },
        "id": "u2nk_I3cdzsa",
        "outputId": "764837b9-3cc4-4bce-833c-1be4c1bd6887"
      },
      "source": [
        "data_valid.head()"
      ],
      "execution_count": 121,
      "outputs": [
        {
          "output_type": "execute_result",
          "data": {
            "text/html": [
              "<div>\n",
              "<style scoped>\n",
              "    .dataframe tbody tr th:only-of-type {\n",
              "        vertical-align: middle;\n",
              "    }\n",
              "\n",
              "    .dataframe tbody tr th {\n",
              "        vertical-align: top;\n",
              "    }\n",
              "\n",
              "    .dataframe thead th {\n",
              "        text-align: right;\n",
              "    }\n",
              "</style>\n",
              "<table border=\"1\" class=\"dataframe\">\n",
              "  <thead>\n",
              "    <tr style=\"text-align: right;\">\n",
              "      <th></th>\n",
              "      <th>Engine</th>\n",
              "      <th>Cycle</th>\n",
              "      <th>Setting 1</th>\n",
              "      <th>Setting 2</th>\n",
              "      <th>Setting 3</th>\n",
              "      <th>Sensor 1</th>\n",
              "      <th>Sensor 2</th>\n",
              "      <th>Sensor 3</th>\n",
              "      <th>Sensor 4</th>\n",
              "      <th>Sensor 5</th>\n",
              "      <th>Sensor 6</th>\n",
              "      <th>Sensor 7</th>\n",
              "      <th>Sensor 8</th>\n",
              "      <th>Sensor 9</th>\n",
              "      <th>Sensor 10</th>\n",
              "      <th>Sensor 11</th>\n",
              "      <th>Sensor 12</th>\n",
              "      <th>Sensor 13</th>\n",
              "      <th>Sensor 14</th>\n",
              "      <th>Sensor 15</th>\n",
              "      <th>Sensor 16</th>\n",
              "      <th>Sensor 17</th>\n",
              "      <th>Sensor 18</th>\n",
              "      <th>Sensor 19</th>\n",
              "      <th>Sensor 20</th>\n",
              "      <th>Sensor 21</th>\n",
              "    </tr>\n",
              "  </thead>\n",
              "  <tbody>\n",
              "    <tr>\n",
              "      <th>0</th>\n",
              "      <td>1</td>\n",
              "      <td>1</td>\n",
              "      <td>0.0016</td>\n",
              "      <td>0.0002</td>\n",
              "      <td>100</td>\n",
              "      <td>518.67</td>\n",
              "      <td>642.88</td>\n",
              "      <td>1587.21</td>\n",
              "      <td>1412.44</td>\n",
              "      <td>14.62</td>\n",
              "      <td>21.61</td>\n",
              "      <td>553.33</td>\n",
              "      <td>2388.12</td>\n",
              "      <td>9042.41</td>\n",
              "      <td>1.30</td>\n",
              "      <td>47.57</td>\n",
              "      <td>521.44</td>\n",
              "      <td>2388.10</td>\n",
              "      <td>8124.04</td>\n",
              "      <td>8.4363</td>\n",
              "      <td>0.03</td>\n",
              "      <td>393.0</td>\n",
              "      <td>2388.0</td>\n",
              "      <td>100.00</td>\n",
              "      <td>38.97</td>\n",
              "      <td>23.3029</td>\n",
              "    </tr>\n",
              "    <tr>\n",
              "      <th>1</th>\n",
              "      <td>1</td>\n",
              "      <td>2</td>\n",
              "      <td>24.9993</td>\n",
              "      <td>0.6215</td>\n",
              "      <td>80</td>\n",
              "      <td>462.54</td>\n",
              "      <td>536.45</td>\n",
              "      <td>1262.64</td>\n",
              "      <td>1055.44</td>\n",
              "      <td>7.05</td>\n",
              "      <td>9.02</td>\n",
              "      <td>175.04</td>\n",
              "      <td>1915.12</td>\n",
              "      <td>7983.34</td>\n",
              "      <td>0.94</td>\n",
              "      <td>36.81</td>\n",
              "      <td>164.32</td>\n",
              "      <td>2027.95</td>\n",
              "      <td>7865.20</td>\n",
              "      <td>10.8935</td>\n",
              "      <td>0.02</td>\n",
              "      <td>308.0</td>\n",
              "      <td>1915.0</td>\n",
              "      <td>84.93</td>\n",
              "      <td>14.29</td>\n",
              "      <td>8.6686</td>\n",
              "    </tr>\n",
              "    <tr>\n",
              "      <th>2</th>\n",
              "      <td>1</td>\n",
              "      <td>3</td>\n",
              "      <td>0.0004</td>\n",
              "      <td>0.0000</td>\n",
              "      <td>100</td>\n",
              "      <td>518.67</td>\n",
              "      <td>642.65</td>\n",
              "      <td>1589.75</td>\n",
              "      <td>1409.54</td>\n",
              "      <td>14.62</td>\n",
              "      <td>21.61</td>\n",
              "      <td>554.31</td>\n",
              "      <td>2388.18</td>\n",
              "      <td>9037.61</td>\n",
              "      <td>1.30</td>\n",
              "      <td>47.49</td>\n",
              "      <td>521.15</td>\n",
              "      <td>2388.19</td>\n",
              "      <td>8121.12</td>\n",
              "      <td>8.4620</td>\n",
              "      <td>0.03</td>\n",
              "      <td>393.0</td>\n",
              "      <td>2388.0</td>\n",
              "      <td>100.00</td>\n",
              "      <td>38.91</td>\n",
              "      <td>23.2693</td>\n",
              "    </tr>\n",
              "    <tr>\n",
              "      <th>3</th>\n",
              "      <td>1</td>\n",
              "      <td>4</td>\n",
              "      <td>10.0034</td>\n",
              "      <td>0.2500</td>\n",
              "      <td>20</td>\n",
              "      <td>489.05</td>\n",
              "      <td>604.44</td>\n",
              "      <td>1499.93</td>\n",
              "      <td>1315.34</td>\n",
              "      <td>10.52</td>\n",
              "      <td>15.49</td>\n",
              "      <td>393.88</td>\n",
              "      <td>2318.94</td>\n",
              "      <td>8761.83</td>\n",
              "      <td>1.26</td>\n",
              "      <td>45.41</td>\n",
              "      <td>371.42</td>\n",
              "      <td>2388.21</td>\n",
              "      <td>8123.53</td>\n",
              "      <td>8.6815</td>\n",
              "      <td>0.03</td>\n",
              "      <td>369.0</td>\n",
              "      <td>2319.0</td>\n",
              "      <td>100.00</td>\n",
              "      <td>28.60</td>\n",
              "      <td>17.0930</td>\n",
              "    </tr>\n",
              "    <tr>\n",
              "      <th>4</th>\n",
              "      <td>1</td>\n",
              "      <td>5</td>\n",
              "      <td>0.0024</td>\n",
              "      <td>0.0011</td>\n",
              "      <td>100</td>\n",
              "      <td>518.67</td>\n",
              "      <td>642.74</td>\n",
              "      <td>1585.47</td>\n",
              "      <td>1408.12</td>\n",
              "      <td>14.62</td>\n",
              "      <td>21.61</td>\n",
              "      <td>553.53</td>\n",
              "      <td>2388.13</td>\n",
              "      <td>9041.98</td>\n",
              "      <td>1.30</td>\n",
              "      <td>47.66</td>\n",
              "      <td>520.86</td>\n",
              "      <td>2388.13</td>\n",
              "      <td>8118.30</td>\n",
              "      <td>8.4617</td>\n",
              "      <td>0.03</td>\n",
              "      <td>392.0</td>\n",
              "      <td>2388.0</td>\n",
              "      <td>100.00</td>\n",
              "      <td>38.82</td>\n",
              "      <td>23.3124</td>\n",
              "    </tr>\n",
              "  </tbody>\n",
              "</table>\n",
              "</div>"
            ],
            "text/plain": [
              "   Engine  Cycle  Setting 1  ...  Sensor 19  Sensor 20  Sensor 21\n",
              "0       1      1     0.0016  ...     100.00      38.97    23.3029\n",
              "1       1      2    24.9993  ...      84.93      14.29     8.6686\n",
              "2       1      3     0.0004  ...     100.00      38.91    23.2693\n",
              "3       1      4    10.0034  ...     100.00      28.60    17.0930\n",
              "4       1      5     0.0024  ...     100.00      38.82    23.3124\n",
              "\n",
              "[5 rows x 26 columns]"
            ]
          },
          "metadata": {
            "tags": []
          },
          "execution_count": 121
        }
      ]
    },
    {
      "cell_type": "code",
      "metadata": {
        "id": "cxGKvlSRNCyk"
      },
      "source": [
        ""
      ],
      "execution_count": null,
      "outputs": []
    },
    {
      "cell_type": "code",
      "metadata": {
        "colab": {
          "base_uri": "https://localhost:8080/"
        },
        "id": "RERRiKI9SG3l",
        "outputId": "5d5b6437-c0dc-4a68-ed04-2522b8de8362"
      },
      "source": [
        "data.columns"
      ],
      "execution_count": 122,
      "outputs": [
        {
          "output_type": "execute_result",
          "data": {
            "text/plain": [
              "Index(['Unnamed: 0', 'Engine', 'Cycle', ' Setting 1', 'Setting 2', 'Setting 3',\n",
              "       'Sensor 1', 'Sensor 2', 'Sensor 3', 'Sensor 4', 'Sensor 5', 'Sensor 6',\n",
              "       'Sensor 7', 'Sensor 8', 'Sensor 9', 'Sensor 10', 'Sensor 11',\n",
              "       'Sensor 12', 'Sensor 13', 'Sensor 14', 'Sensor 15', 'Sensor 16',\n",
              "       'Sensor 17', 'Sensor 18', 'Sensor 19', 'Sensor 20', 'Sensor 21', 'RUL'],\n",
              "      dtype='object')"
            ]
          },
          "metadata": {
            "tags": []
          },
          "execution_count": 122
        }
      ]
    },
    {
      "cell_type": "code",
      "metadata": {
        "id": "fRNnbbsVZrsP"
      },
      "source": [
        "#load dataset\n",
        "from numpy import loadtxt\n",
        "dataset = data_valid.to_numpy()\n",
        "X_valid = dataset[:,2:27]\n"
      ],
      "execution_count": 350,
      "outputs": []
    },
    {
      "cell_type": "code",
      "metadata": {
        "colab": {
          "base_uri": "https://localhost:8080/"
        },
        "id": "G394R_Ba7jwB",
        "outputId": "cca0c852-ada8-4944-cd9c-12c6d20161c3"
      },
      "source": [
        "X_valid.shape"
      ],
      "execution_count": 351,
      "outputs": [
        {
          "output_type": "execute_result",
          "data": {
            "text/plain": [
              "(29820, 24)"
            ]
          },
          "metadata": {
            "tags": []
          },
          "execution_count": 351
        }
      ]
    },
    {
      "cell_type": "code",
      "metadata": {
        "id": "p6f0p911SMIj"
      },
      "source": [
        "engine_old = 1\n",
        "cycle_old = 1\n",
        "last_cycle = []\n",
        "for index, row in data.iterrows():\n",
        "  engine = row['Engine']\n",
        "  cycle = row['Cycle']\n",
        "  if engine > engine_old :\n",
        "    last_cycle.append(cycle_old)\n",
        "    engine_old = engine\n",
        "    cycle_old = cycle\n",
        "  else:\n",
        "    cycle_old = cycle\n",
        "last_cycle.append(data['Cycle'].iloc[-1])   "
      ],
      "execution_count": 127,
      "outputs": []
    },
    {
      "cell_type": "code",
      "metadata": {
        "colab": {
          "base_uri": "https://localhost:8080/"
        },
        "id": "ILRkrAQCaiJT",
        "outputId": "eb7bf654-8a72-4ae5-d8e0-2fa97f9a0efb"
      },
      "source": [
        "print(min(last_cycle))"
      ],
      "execution_count": 128,
      "outputs": [
        {
          "output_type": "stream",
          "text": [
            "128.0\n"
          ],
          "name": "stdout"
        }
      ]
    },
    {
      "cell_type": "code",
      "metadata": {
        "id": "PFKdTt6KTgbu"
      },
      "source": [
        "#need to reshape X into 3D: engine x cycle x sensor\n",
        "#for fist step, keep it symmetrical and use the lowest number of cycles in dataset\n",
        "#Y then becomes \n",
        "X_valid_new=np.empty(shape=(218,126,25))\n",
        "\n",
        "#i would be number of engines\n",
        "counter = 0\n",
        "for i in range(0,218):\n",
        "  #print('i=',i)\n",
        "  # j would be number of cycles\n",
        "  for j in range(0,126):\n",
        "    #print('j=',j)\n",
        "    #k would be number of sensors\n",
        "    for k in range(0,24):\n",
        "      #print('k=',k)\n",
        "      #print('counter',counter)\n",
        "      X_valid_new[i,j,k]=X[counter,k]\n",
        "\n",
        "    if j == 0:\n",
        "      counter = counter + (int(last_cycle[i]) - 126) + 1\n",
        "    else: \n",
        "      counter = counter + 1"
      ],
      "execution_count": 129,
      "outputs": []
    },
    {
      "cell_type": "code",
      "metadata": {
        "id": "7HkxtLZSVoq2"
      },
      "source": [
        ""
      ],
      "execution_count": null,
      "outputs": []
    },
    {
      "cell_type": "code",
      "metadata": {
        "colab": {
          "base_uri": "https://localhost:8080/"
        },
        "id": "i_D3wy30VRAw",
        "outputId": "a0f97776-f886-4076-9f6d-610c72108c22"
      },
      "source": [
        "print(last_cycle)"
      ],
      "execution_count": null,
      "outputs": [
        {
          "output_type": "stream",
          "text": [
            "[54.0, 157.0, 116.0, 74.0, 218.0, 151.0, 116.0, 287.0, 167.0, 177.0, 69.0, 224.0, 248.0, 93.0, 61.0, 138.0, 95.0, 135.0, 145.0, 145.0, 215.0, 129.0, 144.0, 16.0, 76.0, 79.0, 149.0, 39.0, 117.0, 156.0, 364.0, 79.0, 80.0, 52.0, 60.0, 181.0, 165.0, 89.0, 182.0, 126.0, 112.0, 202.0, 128.0, 150.0, 136.0, 120.0, 117.0, 242.0, 149.0, 179.0, 91.0, 129.0, 167.0, 143.0, 130.0, 152.0, 77.0, 164.0, 58.0, 80.0, 148.0, 163.0, 181.0, 258.0, 55.0, 183.0, 150.0, 93.0, 121.0, 153.0, 154.0, 132.0, 123.0, 56.0, 86.0, 188.0, 203.0, 109.0, 88.0, 73.0, 150.0, 124.0, 108.0, 51.0, 194.0, 87.0, 45.0, 122.0, 189.0, 23.0, 150.0, 72.0, 110.0, 125.0, 256.0, 70.0, 25.0, 209.0, 96.0, 80.0, 187.0, 132.0, 140.0, 127.0, 138.0, 234.0, 178.0, 89.0, 181.0, 138.0, 249.0, 275.0, 136.0, 159.0, 102.0, 221.0, 191.0, 78.0, 148.0, 190.0, 82.0, 177.0, 195.0, 134.0, 75.0, 169.0, 133.0, 115.0, 100.0, 187.0, 26.0, 163.0, 93.0, 280.0, 205.0, 186.0, 108.0, 134.0, 159.0, 154.0, 168.0, 185.0, 48.0, 107.0, 169.0, 44.0, 197.0, 238.0, 204.0, 15.0, 49.0, 117.0, 104.0, 116.0, 115.0, 103.0, 123.0, 122.0, 200.0, 125.0, 194.0, 220.0, 133.0, 28.0, 217.0, 73.0, 168.0, 81.0, 181.0, 119.0, 152.0, 167.0, 49.0, 198.0, 133.0, 102.0, 185.0, 236.0, 191.0, 85.0, 38.0, 174.0, 139.0, 117.0, 38.0, 59.0, 200.0, 69.0, 260.0, 35.0, 142.0, 155.0, 130.0, 139.0, 154.0, 166.0, 120.0, 103.0, 202.0, 248.0, 129.0, 224.0, 91.0, 189.0, 47.0, 176.0, 188.0, 134.0, 157.0, 109.0, 141.0, 216.0, 147.0, 175.0, 68.0, 33.0, 92.0]\n"
          ],
          "name": "stdout"
        }
      ]
    },
    {
      "cell_type": "code",
      "metadata": {
        "colab": {
          "base_uri": "https://localhost:8080/"
        },
        "id": "P-KmrHHMG9RQ",
        "outputId": "c7658863-44d9-4b6d-c0f9-03b2807c926f"
      },
      "source": [
        "print(len(last_cycle))"
      ],
      "execution_count": null,
      "outputs": [
        {
          "output_type": "stream",
          "text": [
            "218\n"
          ],
          "name": "stdout"
        }
      ]
    },
    {
      "cell_type": "code",
      "metadata": {
        "id": "YitpU6r5mak0"
      },
      "source": [
        "list_of_columns = data.columns"
      ],
      "execution_count": null,
      "outputs": []
    },
    {
      "cell_type": "code",
      "metadata": {
        "colab": {
          "base_uri": "https://localhost:8080/"
        },
        "id": "9PyE9xMhgoaM",
        "outputId": "80d1b8b9-bb6a-4850-98c6-5135f1bdc84c"
      },
      "source": [
        "data.columns"
      ],
      "execution_count": null,
      "outputs": [
        {
          "output_type": "execute_result",
          "data": {
            "text/plain": [
              "Index(['Engine', 'Cycle', 'Setting 1', 'Setting 2', 'Setting 3', 'Sensor 1',\n",
              "       'Sensor 2', 'Sensor 3', 'Sensor 4', 'Sensor 5', 'Sensor 6', 'Sensor 7',\n",
              "       'Sensor 8', 'Sensor 9', 'Sensor 10', 'Sensor 11', 'Sensor 12',\n",
              "       'Sensor 13', 'Sensor 14', 'Sensor 15', 'Sensor 16', 'Sensor 17',\n",
              "       'Sensor 18', 'Sensor 19', 'Sensor 20', 'Sensor 21'],\n",
              "      dtype='object')"
            ]
          },
          "metadata": {
            "tags": []
          },
          "execution_count": 443
        }
      ]
    },
    {
      "cell_type": "code",
      "metadata": {
        "id": "RUzBa6EWXt_m"
      },
      "source": [
        ""
      ],
      "execution_count": null,
      "outputs": []
    },
    {
      "cell_type": "code",
      "metadata": {
        "id": "6TWNt3ZCVTxZ"
      },
      "source": [
        "RUL_tags_valid = model.predict(X_valid_new)\n",
        "\n"
      ],
      "execution_count": 168,
      "outputs": []
    },
    {
      "cell_type": "code",
      "metadata": {
        "colab": {
          "base_uri": "https://localhost:8080/"
        },
        "id": "goZmy7BKbVdC",
        "outputId": "88dcb2f3-06a4-4086-b1ab-6fe40ccbae59"
      },
      "source": [
        "RUL_tags_valid.shape"
      ],
      "execution_count": 169,
      "outputs": [
        {
          "output_type": "execute_result",
          "data": {
            "text/plain": [
              "(218, 126, 131)"
            ]
          },
          "metadata": {
            "tags": []
          },
          "execution_count": 169
        }
      ]
    },
    {
      "cell_type": "code",
      "metadata": {
        "colab": {
          "base_uri": "https://localhost:8080/",
          "height": 282
        },
        "id": "_Jg7KGjVYIIS",
        "outputId": "26251535-fa3c-4c35-e3a7-eb2d4879ddf3"
      },
      "source": [
        "#let's look at the predictions\n",
        "predicted_RUL = np.zeros((146,126))\n",
        "for i in range(0,72):\n",
        "  for j in range(0,126):\n",
        "    predicted_RUL[i,j] = np.argmax(RUL_tags_valid[i,j,:])\n",
        "\n",
        "\n",
        "plt.plot(predicted_RUL[25])"
      ],
      "execution_count": 170,
      "outputs": [
        {
          "output_type": "execute_result",
          "data": {
            "text/plain": [
              "[<matplotlib.lines.Line2D at 0x7fe13349fd50>]"
            ]
          },
          "metadata": {
            "tags": []
          },
          "execution_count": 170
        },
        {
          "output_type": "display_data",
          "data": {
            "image/png": "[encoded data removed]",
            "text/plain": [
              "<Figure size 432x288 with 1 Axes>"
            ]
          },
          "metadata": {
            "tags": [],
            "needs_background": "light"
          }
        }
      ]
    },
    {
      "cell_type": "code",
      "metadata": {
        "id": "q1jsoqXfZBTg"
      },
      "source": [
        "#let's get the last elements\n",
        "last_element = []\n",
        "for i in range(len(predicted_RUL)):\n",
        "  ylen = len(predicted_RUL[i])\n",
        "  #print(ylen)\n",
        "  y = predicted_RUL[i]\n",
        "  a = y[ylen-1] \n",
        "  #print(a)\n",
        "  last_element.append(int(a))"
      ],
      "execution_count": 171,
      "outputs": []
    },
    {
      "cell_type": "code",
      "metadata": {
        "colab": {
          "base_uri": "https://localhost:8080/"
        },
        "id": "VPolt-2dZy-Y",
        "outputId": "f3292d6d-5841-4bfe-a68e-be4288c0c8a0"
      },
      "source": [
        "print(last_element)"
      ],
      "execution_count": 172,
      "outputs": [
        {
          "output_type": "stream",
          "text": [
            "[80, 99, 101, 101, 98, 87, 87, 87, 87, 87, 87, 87, 87, 87, 25, 0, 0, 0, 0, 0, 0, 0, 0, 0, 0, 0, 0, 0, 0, 0, 0, 0, 0, 0, 0, 0, 0, 0, 0, 0, 0, 0, 0, 0, 0, 0, 0, 0, 0, 0, 0, 0, 0, 0, 0, 0, 0, 0, 0, 0, 0, 0, 0, 0, 0, 0, 0, 0, 0, 0, 0, 0, 0, 0, 0, 0, 0, 0, 0, 0, 0, 0, 0, 0, 0, 0, 0, 0, 0, 0, 0, 0, 0, 0, 0, 0, 0, 0, 0, 0, 0, 0, 0, 0, 0, 0, 0, 0, 0, 0, 0, 0, 0, 0, 0, 0, 0, 0, 0, 0, 0, 0, 0, 0, 0, 0, 0, 0, 0, 0, 0, 0, 0, 0, 0, 0, 0, 0, 0, 0, 0, 0, 0, 0, 0, 0]\n"
          ],
          "name": "stdout"
        }
      ]
    },
    {
      "cell_type": "code",
      "metadata": {
        "colab": {
          "base_uri": "https://localhost:8080/"
        },
        "id": "KBvcOjgHLI03",
        "outputId": "693bfd6b-a724-41cf-ed0d-3e0613211d01"
      },
      "source": [
        "len(last_element)"
      ],
      "execution_count": null,
      "outputs": [
        {
          "output_type": "execute_result",
          "data": {
            "text/plain": [
              "218"
            ]
          },
          "metadata": {
            "tags": []
          },
          "execution_count": 234
        }
      ]
    },
    {
      "cell_type": "code",
      "metadata": {
        "id": "9yuCT2iGLLZx"
      },
      "source": [
        "print(predictions[216])"
      ],
      "execution_count": null,
      "outputs": []
    },
    {
      "cell_type": "code",
      "metadata": {
        "id": "_dAshmRtZ6H5"
      },
      "source": [
        "with open('test_rul_averaged.txt', 'w') as filehandle:\n",
        "    for item in last_element:\n",
        "        filehandle.write('%s\\n' % item)"
      ],
      "execution_count": null,
      "outputs": []
    },
    {
      "cell_type": "code",
      "metadata": {
        "id": "IU85DxOOeZ_2"
      },
      "source": [
        "#read test\n",
        "data = pd.read_csv('train_rul.csv',sep=\",\")"
      ],
      "execution_count": null,
      "outputs": []
    },
    {
      "cell_type": "code",
      "metadata": {
        "id": "eY1bnFNlemMN"
      },
      "source": [
        "engine_old = 1\n",
        "cycle_old = 1\n",
        "last_cycle = []\n",
        "for index, row in data.iterrows():\n",
        "  engine = row['Engine']\n",
        "  cycle = row['Cycle']\n",
        "  if engine > engine_old :\n",
        "    last_cycle.append(cycle_old)\n",
        "    engine_old = engine\n",
        "    cycle_old = cycle\n",
        "  else:\n",
        "    cycle_old = cycle"
      ],
      "execution_count": null,
      "outputs": []
    },
    {
      "cell_type": "code",
      "metadata": {
        "id": "-NQjqY1hephH"
      },
      "source": [
        "last_cycle.append(data['Cycle'].iloc[-1])"
      ],
      "execution_count": null,
      "outputs": []
    }
  ]
}